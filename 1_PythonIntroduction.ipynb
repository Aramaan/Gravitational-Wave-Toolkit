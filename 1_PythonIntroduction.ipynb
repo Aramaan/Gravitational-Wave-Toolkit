{
  "cells": [
    {
      "metadata": {
        "trusted": true
      },
      "cell_type": "markdown",
      "source": "\n\n## An Introduction to Python for Physicists"
    },
    {
      "metadata": {
        "trusted": true
      },
      "cell_type": "markdown",
      "source": "This lesson teaches the basics of Python and its usefulness to us as physicists. "
    },
    {
      "metadata": {},
      "cell_type": "markdown",
      "source": "#### Getting started with Python\n\nPython is an extremely versatile, straightforward coding language. This allows many people to use it and contribute across many different disciplines. Python is also absurdly high-level, which means many aspects of coding are taken care of behind the scenes, allowing it to read almost like English. Programming is an essential skill for any aspiring physicist, as it greatly increases our capacity to perform computations and data processing in a relatively short amount of time. "
    },
    {
      "metadata": {},
      "cell_type": "markdown",
      "source": "#### Getting started with Jupyter\n\nThroughout this workbook, you'll see sections of code in executable code. All are meant to be run, and some may require you to write or modify code yourself in order for them to work. In order to execute a block of code, click inside the box and then either press \"Run\" at the top of your screen or press Shift-Enter together."
    },
    {
      "metadata": {},
      "cell_type": "markdown",
      "source": "### The Basics of Python: Variables and Computations, Input and Output"
    },
    {
      "metadata": {},
      "cell_type": "markdown",
      "source": "#### 1.1 Variables\n\nComputing languages use *variables* to store and manipulate data. We'll learn about four common variable types in Python:\n - Strings `string`\n - Integers `int`\n - Float `float`\n - Booleans `bool`"
    },
    {
      "metadata": {},
      "cell_type": "markdown",
      "source": "A string is a word or a sentence or a conglomeration of letters and numbers. It's literally a *string* of characters, so you can put pretty much anything in it; put double quotes around it to mark it as a string."
    },
    {
      "metadata": {
        "trusted": true
      },
      "cell_type": "code",
      "source": "\"hi\"",
      "execution_count": 1,
      "outputs": [
        {
          "output_type": "execute_result",
          "execution_count": 1,
          "data": {
            "text/plain": "'hi'"
          },
          "metadata": {}
        }
      ]
    },
    {
      "metadata": {},
      "cell_type": "markdown",
      "source": "Integers and floats are both numbers. The difference is a float is allowed to have a decimal point. For example, `5` can be an integer or a float, but `5.0` must be a float. Write an example of a float below."
    },
    {
      "metadata": {
        "trusted": true
      },
      "cell_type": "code",
      "source": "",
      "execution_count": null,
      "outputs": []
    },
    {
      "metadata": {},
      "cell_type": "markdown",
      "source": "Finally, a boolean is a variable with only two options: `True` or `False`. These will be used more in conditional logic, which we'll talk about later."
    },
    {
      "metadata": {},
      "cell_type": "markdown",
      "source": "We can create variables of any of these types to store information. For example, we can name one variable `x` and one variable `y`, and assign values to these variables:"
    },
    {
      "metadata": {
        "trusted": true
      },
      "cell_type": "code",
      "source": "x=3\ny=2",
      "execution_count": 7,
      "outputs": []
    },
    {
      "metadata": {},
      "cell_type": "markdown",
      "source": "And we can create a third variable, `z`, from the combination of `x` and `y`:"
    },
    {
      "metadata": {
        "trusted": true
      },
      "cell_type": "code",
      "source": "z=x+y",
      "execution_count": 8,
      "outputs": []
    },
    {
      "metadata": {},
      "cell_type": "markdown",
      "source": "Now you try! Create a `string` below and assign it to the variable `name`:"
    },
    {
      "metadata": {
        "trusted": true
      },
      "cell_type": "code",
      "source": "name=",
      "execution_count": 9,
      "outputs": [
        {
          "output_type": "error",
          "ename": "SyntaxError",
          "evalue": "invalid syntax (<ipython-input-9-7c59b7acc47a>, line 1)",
          "traceback": [
            "\u001b[0;36m  File \u001b[0;32m\"<ipython-input-9-7c59b7acc47a>\"\u001b[0;36m, line \u001b[0;32m1\u001b[0m\n\u001b[0;31m    name=\u001b[0m\n\u001b[0m         ^\u001b[0m\n\u001b[0;31mSyntaxError\u001b[0m\u001b[0;31m:\u001b[0m invalid syntax\n"
          ]
        }
      ]
    },
    {
      "metadata": {},
      "cell_type": "markdown",
      "source": "When you choose variable names, make sure to select ones that make sense and provide information about their use. Python is case-sensitive, so the variable `name` is *different than* the variable `Name`. Generally, if you want to name a variable something with multiple words, separate the words with an underscore, as follows:\n\n`favorite_food`\n\nConventions like these help other people and potentially you read and understand your code better."
    },
    {
      "metadata": {},
      "cell_type": "markdown",
      "source": "#### 1.2 Print Statements\n\nBefore we are able to begin any math, we need a way for the computer to be able to talk to us. We call the results of any program we write the \"output\". One way to produce output is through Python's `print` statement. This print function allows us to write something to our computer screen with the following format:  \n\n`print(\" *insert here* \")` \n\nSo, if you want to say \"`Hello World`\", "
    },
    {
      "metadata": {
        "trusted": true
      },
      "cell_type": "code",
      "source": " print(\"Hello World\")",
      "execution_count": 10,
      "outputs": [
        {
          "output_type": "stream",
          "text": "Hello World\n",
          "name": "stdout"
        }
      ]
    },
    {
      "metadata": {},
      "cell_type": "markdown",
      "source": "You can print any of the basic variables, and you only have to put quotes `\"\"` around strings. Let's print an integer! Write your age in the `print` statement below."
    },
    {
      "metadata": {
        "trusted": true
      },
      "cell_type": "code",
      "source": "print()",
      "execution_count": 11,
      "outputs": [
        {
          "output_type": "stream",
          "text": "\n",
          "name": "stdout"
        }
      ]
    },
    {
      "metadata": {},
      "cell_type": "markdown",
      "source": "Let's retrieve the information we stored earlier in the variable `z`."
    },
    {
      "metadata": {
        "trusted": true
      },
      "cell_type": "code",
      "source": "print(z)",
      "execution_count": 12,
      "outputs": [
        {
          "output_type": "stream",
          "text": "5\n",
          "name": "stdout"
        }
      ]
    },
    {
      "metadata": {},
      "cell_type": "markdown",
      "source": "The computer may have given you an error here. Errors indicate that you've written something that the computer can't understand. This may be a syntax mistake or a wrong type, like if you tried to divide a string by an integer. In this case, that would be because you didn't run the code above to store `x`, `y`, and `z`. If you run that code and then come back here, the error should be resolved.\n\nNow, let's try to do calculations within the print statement. Can we add two integers and print out the result?"
    },
    {
      "metadata": {
        "trusted": true
      },
      "cell_type": "code",
      "source": "print(2+1)",
      "execution_count": 13,
      "outputs": [
        {
          "output_type": "stream",
          "text": "3\n",
          "name": "stdout"
        }
      ]
    },
    {
      "metadata": {
        "trusted": true
      },
      "cell_type": "code",
      "source": "print (2-1)",
      "execution_count": 14,
      "outputs": [
        {
          "output_type": "stream",
          "text": "1\n",
          "name": "stdout"
        }
      ]
    },
    {
      "metadata": {},
      "cell_type": "markdown",
      "source": "We can add and subtract inside a print statement just as well as with variables. \n\nCan you add two strings? *When adding strings, quotes (\" \") must go around each separate string, **not** the plus sign.*"
    },
    {
      "metadata": {
        "trusted": true
      },
      "cell_type": "code",
      "source": "print (\"Yes, \" + \"you can\")",
      "execution_count": 15,
      "outputs": [
        {
          "output_type": "stream",
          "text": "Yes, you can\n",
          "name": "stdout"
        }
      ]
    },
    {
      "metadata": {},
      "cell_type": "markdown",
      "source": "What about subtraction?"
    },
    {
      "metadata": {
        "trusted": true
      },
      "cell_type": "code",
      "source": "print(\"NO\" - \"you cannot\")",
      "execution_count": 16,
      "outputs": [
        {
          "output_type": "error",
          "ename": "TypeError",
          "evalue": "unsupported operand type(s) for -: 'str' and 'str'",
          "traceback": [
            "\u001b[0;31m---------------------------------------------------------------------------\u001b[0m",
            "\u001b[0;31mTypeError\u001b[0m                                 Traceback (most recent call last)",
            "\u001b[0;32m<ipython-input-16-4747f9f956c0>\u001b[0m in \u001b[0;36m<module>\u001b[0;34m\u001b[0m\n\u001b[0;32m----> 1\u001b[0;31m \u001b[0mprint\u001b[0m\u001b[0;34m(\u001b[0m\u001b[0;34m\"NO\"\u001b[0m \u001b[0;34m-\u001b[0m \u001b[0;34m\"you cannot\"\u001b[0m\u001b[0;34m)\u001b[0m\u001b[0;34m\u001b[0m\u001b[0m\n\u001b[0m",
            "\u001b[0;31mTypeError\u001b[0m: unsupported operand type(s) for -: 'str' and 'str'"
          ]
        }
      ]
    },
    {
      "metadata": {},
      "cell_type": "markdown",
      "source": "The error tells us that we've tried to do something the computer doesn't understand: subtract strings. This is a `TypeError`, indicating that you might've mixed up the types of variables you've used. Other common errors you may encounter include:\n- Syntax Error: This is the coding equivalent of bad grammar. Perhaps you added an extra parenthesis or forgot a quotation mark?\n- Runtime Error: This could be any number of things; perhaps you called a string an integer or vice versa. \"Runtime\" just means it looked fine to the computer, and the error didn't occur until it actually had to run the code.\n- Logic Error: These will not show up as error messages. This category includes anything that might throw your calculations off even if the code executed perfectly, like if you miswrote the area for a triangle as `base*height*2`. These are the hardest to catch!!\n\nPay attention to error messages; they can help you figure out what you did wrong."
    },
    {
      "metadata": {},
      "cell_type": "markdown",
      "source": "We can also use a comma to add two strings:"
    },
    {
      "metadata": {
        "trusted": true
      },
      "cell_type": "code",
      "source": "print(\"Galileo\",\"Newton\")",
      "execution_count": 17,
      "outputs": [
        {
          "output_type": "stream",
          "text": "Galileo Newton\n",
          "name": "stdout"
        }
      ]
    },
    {
      "metadata": {},
      "cell_type": "markdown",
      "source": "Now see what happens when you write two different print statements:"
    },
    {
      "metadata": {
        "trusted": true
      },
      "cell_type": "code",
      "source": "print(\"Electricity and\")\nprint(\"Magnetism\")",
      "execution_count": 18,
      "outputs": [
        {
          "output_type": "stream",
          "text": "Electricity and\nMagnetism\n",
          "name": "stdout"
        }
      ]
    },
    {
      "metadata": {},
      "cell_type": "markdown",
      "source": "Try some Multipication and Division down below."
    },
    {
      "metadata": {
        "trusted": true
      },
      "cell_type": "code",
      "source": "",
      "execution_count": null,
      "outputs": []
    },
    {
      "metadata": {
        "trusted": true
      },
      "cell_type": "code",
      "source": "",
      "execution_count": null,
      "outputs": []
    },
    {
      "metadata": {},
      "cell_type": "markdown",
      "source": "Python also allows multiplication of strings and integers. This feature is fairly unique to this language and won't often be needed in your studies; however, you should try it out down below. We're retrieving the variable `name` you assigned earlier and multiplying it..."
    },
    {
      "metadata": {
        "trusted": true
      },
      "cell_type": "code",
      "source": "print(name*100)",
      "execution_count": 19,
      "outputs": [
        {
          "output_type": "error",
          "ename": "NameError",
          "evalue": "name 'name' is not defined",
          "traceback": [
            "\u001b[0;31m---------------------------------------------------------------------------\u001b[0m",
            "\u001b[0;31mNameError\u001b[0m                                 Traceback (most recent call last)",
            "\u001b[0;32m<ipython-input-19-a1e5fb3ebcd9>\u001b[0m in \u001b[0;36m<module>\u001b[0;34m\u001b[0m\n\u001b[0;32m----> 1\u001b[0;31m \u001b[0mprint\u001b[0m\u001b[0;34m(\u001b[0m\u001b[0mname\u001b[0m\u001b[0;34m*\u001b[0m\u001b[0;36m100\u001b[0m\u001b[0;34m)\u001b[0m\u001b[0;34m\u001b[0m\u001b[0m\n\u001b[0m",
            "\u001b[0;31mNameError\u001b[0m: name 'name' is not defined"
          ]
        }
      ]
    },
    {
      "metadata": {},
      "cell_type": "markdown",
      "source": "#### 1.3 Input\n\nWhile the `print` statement displays output, we can also read in input with the `input` command. This command can take no parameters, as follows:"
    },
    {
      "metadata": {
        "trusted": true
      },
      "cell_type": "code",
      "source": "input()",
      "execution_count": 1,
      "outputs": [
        {
          "output_type": "stream",
          "name": "stdout",
          "text": "3\n"
        },
        {
          "output_type": "execute_result",
          "execution_count": 1,
          "data": {
            "text/plain": "'3'"
          },
          "metadata": {}
        }
      ]
    },
    {
      "metadata": {},
      "cell_type": "markdown",
      "source": "Or, it can take a parameter than prompts the user:"
    },
    {
      "metadata": {
        "trusted": true
      },
      "cell_type": "code",
      "source": "input(\"What's your favorite color? \")",
      "execution_count": 2,
      "outputs": [
        {
          "output_type": "stream",
          "name": "stdout",
          "text": "What's your favorite color? blue\n"
        },
        {
          "output_type": "execute_result",
          "execution_count": 2,
          "data": {
            "text/plain": "'blue'"
          },
          "metadata": {}
        }
      ]
    },
    {
      "metadata": {},
      "cell_type": "markdown",
      "source": "If you want to make sure the input is a certain type, you can do what's called \"casting\" to that type."
    },
    {
      "metadata": {
        "trusted": true
      },
      "cell_type": "code",
      "source": "int(input(\"Number between 1 and 10: \"))",
      "execution_count": 4,
      "outputs": [
        {
          "output_type": "stream",
          "name": "stdout",
          "text": "Number between 1 and 10: hi\n"
        },
        {
          "output_type": "error",
          "ename": "ValueError",
          "evalue": "invalid literal for int() with base 10: 'hi'",
          "traceback": [
            "\u001b[0;31m---------------------------------------------------------------------------\u001b[0m",
            "\u001b[0;31mValueError\u001b[0m                                Traceback (most recent call last)",
            "\u001b[0;32m<ipython-input-4-374ce556803e>\u001b[0m in \u001b[0;36m<module>\u001b[0;34m\u001b[0m\n\u001b[0;32m----> 1\u001b[0;31m \u001b[0mint\u001b[0m\u001b[0;34m(\u001b[0m\u001b[0minput\u001b[0m\u001b[0;34m(\u001b[0m\u001b[0;34m\"Number between 1 and 10: \"\u001b[0m\u001b[0;34m)\u001b[0m\u001b[0;34m)\u001b[0m\u001b[0;34m\u001b[0m\u001b[0m\n\u001b[0m",
            "\u001b[0;31mValueError\u001b[0m: invalid literal for int() with base 10: 'hi'"
          ]
        }
      ]
    },
    {
      "metadata": {},
      "cell_type": "markdown",
      "source": "If the user gives the wrong input type, the program will throw an error. Try running the above cell again, and this time give it a `string` or `float`. You'll get a `ValueError`, which is similar to a `TypeError`."
    },
    {
      "metadata": {},
      "cell_type": "markdown",
      "source": "Now, ask the user to input their name and age, and type-cast their age to a `float`:"
    },
    {
      "metadata": {
        "trusted": true
      },
      "cell_type": "code",
      "source": "",
      "execution_count": null,
      "outputs": []
    },
    {
      "metadata": {},
      "cell_type": "markdown",
      "source": "Ask the user to input the number of siblings they have, and print out that number multiplied by 3."
    },
    {
      "metadata": {
        "trusted": true
      },
      "cell_type": "code",
      "source": "",
      "execution_count": null,
      "outputs": []
    },
    {
      "metadata": {},
      "cell_type": "markdown",
      "source": "#### 1.4 Computations\n\nPrograms are immensely useful for performing computations. Expressions are evaluated according to the order of operations, which is, in order from highest to lowest precedence:\n1. Parentheses `(` `)`\n2. Exponents `x**y` (equivalent to $x^y$)\n3. Multiplication and division `x*y` or `x/y`\n4. Addition and subtraction `x+y` or `x-y`\n\nOther calculation functions, like `math.sqrt()`, can be found on your function cheat sheet."
    },
    {
      "metadata": {},
      "cell_type": "markdown",
      "source": "For the following problems, write out the equation and assign it to a variable, then print out the result. You may use as many intermediate variables as needed."
    },
    {
      "metadata": {},
      "cell_type": "markdown",
      "source": "$$4+3*\\frac{7}{2}$$"
    },
    {
      "metadata": {
        "trusted": true
      },
      "cell_type": "code",
      "source": "",
      "execution_count": null,
      "outputs": []
    },
    {
      "metadata": {},
      "cell_type": "markdown",
      "source": "$$6.21*10^{4+1}$$"
    },
    {
      "metadata": {
        "trusted": true
      },
      "cell_type": "code",
      "source": "",
      "execution_count": null,
      "outputs": []
    },
    {
      "metadata": {},
      "cell_type": "markdown",
      "source": "$$\\sqrt{3+2\\left(4^2*7\\right)}-36$$"
    },
    {
      "metadata": {
        "trusted": true
      },
      "cell_type": "code",
      "source": "",
      "execution_count": null,
      "outputs": []
    },
    {
      "metadata": {},
      "cell_type": "markdown",
      "source": "#### 1.5 Booleans\n\nIf this is your first exposure to programming, booleans are likely the least familiar variable to you. A boolean variable has a binary state, either `true` or `false` (this is analagous to a 1 or 0 on a computer bit, or the \"on\" or \"off\" state of a light switch). Booleans can be combined in various ways, but they cannot be combined with any other variable types, and the operators used are somewhat different for booleans.\n\nThe simplest operations for booleans are `not`, `and`, and `or`, with that order of operations. These are as follows:"
    },
    {
      "metadata": {
        "trusted": true
      },
      "cell_type": "code",
      "source": "print(True)\nprint(not True)",
      "execution_count": 2,
      "outputs": [
        {
          "output_type": "stream",
          "text": "True\nFalse\n",
          "name": "stdout"
        }
      ]
    },
    {
      "metadata": {},
      "cell_type": "markdown",
      "source": "The `not` operator flips a boolean, from `True` to `False` or vice versa. It will be evaluated first."
    },
    {
      "metadata": {
        "trusted": true
      },
      "cell_type": "code",
      "source": "print(True and True)\nprint(True and False)\nprint(False and False)",
      "execution_count": 3,
      "outputs": [
        {
          "output_type": "stream",
          "text": "True\nFalse\nFalse\n",
          "name": "stdout"
        }
      ]
    },
    {
      "metadata": {},
      "cell_type": "markdown",
      "source": "The `and` operator returns `True` if and only if *both sides* evaluate to `True`."
    },
    {
      "metadata": {
        "trusted": true
      },
      "cell_type": "code",
      "source": "print(True or True)\nprint(True or False)\nprint(False or False)",
      "execution_count": 4,
      "outputs": [
        {
          "output_type": "stream",
          "text": "True\nTrue\nFalse\n",
          "name": "stdout"
        }
      ]
    },
    {
      "metadata": {},
      "cell_type": "markdown",
      "source": "The `or` operator return `True` if *at least one"
    },
    {
      "metadata": {
        "trusted": true
      },
      "cell_type": "markdown",
      "source": "### The Basics of Python: Functions, Conditionals, and Loops"
    },
    {
      "metadata": {},
      "cell_type": "markdown",
      "source": "#### 2.1 What is a Function\n\nCoding used to be a long line of instructions executed sequentially. To make it more efficient, programming languages started to introduce *functions*, which are a way to package several commands into one. \n\nLet's take this out of the context of coding. If you want to make a PB&J sandwich, you might put down a piece of bread, then peanut butter, then jelly, then another piece of bread. This could look like the following code:"
    },
    {
      "metadata": {
        "trusted": true
      },
      "cell_type": "code",
      "source": "def make_sandwich():\n    sandwich = \"bread\"\n    sandwich += \" and peanut butter\"\n    sandwich += \" and jelly\"\n    sandwich += \" and bread\"\n    return sandwich",
      "execution_count": 1,
      "outputs": []
    },
    {
      "metadata": {},
      "cell_type": "markdown",
      "source": "There's a couple important points to note about the syntax above. A function is marked by the key word `def` and it must have a colon `:` after the name. Each line that is part of the function **must be indented** to show the program how it's intended to be executed. Also, a function often ends with a `return` statement, which gives the end result of the function.\n\nThe `+=` sign indicates concantenation, which means adding on to what's already there. If you want more explanation on that or any other symbols, refer to your function cheat sheet.\n\nOnce you define a function, you can \"call\" it later on in your program. You call it just by writing its name, as so:"
    },
    {
      "metadata": {
        "trusted": true
      },
      "cell_type": "code",
      "source": "make_sandwich()",
      "execution_count": 2,
      "outputs": [
        {
          "output_type": "execute_result",
          "execution_count": 2,
          "data": {
            "text/plain": "'bread and peanut butter and jelly and bread'"
          },
          "metadata": {}
        }
      ]
    },
    {
      "metadata": {},
      "cell_type": "markdown",
      "source": "If the function has a return value, then you can assign that value to a variable of your choice, which can be used later. For example, here we assign it to the variable `lunch` so we can print out the return value of the function."
    },
    {
      "metadata": {
        "trusted": true
      },
      "cell_type": "code",
      "source": "lunch = make_sandwich()\n\nprint(\"I am eating\", lunch)",
      "execution_count": 3,
      "outputs": [
        {
          "output_type": "stream",
          "text": "I am eating bread and peanut butter and jelly and bread\n",
          "name": "stdout"
        }
      ]
    },
    {
      "metadata": {},
      "cell_type": "markdown",
      "source": "Functions allow for your code to have better organization, flexibility, and reusability. If you wanted to change how you made your sandwich, perhaps by adding jam to one piece of bread and peanut butter to the other piece, and then combining them, you could rewrite the `make_sandwich()` function without touching any other code."
    },
    {
      "metadata": {},
      "cell_type": "markdown",
      "source": "##### Another Example\n\nLet's try a more mathematical example: calculating the area of a circle. If we were doing this without a function, we have three essential portions of the calculation: \n - One defining the radius of the circle\n - One calculating the area from the radius\n - One printing the result of the calculation\n\nRecall the formula for area of a circle:\n$$a_{circle}=\\pi*r^2$$\n \nFor our calculation, we need to know two pieces of syntax we have not yet encountered.\n1. We get the value of pi from the library `math`, which can be accessed either from import statement or by writing `math.pi` as shown below.\n2. Powers can be calculated with the `**` operator, or alternatively with the method `math.pow`. **DO NOT USE the `^` operator.** That's a completely different binary operation and will give you an incorrect answer.\n \nThis code might be done with one line or four, as shown below. That's up to personal preference and the particular needs of the program. "
    },
    {
      "metadata": {
        "trusted": true
      },
      "cell_type": "code",
      "source": "from math import pi\n\nradius = 10\narea = pi * radius**2\nprint(\"The area of circle with radius\", radius, \"is\", area)",
      "execution_count": 11,
      "outputs": [
        {
          "output_type": "stream",
          "text": "The area of circle with radius 10 is 314.1592653589793\n",
          "name": "stdout"
        }
      ]
    },
    {
      "metadata": {
        "trusted": true
      },
      "cell_type": "code",
      "source": "print(\"The area of circle with radius\", radius, \"is\", math.pi * (10)**2)",
      "execution_count": 12,
      "outputs": [
        {
          "output_type": "stream",
          "text": "The area of circle with radius 10 is 314.1592653589793\n",
          "name": "stdout"
        }
      ]
    },
    {
      "metadata": {},
      "cell_type": "markdown",
      "source": "Check with a friend, a calculator, or Google to make sure you've got the right answer."
    },
    {
      "metadata": {},
      "cell_type": "markdown",
      "source": "We are, however, still one step away from a complete function. We *can* create a function just by dropping all our code from above into a `def`, which we'll call `area_circle`."
    },
    {
      "metadata": {
        "trusted": true
      },
      "cell_type": "code",
      "source": "## Define the function\ndef area_circle():\n    radius = 10\n    area = math.pi * radius**2\n    print(\"The area of circle with radius\", radius, \"is\", area)\n    return\n\n## Call it\narea_circle()",
      "execution_count": 14,
      "outputs": [
        {
          "output_type": "stream",
          "text": "The area of circle with radius 10 is 314.1592653589793\n",
          "name": "stdout"
        }
      ]
    },
    {
      "metadata": {},
      "cell_type": "markdown",
      "source": "Note that this time, the function doesn't return anything. See what that happens when you try to print the result from what's called a `void` function:"
    },
    {
      "metadata": {
        "trusted": true
      },
      "cell_type": "code",
      "source": "print(area_circle())",
      "execution_count": 15,
      "outputs": [
        {
          "output_type": "stream",
          "text": "The area of circle with radius 10 is 314.1592653589793\nNone\n",
          "name": "stdout"
        }
      ]
    },
    {
      "metadata": {},
      "cell_type": "markdown",
      "source": "In the absence of any specifications on the return type, it simply returns `None`."
    },
    {
      "metadata": {},
      "cell_type": "markdown",
      "source": "Now we're going to add what's called a `param`, short for parameter. This goes in the parenthesis by the function name, and allows us to give the function input. Our parameter will represent the radius of the circle, so we'll have to define that outside our function."
    },
    {
      "metadata": {
        "trusted": true
      },
      "cell_type": "code",
      "source": "## Define the function, for the second time\ndef area_circle(radius):\n    area = math.pi * radius**2\n    print(\"The area of circle with radius\", radius, \"is\", area)\n    return\n\n## Call it\nr = 10\narea_circle(r)",
      "execution_count": 16,
      "outputs": [
        {
          "output_type": "stream",
          "text": "The area of circle with radius 10 is 314.1592653589793\n",
          "name": "stdout"
        }
      ]
    },
    {
      "metadata": {},
      "cell_type": "markdown",
      "source": "Note that we called our variable outside the function `r`, and we called the parameter `radius`. `r` is \"passed in\" to the function as the paramater `radius`, but they don't need to be called the same thing for that to work.\n\nThe benefit of parameters is having more flexible code. You could define this function once and call it as many times as you need to, with a different radius each time. Below, call it with a different radius:"
    },
    {
      "metadata": {
        "trusted": true
      },
      "cell_type": "code",
      "source": "## Call area_circle with a radius of your choice:\n\n",
      "execution_count": 17,
      "outputs": []
    },
    {
      "metadata": {},
      "cell_type": "markdown",
      "source": "We've given our function input, now let's give it output. We'll give our function a *return type* of the area of the circle. We can print the result outside of our function instead."
    },
    {
      "metadata": {
        "trusted": true
      },
      "cell_type": "code",
      "source": "## Define the function, for the third and final time\ndef area_circle(radius):\n    area = math.pi * radius**2\n    return area\n\n## Call it\nr = 10\narea = area_circle(r)\nprint(\"The area of circle with radius\", r, \"is\", area)",
      "execution_count": 18,
      "outputs": [
        {
          "output_type": "stream",
          "text": "The area of circle with radius 10 is 314.1592653589793\n",
          "name": "stdout"
        }
      ]
    },
    {
      "metadata": {},
      "cell_type": "markdown",
      "source": "We've now achieved the same output *five* different ways. \n- Without a function, with four lines\n- Without a function, with one line\n- With a function, no parameters and no return value\n- With a function, one parameter and no return value\n- With a function, one parameter and a return value\n\nGood job! Of all these ways, different ones will be useful in different circumstances. If you need to find the area for many different radii, one of the last two would be much more useful, but if you only needed to do it once, any of the five would be sufficient. This happens frequently in programming. Functions are one way to organize your code but they are never the only way to do something."
    },
    {
      "metadata": {},
      "cell_type": "markdown",
      "source": "Now is your turn! Write a function to calculate the area of a cone with the paramters `radius` of 4 and `height` of 12. You can pass in two parameters in by separating them with commas, like so:\n\n`def function(one, two)`"
    },
    {
      "metadata": {
        "trusted": true
      },
      "cell_type": "code",
      "source": "",
      "execution_count": null,
      "outputs": []
    },
    {
      "metadata": {},
      "cell_type": "markdown",
      "source": "Write a function (or two, if you're feeling adventurous) to calculate the `surface area` of a sphere with an `area` of 300."
    },
    {
      "metadata": {
        "trusted": true
      },
      "cell_type": "code",
      "source": "",
      "execution_count": null,
      "outputs": []
    },
    {
      "metadata": {},
      "cell_type": "markdown",
      "source": "There is one more thing to note about functions before going forward. When our code gets complicated enough, we may choose to use a more complicated structure called a `class`. You've seen classes before: `math` is a class, and it contains its own functions (like `pow()`) and variables (like `pi`). When a function is a part of a class, we call it a \"method.\"\n\nOften classes are defined with one Main Method that does all the work. These will be named as following:<br>\n`def __main__(self)`<br>\nThe underscores are a python convention, and just part of the name like any other character. The `self` is an extra parameter that must be included for any method in a class, for reasons that only really matter to computer scientists."
    },
    {
      "metadata": {
        "trusted": true
      },
      "cell_type": "markdown",
      "source": "#### 2.2 If / Else Statements\n\nTake a guess on what <i>if / else</i> might stand for. If you guessed If x happens then do y, else do z, you are correct ! If/else are one of the most used ways\nto sort the data you've been given. Another way to use if / else is to make sure the input you are given does not give you a runtime error (dividing by zero for example). "
    },
    {
      "metadata": {},
      "cell_type": "markdown",
      "source": "If / else can appear in three forms. Examples are below.\n"
    },
    {
      "metadata": {
        "trusted": true
      },
      "cell_type": "code",
      "source": "if 10 > 12 :\n    print(\"yes\")",
      "execution_count": 37,
      "outputs": []
    },
    {
      "metadata": {
        "trusted": true
      },
      "cell_type": "code",
      "source": "if 10 > 12 : \n    print (\"yes\")\n    \nelse :\n    print (\"no\")",
      "execution_count": null,
      "outputs": []
    },
    {
      "metadata": {
        "trusted": true
      },
      "cell_type": "code",
      "source": "if 10 > 12:\n    print (\"yes\")\n    \nelif 10 == 12: \n    print (\"maybe\")\n    \nelse :\n    print (\"no\")",
      "execution_count": null,
      "outputs": []
    },
    {
      "metadata": {},
      "cell_type": "markdown",
      "source": "To clarify, the elif (else if ) statement allows you to stack requirements as to not cause a mess with nested if / else statements. \n\nThings to remember:\n - = is when you assign a value \n - == is to compare variables. \n - Think of the : as invisible brackets. It helps your computer know what belongs to who. "
    },
    {
      "metadata": {},
      "cell_type": "markdown",
      "source": "*Another easier example? possibly involving boolean*"
    },
    {
      "metadata": {
        "trusted": true
      },
      "cell_type": "code",
      "source": "",
      "execution_count": null,
      "outputs": []
    },
    {
      "metadata": {},
      "cell_type": "markdown",
      "source": "Example : Inputting a number to compare to a random number between 1 and 10. Try results that trigger each response (a good way to debug your code)"
    },
    {
      "metadata": {
        "trusted": true
      },
      "cell_type": "code",
      "source": "import random\n\ndef doTheyMatch(yourNum):\n    if yourNum < 1 or yourNum > 10:\n        print (\"Try a number in the range\")\n        \n    else:\n        correctNum = random.randint(1,10)\n        if yourNum == correctNum:\n                print(\"They match\")\n        else:\n                print(\"They do not match\")\n                \n    return \n    \n   ",
      "execution_count": 37,
      "outputs": []
    },
    {
      "metadata": {
        "trusted": true
      },
      "cell_type": "code",
      "source": "doTheyMatch()",
      "execution_count": null,
      "outputs": []
    },
    {
      "metadata": {
        "trusted": true
      },
      "cell_type": "code",
      "source": "doTheyMatch()",
      "execution_count": null,
      "outputs": []
    },
    {
      "metadata": {
        "trusted": true
      },
      "cell_type": "code",
      "source": "doTheyMatch()",
      "execution_count": null,
      "outputs": []
    },
    {
      "metadata": {},
      "cell_type": "markdown",
      "source": "Write a function called whatIsMyGrade to determine the letter grade of 92 , 60, and 72"
    },
    {
      "metadata": {
        "trusted": true
      },
      "cell_type": "code",
      "source": "",
      "execution_count": null,
      "outputs": []
    },
    {
      "metadata": {},
      "cell_type": "markdown",
      "source": "Write a function involving if/else loops to compute the BMI(In SI units) of an adult \n- 160 pounds and 72 inches\n- 200 pounds and 63 inches\n- 190 pounds and 70 inches\n- 100 pounds and 65 inches\n\nPlease include if these people are underweight, normal, overweight, or obese"
    },
    {
      "metadata": {
        "trusted": true
      },
      "cell_type": "code",
      "source": "def computeBMI (pounds,inches):\n  \n\n\n    return ",
      "execution_count": 40,
      "outputs": []
    },
    {
      "metadata": {
        "trusted": true
      },
      "cell_type": "code",
      "source": "",
      "execution_count": null,
      "outputs": []
    },
    {
      "metadata": {},
      "cell_type": "markdown",
      "source": "#### 2.3 Loops\n\nI need to display my age 25 times! How can I do this? I could `print(\"I am 20 years old\")` 25 times..... or I can use a loop! Loops are helpful when processing large amounts of data (like we will later). There are two types of loops fundamental for programming: the `while` loop which is boolean (true/false) based, the `for` loop which is count based (for a certain number of times). Examples of each lie below "
    },
    {
      "metadata": {
        "trusted": true
      },
      "cell_type": "code",
      "source": "#While Loop \n\nsum = 0\ni = 1\n\nwhile i < 10:\n    sum = sum + i #can also be written as sum += i\n    i = i + 1\nprint('The sum is',sum)",
      "execution_count": 46,
      "outputs": [
        {
          "output_type": "stream",
          "text": "The sum is 45\n",
          "name": "stdout"
        }
      ]
    },
    {
      "metadata": {},
      "cell_type": "markdown",
      "source": "I wonder what happens when you put the print statement inside the loop..."
    },
    {
      "metadata": {
        "trusted": true
      },
      "cell_type": "code",
      "source": "#While Loop \n\nsum = 0\ni = 1\n\nwhile i < 10:\n    sum = sum + i\n    i = i + 1       # can also be written as i += 1\n    print('The sum is',sum)",
      "execution_count": 47,
      "outputs": [
        {
          "output_type": "stream",
          "text": "The sum is 1\nThe sum is 3\nThe sum is 6\nThe sum is 10\nThe sum is 15\nThe sum is 21\nThe sum is 28\nThe sum is 36\nThe sum is 45\n",
          "name": "stdout"
        }
      ]
    },
    {
      "metadata": {
        "trusted": true
      },
      "cell_type": "code",
      "source": "#For Loops \n\nfor i in range(0,6):\n    print(\"i value is \",i)\n",
      "execution_count": 49,
      "outputs": [
        {
          "output_type": "stream",
          "text": "i value is  0\ni value is  1\ni value is  2\ni value is  3\ni value is  4\ni value is  5\n",
          "name": "stdout"
        }
      ]
    },
    {
      "metadata": {},
      "cell_type": "markdown",
      "source": "For loops have a different syntax so let's break it down. If the loop was a while loop it would look like the code below"
    },
    {
      "metadata": {
        "trusted": true
      },
      "cell_type": "code",
      "source": "i = 0\n\nwhile i < 6:\n    print(\"i value is \",i)\n    i+= 1",
      "execution_count": 52,
      "outputs": [
        {
          "output_type": "stream",
          "text": "i value is  0\ni value is  1\ni value is  2\ni value is  3\ni value is  4\ni value is  5\n",
          "name": "stdout"
        }
      ]
    },
    {
      "metadata": {},
      "cell_type": "markdown",
      "source": "Can you see the comparisons? Lets talk about them to make sure you have an understanding. With the for loop, there is no need to declare the variable itself. The for loop does it for us. Do you see where the 0 and 6 are in the while loop? Even though they are not next to each other, these are initial value, and end value. In the for loop, they are right next to each other, making it easier to count. Another factor of the for loop is it counts (ups the value of i) within the loop itself. While the for loop (in this case) is half the amount of code as the while loop, it ultimately depends on the code you are writing to determine which to use."
    },
    {
      "metadata": {},
      "cell_type": "markdown",
      "source": "Write a function without recursion to give an answer for 27! (27 factorial)"
    },
    {
      "metadata": {
        "trusted": true
      },
      "cell_type": "code",
      "source": "def factorial(factorial):\n    \n    return",
      "execution_count": null,
      "outputs": []
    },
    {
      "metadata": {},
      "cell_type": "markdown",
      "source": "Write a function that computes the total cost of four year's worth of tuition starting 12 years from now. This yearly tuition is $14,000 and increases seven percent annually."
    },
    {
      "metadata": {
        "trusted": true
      },
      "cell_type": "code",
      "source": "def computeTuition(years)\n\n    return",
      "execution_count": null,
      "outputs": []
    },
    {
      "metadata": {},
      "cell_type": "markdown",
      "source": "Write a nested `for` loop that displays the following data (no need for a function)\n\n                          1\n                     1    2   1\n                 1   2    4   2   1\n             1   2   4    8   4   2   1\n         1   2   4   8   16   8   4   2  1 \n      1  2   4   8  16   32  16   8   4  2  1\n    1 2  4   8  16  32   64  32  16   8  4  2  1 "
    },
    {
      "metadata": {
        "trusted": true
      },
      "cell_type": "code",
      "source": "",
      "execution_count": null,
      "outputs": []
    },
    {
      "metadata": {
        "trusted": true
      },
      "cell_type": "markdown",
      "source": "#### 2.4 Recursion\n\nA recursive function is best described as a function that calls itself. This type of loop (and the last we'll learn) is one of the hardest to comprehend and program. It's very easy to get caught up in these loops, so lets take some time to learn them. "
    },
    {
      "metadata": {
        "trusted": true
      },
      "cell_type": "markdown",
      "source": "Let's use the factorial example. You were able to do it with a `while` or a `for` loop correct? Programming is about efficiency, in both writing and executing code. Fewer lines often means fewer opportunities for bugs, so a short function like that shown below is a good programming strategy."
    },
    {
      "metadata": {
        "trusted": true
      },
      "cell_type": "code",
      "source": "def factorial(n):\n    if n == 0 :\n        return 1\n    else:\n        return n * factorial(n-1)",
      "execution_count": 7,
      "outputs": []
    },
    {
      "metadata": {
        "trusted": true
      },
      "cell_type": "code",
      "source": "factorial(27)",
      "execution_count": 5,
      "outputs": [
        {
          "output_type": "execute_result",
          "execution_count": 5,
          "data": {
            "text/plain": "10888869450418352160768000000"
          },
          "metadata": {}
        }
      ]
    },
    {
      "metadata": {},
      "cell_type": "markdown",
      "source": "Same number right? (or it should be). Let's walkthrough what exactly is happening. The first if statement we have is our stopping function. This is the condition to exit our recursive loop. In our function, we are subtracting 1 from n, meaning at some point it will hit zero. This is called a \"base case\". If we didn't have it, the function would run forever and will crash the computer, or it will return an error. The else statement is where the main body of our code exists. With n == 4, try tracing out the path of the code yourself before we discuss it. "
    },
    {
      "metadata": {},
      "cell_type": "raw",
      "source": "Now you've drawn it lets compare.\n\ndef factorial(4):\n    if n == 0 :\n        return 1\n    else:  \n        return 4 * factorial(3)                                                                                 4 * ( 6 )\n                        if n == 0 : \n                            return 1\n                        else:\n                            return 3 * factorial(2)                                                             3 * ( 2 )\n                                            if n == 0 : \n                                                return 1\n                                            else: \n                                                return 2 * factorial(1)                                         2 * (1 * 1)\n                                                               if n == 0 : \n                                                                   return 1\n                                                               else: \n                                                                   return 1 * factorial(0)                      1 * 1\n                                                                                   if n == 0\n                                                                                       return 1\n    "
    },
    {
      "metadata": {},
      "cell_type": "markdown",
      "source": "Do they match? I hope so. Recursion keeps going until it hits the stopping point, then traces itself back to the original call. Think of the stopping point as a road block. Once you hit it, you have to retrace your route back to where you started.\n\nLet's walk through another example, this one is a little more complicated. Remember, if you see something we havent talked about (syntax or a function) please refer to the FunctionList we have provided. "
    },
    {
      "metadata": {
        "trusted": true
      },
      "cell_type": "code",
      "source": "def isPalindrome(s): \n    ## Base Case\n    if len(s) <= 1 :  \n        return True  \n    \n    ## Base Case\n    elif s[0] != s[len(s) - 1] :\n        return False    \n    \n    ## Recursive Call\n    else: \n        return isPalindrome(s[1 : len(s)- 1])\n    \nisPalindrome(\"Physics\")",
      "execution_count": 27,
      "outputs": [
        {
          "output_type": "execute_result",
          "execution_count": 27,
          "data": {
            "text/plain": "False"
          },
          "metadata": {}
        }
      ]
    },
    {
      "metadata": {},
      "cell_type": "markdown",
      "source": "Let's clarify a few things above. If you havent looked at the FunctionList, len(x) is a function that returns the length of any string (counting characters). For example, 'try' would have a length of three. Secondly, using brackets returns a specific spot within a string. Since computers begin counting at zero and if s = 'try'\n- s[0] = t\n- s[1] = r\n- s[2] = y\n\nLastly, s[1 : len(s)] - 1 begins at 1 from len(s) (eliminating the first character we already tested), and shortens the length of the string by one (eliminates the last character we tested). If these are still confusing, skip down to 3.2 Lists for further clarification.\n\nWith these in mind, lets try explaing the code now. You try first. Type it down below with a palindrome of your choosing. Make sure to specify which palindrome"
    },
    {
      "metadata": {},
      "cell_type": "markdown",
      "source": "Type here: "
    },
    {
      "metadata": {},
      "cell_type": "markdown",
      "source": "Now for my explanation, isPalindrome reads in a string, example : mom. It is first checked to see if the length of the string is equal to or less than 1. It is not. It is secondly checked to see if the first character is the string is not equal to the last character in the string. They are. Now we move up/down the string. Our new string is o. isPalindrome and reads in a string, o. It is first checked to see if the length of the string is equal to or less than 1. It is. We return true, meaning our original string mom is a palindrome. \n\nHow similar are the two explanations? It is important to be able to code, as well as understand your code in laymans terms. Now lets move onto an example for you to try"
    },
    {
      "metadata": {},
      "cell_type": "markdown",
      "source": "Write a recursive function that displays the Greatest Common Demoninator between two integers. The pairs are \n- 36 and 6\n- 84 and 189\n- 3452 and 7532\n "
    },
    {
      "metadata": {
        "trusted": true
      },
      "cell_type": "code",
      "source": "",
      "execution_count": null,
      "outputs": []
    },
    {
      "metadata": {},
      "cell_type": "markdown",
      "source": "* Towers of Hanoi example. How much is there to do? is it worth it? find a video explaining simply. "
    },
    {
      "metadata": {
        "trusted": true
      },
      "cell_type": "code",
      "source": "",
      "execution_count": null,
      "outputs": []
    },
    {
      "metadata": {},
      "cell_type": "markdown",
      "source": "### The Basics of Python: Libraries, Lists, Files, and Graphs (all the fun stuff!)"
    },
    {
      "metadata": {
        "trusted": true
      },
      "cell_type": "markdown",
      "source": "In this last section we will learn everything tied to graphs. As physicists, we use graphs more than we would like to admit. Graphs are handy for interpreting data as well as giving us a visual. Before moving directly onto graphs, let's touch on some other subjects, that will make graphing alot easier "
    },
    {
      "metadata": {},
      "cell_type": "markdown",
      "source": "#### 3.1 Libraries "
    },
    {
      "metadata": {},
      "cell_type": "markdown",
      "source": "We used libraries back in 2.1, but now we'll go more in depth. Python comes with some pre-packaged libraries like those you've seen: <c>math</c> and <c>random</c>. These libraries are collections of functions and variables that allow Python great flexibility. For example, any Python coder who wants to use a random integer in their program can call `random.randint()` with the appropriate parameters. The alternative would be to write your own random number generator whenever you needed a random number!\n\nAs touched on before, we can access libraries a couple different ways. Although many helpful libraries are installed when you install Python (or, in this case, when Azure Notebooks installs Python), any program using a library must include a reference to that library so the program knows where to look for that function or variable. You've seen these two ways before:"
    },
    {
      "metadata": {
        "trusted": true
      },
      "cell_type": "code",
      "source": "print(math.pi)",
      "execution_count": 2,
      "outputs": [
        {
          "output_type": "stream",
          "text": "3.141592653589793\n",
          "name": "stdout"
        }
      ]
    },
    {
      "metadata": {
        "trusted": true
      },
      "cell_type": "code",
      "source": "from math import pi\nprint(pi)",
      "execution_count": 3,
      "outputs": [
        {
          "output_type": "stream",
          "text": "3.141592653589793\n",
          "name": "stdout"
        }
      ]
    },
    {
      "metadata": {},
      "cell_type": "markdown",
      "source": "The use of the variable `pi` must include a reference to its library, `math`. As you can see, this can be done by adding the prefix `math.` or by including an `import` statement.\n\nYou can import one function from a library:"
    },
    {
      "metadata": {
        "trusted": true
      },
      "cell_type": "code",
      "source": "from random import randint\n\nprint( randint(-5,5) )",
      "execution_count": 6,
      "outputs": [
        {
          "output_type": "stream",
          "text": "3\n",
          "name": "stdout"
        }
      ]
    },
    {
      "metadata": {},
      "cell_type": "markdown",
      "source": "Or, you can import a whole library:"
    },
    {
      "metadata": {
        "trusted": true
      },
      "cell_type": "code",
      "source": "import random\n\nprint( random.randint(-5,5) )",
      "execution_count": 4,
      "outputs": [
        {
          "output_type": "stream",
          "text": "-3\n",
          "name": "stdout"
        }
      ]
    },
    {
      "metadata": {},
      "cell_type": "markdown",
      "source": "Sometimes, other programmers create libraries that aren't included in the original Python package. Once you download these, you can use them just like the built-in libraries. That's what we'll do when we start graphing."
    },
    {
      "metadata": {},
      "cell_type": "markdown",
      "source": "Your next problem to solve is to fix the following program. All the functionality is there, but the neccessary libraries have not been referenced. You may use any of the above ways to make the program work; however, you cannot delete any code already written.\n\nYou may find your function list cheat sheet to be rather helpful on this problem.\n\n**IMPORTANT:** _Jupyter notebooks run as though all the cells are one big program, so any previously run cells with import statements may allow the below code to run without your help. That is NOT how you will be graded. In order to eliminate the possibility of a false positive while you're solving this problem, do the following:_\n- Push the \"restart the kernel\" button above. It's the circular arrow next to \"Run.\"\n- Do not run any other cells in between restarting the kernel and finishing this particular problem."
    },
    {
      "metadata": {
        "trusted": true
      },
      "cell_type": "code",
      "source": "x = randint(1, 20)\ny = pow(randint(1, 5),2)\n\ndef hypotenuse(a,b):\n    c2 = a**2 + b**2\n    return sqrt(c2)\n\ndef angle_degrees(x,y):\n    radians = atan(x/y)\n    return degrees(radians)\n\ndef circumference(radius):\n    return 2*pi*radius\n\nprint(\"x:\",x,\"and y:\", y)\n\nr = hypotenuse(x,y)\nprint(\"Hypotenuse:\",r)\nprint(\"Angle (degrees)\", angle_degrees(x,y))\nprint(\"Circumference:\", circumference(r))",
      "execution_count": 12,
      "outputs": [
        {
          "output_type": "stream",
          "text": "x: 7 and y: 25\nHypotenuse: 25.96150997149434\nAngle (degrees) 15.642246457208728\nCircumference: 163.12097800508957\n",
          "name": "stdout"
        }
      ]
    },
    {
      "metadata": {},
      "cell_type": "markdown",
      "source": "When finished with the reading and assignment above, create a print statement which reads, \"I have read and understand section 3.1.\""
    },
    {
      "metadata": {
        "trusted": true
      },
      "cell_type": "code",
      "source": "",
      "execution_count": null,
      "outputs": []
    },
    {
      "metadata": {},
      "cell_type": "markdown",
      "source": "#### 3.2 Lists (Arrays)"
    },
    {
      "metadata": {},
      "cell_type": "markdown",
      "source": "Python allows us to organize our variables in a `list`. Lists typically store objects of the same sort; you may create a list of integers or a list of strings but likely not one with integers and strings mixed together. We're able to treat a `list` much like a variable in itself: we can pass it as a parameter to a function, add lists together, and even make lists containing lists!\n\nWhen we create a list, we can either create an empty list with empty brackets `[]` as shown:"
    },
    {
      "metadata": {
        "trusted": true
      },
      "cell_type": "code",
      "source": "empty_list = []",
      "execution_count": 7,
      "outputs": []
    },
    {
      "metadata": {},
      "cell_type": "markdown",
      "source": "Or, we can create a list and with objects already in it, with objects separated by commas inside the brackets:"
    },
    {
      "metadata": {
        "trusted": true
      },
      "cell_type": "code",
      "source": "full_list = [4,16,-2,1,3,1]",
      "execution_count": 2,
      "outputs": []
    },
    {
      "metadata": {},
      "cell_type": "markdown",
      "source": "Lists DO allow repeated values. We can verify this by seeing that the length of our `full_list` is 6, which includes all the values above, rather than 5, which only includes the unique values."
    },
    {
      "metadata": {
        "trusted": true
      },
      "cell_type": "code",
      "source": "length = len(full_list)\nprint(length)",
      "execution_count": 7,
      "outputs": [
        {
          "output_type": "stream",
          "text": "6\n",
          "name": "stdout"
        }
      ]
    },
    {
      "metadata": {},
      "cell_type": "markdown",
      "source": "This `len` command, it should be noted, gives the length of a list or a string.\n\nA related command, `count`, tells us how many times a certain object appears in the list."
    },
    {
      "metadata": {
        "trusted": true
      },
      "cell_type": "code",
      "source": "count = full_list.count(1)\nprint(count)",
      "execution_count": 8,
      "outputs": [
        {
          "output_type": "stream",
          "text": "2\n",
          "name": "stdout"
        }
      ]
    },
    {
      "metadata": {},
      "cell_type": "markdown",
      "source": "Note the different syntax here. `count` acts on the `list` object and takes the object to search for as its parameter. `len` is a more universal command, and takes the `list` itself as its parameter."
    },
    {
      "metadata": {},
      "cell_type": "markdown",
      "source": "If we have an existing list that to which we want to add objects to, we use the `.append()` function. Let's take our `empty_list` and fill it up with input from the user."
    },
    {
      "metadata": {
        "trusted": true
      },
      "cell_type": "code",
      "source": "for i in range(0,5):\n    next_number = float(input(\"Float? \"))\n    empty_list.append(next_number)\n    print (\"My list so far is: \", empty_list)",
      "execution_count": 8,
      "outputs": [
        {
          "output_type": "stream",
          "name": "stdout",
          "text": "Float? 3\nMy list so far is:  [3.0]\nFloat? .45\nMy list so far is:  [3.0, 0.45]\nFloat? -2\nMy list so far is:  [3.0, 0.45, -2.0]\nFloat? 100\nMy list so far is:  [3.0, 0.45, -2.0, 100.0]\nFloat? 5\nMy list so far is:  [3.0, 0.45, -2.0, 100.0, 5.0]\n"
        }
      ]
    },
    {
      "metadata": {},
      "cell_type": "markdown",
      "source": "We can access any element from this list through its index. Recall that the first element in a list is referenced by **0**. So the *third* element in the \"empty\" list would be accessed with `empty_list[2]`."
    },
    {
      "metadata": {},
      "cell_type": "markdown",
      "source": "We can also take the subset of a list with brackets and a colon.\n\n`list[beginning_index : end_index]` gives us the general form.\n\nThis is **beginning-inclusive** and **end-exclusive**, which means that if we ask for `[0:2]`, we'll get the objects at 0 and 1, but *not* at 2. You may have noticed that ranges work the same way: above, the code `range(0,5)` gave us five numbers: 0,1,2,3,4.\n\nIf we don't write any `end_index`, the subset goes through the end of the list. "
    },
    {
      "metadata": {
        "trusted": true
      },
      "cell_type": "code",
      "source": "new_list = full_list[2:]\nprint(new_list)",
      "execution_count": 3,
      "outputs": [
        {
          "output_type": "stream",
          "text": "[-2, 1, 3, 1]\n",
          "name": "stdout"
        }
      ]
    },
    {
      "metadata": {},
      "cell_type": "markdown",
      "source": "Here, we've created a new list from the last four elements of our `full_list`. We can also find the maximum and minumum of a list:"
    },
    {
      "metadata": {
        "trusted": true,
        "scrolled": true
      },
      "cell_type": "code",
      "source": "minimum = min(new_list)\nmaximum = max(new_list)\nprint(minimum, \"and\", maximum)",
      "execution_count": 4,
      "outputs": [
        {
          "output_type": "stream",
          "text": "-2 and 3\n",
          "name": "stdout"
        }
      ]
    },
    {
      "metadata": {},
      "cell_type": "markdown",
      "source": "We can easily shuffle lists, through the `random` library."
    },
    {
      "metadata": {
        "trusted": true
      },
      "cell_type": "code",
      "source": "from random import shuffle\n\nshuffle(empty_list)\nprint(empty_list)",
      "execution_count": 9,
      "outputs": [
        {
          "output_type": "stream",
          "text": "[100.0, 0.45, 3.0, -2.0, 5.0]\n",
          "name": "stdout"
        }
      ]
    },
    {
      "metadata": {},
      "cell_type": "markdown",
      "source": "We can also add lists together:"
    },
    {
      "metadata": {
        "trusted": true,
        "scrolled": true
      },
      "cell_type": "code",
      "source": "master_list = empty_list + full_list + new_list\nprint(master_list)",
      "execution_count": 11,
      "outputs": [
        {
          "output_type": "stream",
          "text": "[100.0, 0.45, 3.0, -2.0, 5.0, 4, 16, -2, 1, 3, 1, -2, 1, 3, 1]\n",
          "name": "stdout"
        }
      ]
    },
    {
      "metadata": {},
      "cell_type": "markdown",
      "source": "And, just for fun, we can make a list of lists!"
    },
    {
      "metadata": {
        "trusted": true
      },
      "cell_type": "code",
      "source": "inception = [empty_list, full_list, new_list]\nprint(inception)",
      "execution_count": 12,
      "outputs": [
        {
          "output_type": "stream",
          "text": "[[100.0, 0.45, 3.0, -2.0, 5.0], [4, 16, -2, 1, 3, 1], [-2, 1, 3, 1]]\n",
          "name": "stdout"
        }
      ]
    },
    {
      "metadata": {},
      "cell_type": "markdown",
      "source": "Now your turn! Create two lists, one from `random.nextint()` and one with integer input from the user. Use the function below to calculate half the length of each of the lists, and make a new list combining the first half of your first list and second half of your second list. Then print out this list, with its length, maximum, and minimum. Then print out the last item in the list."
    },
    {
      "metadata": {
        "trusted": true
      },
      "cell_type": "code",
      "source": "# Hint: list of length 6 will return index 3, and the first half of that list would be at indices 0,1,2.\n# List of length 5 will return index 2, and either 0,1 or 0,1,2 would be accepted as the first half of that list.\ndef find_halfway(my_list):\n    length = len(my_list)\n    return length//2\n",
      "execution_count": null,
      "outputs": []
    },
    {
      "metadata": {},
      "cell_type": "markdown",
      "source": "#### 3.3 Reading files "
    },
    {
      "metadata": {},
      "cell_type": "markdown",
      "source": "Taking a huge chunk of data, and beng able to manipulate it is what makes coding a needed skill for physicists. There a few files of data already in our files, so we'll use those for example. The first thing we need to accomplish is opening our file. Opening a file is how the computer assigns the data to a variable. Because of this step, we can apply different actions to manipulate the data. The main setup of opening a file reads like so\n\nvariableName = open(\"fileName.type\", \"action\")\n\nThe actions when opening the file are \n - r       : open the file to read \n - w       : open a new file for writing, if the file you called already exists then it overwrites the data\n - a       : open the file to add data to the end of the file\n - rb      : open reads the binary data \n - wb      : open writes binary data\n \nIf i wanted to write a new file called Horses, the line of code to so would look like `horses = open(\"Horses.txt\", \"w\")`\n\nTo read a file called countriesofEurope, ` countriesEU = open(\"countriesOfEurope\", \"r\") `"
    },
    {
      "metadata": {},
      "cell_type": "markdown",
      "source": "Now that the file is open, there are plenty of tasks we are able to use on the open file like \n * write()      : writes to the file \n * read()       : reads the entire file\n * readline()   : returns the next line \n * readlines()  : returns the remaining lines as a list\n * close()      : closes the file. \n \n Every time a file is opened, it must be closed after being used. If this process isnt done, the file will remain running and eventually cause an error. Combining everything above, let's look at an example"
    },
    {
      "metadata": {
        "trusted": true
      },
      "cell_type": "code",
      "source": "example = open(\"Example1.txt\", \"r\")\n\nprint(example.read())\n\nexample.close()",
      "execution_count": 10,
      "outputs": [
        {
          "output_type": "stream",
          "text": "The \nFile\nHas\nBeen\nRead\nIn\nCorrectly\n",
          "name": "stdout"
        }
      ]
    },
    {
      "metadata": {
        "trusted": true
      },
      "cell_type": "code",
      "source": "example = open(\"Example1.txt\", \"r\")\n\nprint(example.readline())\n\nexample.close()",
      "execution_count": 9,
      "outputs": [
        {
          "output_type": "stream",
          "text": "\n",
          "name": "stdout"
        }
      ]
    },
    {
      "metadata": {
        "trusted": true
      },
      "cell_type": "code",
      "source": "example = open(\"Example.txt\",\"w\")\n\nexample.write(\"Addition\")\n\nexample.close()",
      "execution_count": 13,
      "outputs": []
    },
    {
      "metadata": {
        "trusted": true
      },
      "cell_type": "code",
      "source": "example = open(\"Example.txt\", \"r\")\n\nprint(example.read())\n\nexample.close()",
      "execution_count": 14,
      "outputs": [
        {
          "output_type": "stream",
          "text": "Addition\n",
          "name": "stdout"
        }
      ]
    },
    {
      "metadata": {
        "trusted": true
      },
      "cell_type": "markdown",
      "source": "Write code that creates a file named `Numbers.txt` . Using a '`for` loop and the random integer function, write random numbers from 1 - 10 to the file. Then open the file for reading and print said random numbers."
    },
    {
      "metadata": {
        "trusted": true
      },
      "cell_type": "code",
      "source": "",
      "execution_count": null,
      "outputs": []
    },
    {
      "metadata": {},
      "cell_type": "markdown",
      "source": "#### 3.4 Graphs "
    },
    {
      "metadata": {},
      "cell_type": "markdown",
      "source": "The last section! Congradulations on making it this far. This last section is combining all the sections of three into creating graphs. To be able to create graphs in python, the pylab library will be used. After importing, the next step is to create our x and y values. This can be done either by reading in data files, equations, or by hardcoding values using lists. In the first example below we are using lists. "
    },
    {
      "metadata": {
        "trusted": true
      },
      "cell_type": "code",
      "source": "x = [1,2,10]\ny = [0,3,9]",
      "execution_count": 18,
      "outputs": []
    },
    {
      "metadata": {},
      "cell_type": "markdown",
      "source": "The last step is to use `pylab.plot` to create the actual graph"
    },
    {
      "metadata": {
        "trusted": true
      },
      "cell_type": "code",
      "source": "pylab.plot (x,y) ## running will give you an error",
      "execution_count": 19,
      "outputs": [
        {
          "output_type": "execute_result",
          "execution_count": 19,
          "data": {
            "text/plain": "[<matplotlib.lines.Line2D at 0x7fccd1c691d0>]"
          },
          "metadata": {}
        },
        {
          "output_type": "display_data",
          "data": {
            "image/png": "[encoded data removed]",
            "text/plain": "<Figure size 432x288 with 1 Axes>"
          },
          "metadata": {
            "needs_background": "light"
          }
        }
      ]
    },
    {
      "metadata": {},
      "cell_type": "markdown",
      "source": "The last step is to label the axis as such using .xlabel and .ylabel . All the code is put together down below "
    },
    {
      "metadata": {
        "trusted": true
      },
      "cell_type": "code",
      "source": "#renamed for easier to read code\nimport pylab\n\n#axis values \nx = [1,5,10]\ny = [0,3,9]\n\n#plotting points \npylab.plot(x,y)\n\npylab.title(\"Title\")\npylab.xlabel('x - axis')\npylab.ylabel('y - axis')",
      "execution_count": 16,
      "outputs": [
        {
          "output_type": "execute_result",
          "execution_count": 16,
          "data": {
            "text/plain": "Text(0, 0.5, 'y - axis')"
          },
          "metadata": {}
        },
        {
          "output_type": "display_data",
          "data": {
            "image/png": "[encoded data removed]",
            "text/plain": "<Figure size 432x288 with 1 Axes>"
          },
          "metadata": {
            "needs_background": "light"
          }
        }
      ]
    },
    {
      "metadata": {},
      "cell_type": "markdown",
      "source": "using the numpy library, we are able to plot trigonometric functions and evenly space our axises. "
    },
    {
      "metadata": {
        "trusted": true
      },
      "cell_type": "code",
      "source": "import pylab\nimport numpy\n\nx = numpy.linspace(0, 20, 1000) ## Gave some fun and mess around with these numbers\ny = numpy.sin(x)\n\npylab.plot(x,y)",
      "execution_count": 47,
      "outputs": [
        {
          "output_type": "execute_result",
          "execution_count": 47,
          "data": {
            "text/plain": "[<matplotlib.lines.Line2D at 0x7fccd0d810b8>]"
          },
          "metadata": {}
        },
        {
          "output_type": "display_data",
          "data": {
            "image/png": "[encoded data removed]",
            "text/plain": "<Figure size 432x288 with 1 Axes>"
          },
          "metadata": {
            "needs_background": "light"
          }
        }
      ]
    },
    {
      "metadata": {},
      "cell_type": "markdown",
      "source": "Let's list some handy pylab functions \n * xlabel(' ') : label the x axis \n * ylabel(' ') : label the y axis\n * title(' ') : title your graph \n * xlim(a, b) : limit your x axis to be from a to b\n * ylim(a, b) : limit your y axis to be from a to b\n \nIn the plot function itself, you're able to change the graph like so "
    },
    {
      "metadata": {
        "trusted": true
      },
      "cell_type": "code",
      "source": "import pylab\nimport numpy\n\nx = numpy.linspace(0, 20, 1000) ## Gave some fun and mess around with these numbers\ny = numpy.sin(x)\n\npylab.plot(x,y, '-r', label='redline')\npylab.legend()",
      "execution_count": 48,
      "outputs": [
        {
          "output_type": "execute_result",
          "execution_count": 48,
          "data": {
            "text/plain": "<matplotlib.legend.Legend at 0x7fccd10e6978>"
          },
          "metadata": {}
        },
        {
          "output_type": "display_data",
          "data": {
            "image/png": "[encoded data removed]",
            "text/plain": "<Figure size 432x288 with 1 Axes>"
          },
          "metadata": {
            "needs_background": "light"
          }
        }
      ]
    },
    {
      "metadata": {},
      "cell_type": "markdown",
      "source": "the '-r' creates a filled in red line, and the label creates the legend shown in the corner (with the legend function). The rest of the shortcuts for changing the color, and type of line is within the function list in the downloaded notebook."
    },
    {
      "metadata": {},
      "cell_type": "markdown",
      "source": "The way physicists create most graphs is by importing data. As before the first stpe is to import the pylab library. The next step is to read the file into a list as we've done before. The second line of code imports the file into a list called data"
    },
    {
      "metadata": {
        "trusted": true
      },
      "cell_type": "code",
      "source": "b = open('Example3.txt')\ndata = b.readlines()",
      "execution_count": 49,
      "outputs": []
    },
    {
      "metadata": {},
      "cell_type": "markdown",
      "source": "Splitting our new list (data) into its respective x and y values is the next step. Since the data points in the text file are seperated by a comma, we need to acknowledge it. Using `linesplit(',')[which column]` we tell the computer to ignore the comma in the respective columns. The next step is to tell the computer to do this for each in the file. Combined produces the code below. "
    },
    {
      "metadata": {
        "trusted": true
      },
      "cell_type": "code",
      "source": "x = [line.split(',')[0] for line in data]\ny = [line.split(',')[1] for line in data]",
      "execution_count": 50,
      "outputs": []
    },
    {
      "metadata": {},
      "cell_type": "markdown",
      "source": "Next is to apply the required pylab functions: plot, legend, xlabel, ylabel, title, show. The combined code is below"
    },
    {
      "metadata": {
        "trusted": true
      },
      "cell_type": "code",
      "source": "import pylab\n\nb = open('Example3.txt') \ndata = b.readlines()\n        \nx = [line.split(',')[0] for line in data]\ny = [line.split(',')[1] for line in data]\n    \n\npylab.plot(x,y, label = 'Correct')        \npylab.legend()\npylab.show()",
      "execution_count": 51,
      "outputs": [
        {
          "output_type": "display_data",
          "data": {
            "image/png": "[encoded data removed]",
            "text/plain": "<Figure size 432x288 with 1 Axes>"
          },
          "metadata": {
            "needs_background": "light"
          }
        }
      ]
    },
    {
      "metadata": {},
      "cell_type": "markdown",
      "source": "Create a graph titled \"The Best Graph Ever\" using the data from \"TheBestGraph.txt\". Have the x-axis be from 0 to 45 incremented by 5 and the y axis to be from 0 to 100 incremented by 10. Make the line your favorite color (or close to) and your favorite pattern. Label line with \"The Best Line Ever\""
    },
    {
      "metadata": {
        "trusted": true
      },
      "cell_type": "code",
      "source": "",
      "execution_count": null,
      "outputs": []
    }
  ],
  "metadata": {
    "kernelspec": {
      "name": "python36",
      "display_name": "Python 3.6",
      "language": "python"
    },
    "language_info": {
      "mimetype": "text/x-python",
      "nbconvert_exporter": "python",
      "name": "python",
      "pygments_lexer": "ipython3",
      "version": "3.6.6",
      "file_extension": ".py",
      "codemirror_mode": {
        "version": 3,
        "name": "ipython"
      }
    }
  },
  "nbformat": 4,
  "nbformat_minor": 2
}
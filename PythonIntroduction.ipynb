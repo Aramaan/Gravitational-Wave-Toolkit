{
  "cells": [
    {
      "metadata": {
        "trusted": true
      },
      "cell_type": "markdown",
      "source": "## An Introduction to Python for Physicists"
    },
    {
      "metadata": {
        "trusted": true
      },
      "cell_type": "markdown",
      "source": "Here we are going to learn the basics of Python, and how we can use it to our advantage as physicists. "
    },
    {
      "metadata": {},
      "cell_type": "markdown",
      "source": "#### Getting started with Python\n\nPython is a very straightforward coding laungague. This allows for easy collaborations from across the globe. Each subset of physics relies on computers (how much depends on the section). From minor to major computations, coding is an easy quick way to process lots of data, making it a useful tool to have under ones belt. "
    },
    {
      "metadata": {},
      "cell_type": "markdown",
      "source": "### 1.1 The Basics of Python: Computations"
    },
    {
      "metadata": {},
      "cell_type": "markdown",
      "source": "#### 1.1.1 Variables\n\nComputing languages use *variables* to store and manipulate data. We'll learn about four common ones in Python:\n - Strings `string`\n - Integers `int`\n - Doubles `double`\n - Booleans `bool`"
    },
    {
      "metadata": {},
      "cell_type": "markdown",
      "source": "A string is a word or a sentence or a conglomeration of letters and numbers. It's literally a *string* of characters, so you can put pretty much anything in it; just put double quotes around it to mark it as a string."
    },
    {
      "metadata": {
        "trusted": true
      },
      "cell_type": "code",
      "source": "\"hi\"",
      "execution_count": 5,
      "outputs": [
        {
          "output_type": "execute_result",
          "execution_count": 5,
          "data": {
            "text/plain": "'hi'"
          },
          "metadata": {}
        }
      ]
    },
    {
      "metadata": {},
      "cell_type": "markdown",
      "source": "Integers and doubles are both numbers. The difference is a double is allowed to have a decimal point. For example, `5` can be an integer or a double, but `5.0` must be a double. Write an example of a double below."
    },
    {
      "metadata": {
        "trusted": true
      },
      "cell_type": "code",
      "source": "",
      "execution_count": null,
      "outputs": []
    },
    {
      "metadata": {},
      "cell_type": "markdown",
      "source": "Finally, a boolean is a variable with only two options: `True` or `False`. These will be used more in conditional logic, which we'll talk about later."
    },
    {
      "metadata": {},
      "cell_type": "markdown",
      "source": "We can create variables of any of these types to store information. For example, we can name one variable `x` and one variable `y`:"
    },
    {
      "metadata": {
        "trusted": true
      },
      "cell_type": "code",
      "source": "x=3\ny=2",
      "execution_count": 16,
      "outputs": []
    },
    {
      "metadata": {},
      "cell_type": "markdown",
      "source": "And we can create a third variable, `z`, from the combination of `x` and `y`:"
    },
    {
      "metadata": {
        "trusted": true
      },
      "cell_type": "code",
      "source": "z=x+y",
      "execution_count": 15,
      "outputs": []
    },
    {
      "metadata": {},
      "cell_type": "markdown",
      "source": "Now you try! Create a `string` below and assign it to the variable `name`:"
    },
    {
      "metadata": {
        "trusted": true
      },
      "cell_type": "code",
      "source": "name=",
      "execution_count": 20,
      "outputs": []
    },
    {
      "metadata": {},
      "cell_type": "markdown",
      "source": "#### 1.1.2 Print Statements\n\nBefore we are able to begin any math, we need a way for the computer to be able to talk to us. We call the results of any program we write the \"output.\" One way to produce output is through Python's \"print\" statement. This print function allows us to write something to our computer screen with the following format:  \n\nprint(\" *insert here* \"). \n\nSo, if you want to say \"`Hello World`\", "
    },
    {
      "metadata": {
        "trusted": true
      },
      "cell_type": "code",
      "source": " print(\"Hello World\")",
      "execution_count": null,
      "outputs": []
    },
    {
      "metadata": {},
      "cell_type": "markdown",
      "source": "You can print any of the basic variables, and you only have to put quotes `\"\"` around strings. Let's print an integer! Write your age in the `print` statement below."
    },
    {
      "metadata": {
        "trusted": true
      },
      "cell_type": "code",
      "source": "print()",
      "execution_count": null,
      "outputs": []
    },
    {
      "metadata": {},
      "cell_type": "markdown",
      "source": "Let's retrieve the information we stored earlier in the variable `z`."
    },
    {
      "metadata": {
        "trusted": true
      },
      "cell_type": "code",
      "source": "print(z)",
      "execution_count": 17,
      "outputs": [
        {
          "output_type": "stream",
          "text": "5\n",
          "name": "stdout"
        }
      ]
    },
    {
      "metadata": {},
      "cell_type": "markdown",
      "source": "The computer may have given you an error here. Errors indicate that you've written something that the computer can't understand. This may be a syntax mistake or a wrong type, like if you tried to divide a string by an integer. In this case, that would be because you didn't run the code above to store `x`, `y`, and `z`. If you run that code and then come back here, the error should be resolved.\n\nNow, let's try to do calculations within the print statement. Can we add two integers and print out the result?"
    },
    {
      "metadata": {
        "trusted": true
      },
      "cell_type": "code",
      "source": "print(2+1)",
      "execution_count": 16,
      "outputs": [
        {
          "output_type": "stream",
          "text": "3\n",
          "name": "stdout"
        }
      ]
    },
    {
      "metadata": {
        "trusted": true
      },
      "cell_type": "code",
      "source": "print (2-1)",
      "execution_count": 17,
      "outputs": [
        {
          "output_type": "stream",
          "text": "1\n",
          "name": "stdout"
        }
      ]
    },
    {
      "metadata": {},
      "cell_type": "markdown",
      "source": "We can add and subtract inside a print statement just as well as with variables. \n\nCan you add two strings? *When adding strings, \" \" must go around each seperate string, not the plus sign*"
    },
    {
      "metadata": {
        "trusted": true
      },
      "cell_type": "code",
      "source": "print (\"Yes, \" + \"you can\")",
      "execution_count": 18,
      "outputs": [
        {
          "output_type": "stream",
          "text": "Yes, you can\n",
          "name": "stdout"
        }
      ]
    },
    {
      "metadata": {},
      "cell_type": "markdown",
      "source": "What about subtraction?"
    },
    {
      "metadata": {
        "trusted": true
      },
      "cell_type": "code",
      "source": "print(\"NO\" - \"you cannot\")",
      "execution_count": 19,
      "outputs": [
        {
          "output_type": "error",
          "ename": "TypeError",
          "evalue": "unsupported operand type(s) for -: 'str' and 'str'",
          "traceback": [
            "\u001b[0;31m---------------------------------------------------------------------------\u001b[0m",
            "\u001b[0;31mTypeError\u001b[0m                                 Traceback (most recent call last)",
            "\u001b[0;32m<ipython-input-19-4747f9f956c0>\u001b[0m in \u001b[0;36m<module>\u001b[0;34m\u001b[0m\n\u001b[0;32m----> 1\u001b[0;31m \u001b[0mprint\u001b[0m\u001b[0;34m(\u001b[0m\u001b[0;34m\"NO\"\u001b[0m \u001b[0;34m-\u001b[0m \u001b[0;34m\"you cannot\"\u001b[0m\u001b[0;34m)\u001b[0m\u001b[0;34m\u001b[0m\u001b[0m\n\u001b[0m",
            "\u001b[0;31mTypeError\u001b[0m: unsupported operand type(s) for -: 'str' and 'str'"
          ]
        }
      ]
    },
    {
      "metadata": {},
      "cell_type": "markdown",
      "source": "Here, the error tells us that we've tried to do something the computer doesn't understand: subtract strings. That's good to know. Pay attention to error messages; they can help you figure out what you did wrong."
    },
    {
      "metadata": {},
      "cell_type": "markdown",
      "source": "We can also use a comma to add two strings:"
    },
    {
      "metadata": {
        "trusted": true
      },
      "cell_type": "code",
      "source": "print(\"Galileo\",\"Newton\")",
      "execution_count": 7,
      "outputs": [
        {
          "output_type": "stream",
          "text": "Galileo Newton\n",
          "name": "stdout"
        }
      ]
    },
    {
      "metadata": {},
      "cell_type": "markdown",
      "source": "Now see what happens when you write two different print statements:"
    },
    {
      "metadata": {
        "trusted": true
      },
      "cell_type": "code",
      "source": "print(\"Electricity and\")\nprint(\"Magnetism\")",
      "execution_count": 3,
      "outputs": [
        {
          "output_type": "stream",
          "text": "Electricity and\nMagnetism\n",
          "name": "stdout"
        }
      ]
    },
    {
      "metadata": {},
      "cell_type": "markdown",
      "source": "Try some Multipication and Division down below."
    },
    {
      "metadata": {
        "trusted": true
      },
      "cell_type": "code",
      "source": "",
      "execution_count": null,
      "outputs": []
    },
    {
      "metadata": {
        "trusted": true
      },
      "cell_type": "code",
      "source": "",
      "execution_count": null,
      "outputs": []
    },
    {
      "metadata": {},
      "cell_type": "markdown",
      "source": "Python also allows multiplication of strings and integers. This feature is fairly unique to this language and won't often be needed in your studies; however, you should try it out down below. We're retrieving the variable `name` you assigned earlier and multiplying it..."
    },
    {
      "metadata": {
        "trusted": true
      },
      "cell_type": "code",
      "source": "print(name*100)",
      "execution_count": 21,
      "outputs": [
        {
          "output_type": "stream",
          "text": "mynamemynamemynamemynamemynamemynamemynamemynamemynamemynamemynamemynamemynamemynamemynamemynamemynamemynamemynamemynamemynamemynamemynamemynamemynamemynamemynamemynamemynamemynamemynamemynamemynamemynamemynamemynamemynamemynamemynamemynamemynamemynamemynamemynamemynamemynamemynamemynamemynamemynamemynamemynamemynamemynamemynamemynamemynamemynamemynamemynamemynamemynamemynamemynamemynamemynamemynamemynamemynamemynamemynamemynamemynamemynamemynamemynamemynamemynamemynamemynamemynamemynamemynamemynamemynamemynamemynamemynamemynamemynamemynamemynamemynamemynamemynamemynamemynamemynamemynamemyname\n",
          "name": "stdout"
        }
      ]
    },
    {
      "metadata": {},
      "cell_type": "markdown",
      "source": "Which looks cleaner? \n\n\n*insert picture of a bunxh of messy computations and a single cohesive computation* \n\nProgramming is all about trying to make the cleanest, shortest, easiest to understand code. Same in real life, and in person, having the messiest work is never the good way to do things. Coding is all about organization, and correct syntax of course. \n\nTry coding the example above."
    },
    {
      "metadata": {
        "trusted": true
      },
      "cell_type": "code",
      "source": "",
      "execution_count": null,
      "outputs": []
    },
    {
      "metadata": {},
      "cell_type": "markdown",
      "source": "Before moving on. There are a few housekeepings to go over. \n1. Booleans - \n2. Case Sensitivty \n3. Variables \n4. "
    },
    {
      "metadata": {
        "trusted": true
      },
      "cell_type": "code",
      "source": "",
      "execution_count": null,
      "outputs": []
    }
  ],
  "metadata": {
    "kernelspec": {
      "name": "python36",
      "display_name": "Python 3.6",
      "language": "python"
    },
    "language_info": {
      "mimetype": "text/x-python",
      "nbconvert_exporter": "python",
      "name": "python",
      "pygments_lexer": "ipython3",
      "version": "3.6.6",
      "file_extension": ".py",
      "codemirror_mode": {
        "version": 3,
        "name": "ipython"
      }
    }
  },
  "nbformat": 4,
  "nbformat_minor": 2
}
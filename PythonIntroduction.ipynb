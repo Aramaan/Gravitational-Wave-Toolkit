{
  "cells": [
    {
      "metadata": {
        "trusted": true
      },
      "cell_type": "markdown",
      "source": "\n\n## An Introduction to Python for Physicists"
    },
    {
      "metadata": {
        "trusted": true
      },
      "cell_type": "markdown",
      "source": "Here we are going to learn the basics of Python, and how we can use it to our advantage as physicists. "
    },
    {
      "metadata": {},
      "cell_type": "markdown",
      "source": "#### Getting started with Python\n\nPython is a very straightforward coding laungague. This allows for easy collaborations from across the globe. Each subset of physics relies on computers (how much depends on the section). From minor to major computations, coding is an easy quick way to process lots of data, making it a useful tool to have under ones belt. "
    },
    {
      "metadata": {},
      "cell_type": "markdown",
      "source": "### The Basics of Python: Computations"
    },
    {
      "metadata": {},
      "cell_type": "markdown",
      "source": "#### 1.1 Variables\n\nComputing languages use *variables* to store and manipulate data. We'll learn about four common ones in Python:\n - Strings `string`\n - Integers `int`\n - Float `double`\n - Booleans `bool`"
    },
    {
      "metadata": {},
      "cell_type": "markdown",
      "source": "A string is a word or a sentence or a conglomeration of letters and numbers. It's literally a *string* of characters, so you can put pretty much anything in it; just put double quotes around it to mark it as a string."
    },
    {
      "metadata": {
        "trusted": true
      },
      "cell_type": "code",
      "source": "\"hi\"",
      "execution_count": 1,
      "outputs": [
        {
          "output_type": "execute_result",
          "execution_count": 1,
          "data": {
            "text/plain": "'hi'"
          },
          "metadata": {}
        }
      ]
    },
    {
      "metadata": {},
      "cell_type": "markdown",
      "source": "Integers and floats are both numbers. The difference is a float is allowed to have a decimal point. For example, `5` can be an integer or a double, but `5.0` must be a double. Write an example of a double below."
    },
    {
      "metadata": {
        "trusted": true
      },
      "cell_type": "code",
      "source": "",
      "execution_count": null,
      "outputs": []
    },
    {
      "metadata": {},
      "cell_type": "markdown",
      "source": "Finally, a boolean is a variable with only two options: `True` or `False`. These will be used more in conditional logic, which we'll talk about later."
    },
    {
      "metadata": {},
      "cell_type": "markdown",
      "source": "We can create variables of any of these types to store information. For example, we can name one variable `x` and one variable `y`:"
    },
    {
      "metadata": {
        "trusted": true
      },
      "cell_type": "code",
      "source": "x=3\ny=2",
      "execution_count": 7,
      "outputs": []
    },
    {
      "metadata": {},
      "cell_type": "markdown",
      "source": "And we can create a third variable, `z`, from the combination of `x` and `y`:"
    },
    {
      "metadata": {
        "trusted": true
      },
      "cell_type": "code",
      "source": "z=x+y",
      "execution_count": 8,
      "outputs": []
    },
    {
      "metadata": {},
      "cell_type": "markdown",
      "source": "Now you try! Create a `string` below and assign it to the variable `name`:"
    },
    {
      "metadata": {
        "trusted": true
      },
      "cell_type": "code",
      "source": "name=",
      "execution_count": 9,
      "outputs": [
        {
          "output_type": "error",
          "ename": "SyntaxError",
          "evalue": "invalid syntax (<ipython-input-9-7c59b7acc47a>, line 1)",
          "traceback": [
            "\u001b[0;36m  File \u001b[0;32m\"<ipython-input-9-7c59b7acc47a>\"\u001b[0;36m, line \u001b[0;32m1\u001b[0m\n\u001b[0;31m    name=\u001b[0m\n\u001b[0m         ^\u001b[0m\n\u001b[0;31mSyntaxError\u001b[0m\u001b[0;31m:\u001b[0m invalid syntax\n"
          ]
        }
      ]
    },
    {
      "metadata": {},
      "cell_type": "markdown",
      "source": "#### 1.2 Print Statements\n\nBefore we are able to begin any math, we need a way for the computer to be able to talk to us. We call the results of any program we write the \"output.\" One way to produce output is through Python's \"print\" statement. This print function allows us to write something to our computer screen with the following format:  \n\nprint(\" *insert here* \"). \n\nSo, if you want to say \"`Hello World`\", "
    },
    {
      "metadata": {
        "trusted": true
      },
      "cell_type": "code",
      "source": " print(\"Hello World\")",
      "execution_count": 10,
      "outputs": [
        {
          "output_type": "stream",
          "text": "Hello World\n",
          "name": "stdout"
        }
      ]
    },
    {
      "metadata": {},
      "cell_type": "markdown",
      "source": "You can print any of the basic variables, and you only have to put quotes `\"\"` around strings. Let's print an integer! Write your age in the `print` statement below."
    },
    {
      "metadata": {
        "trusted": true
      },
      "cell_type": "code",
      "source": "print()",
      "execution_count": 11,
      "outputs": [
        {
          "output_type": "stream",
          "text": "\n",
          "name": "stdout"
        }
      ]
    },
    {
      "metadata": {},
      "cell_type": "markdown",
      "source": "Let's retrieve the information we stored earlier in the variable `z`."
    },
    {
      "metadata": {
        "trusted": true
      },
      "cell_type": "code",
      "source": "print(z)",
      "execution_count": 12,
      "outputs": [
        {
          "output_type": "stream",
          "text": "5\n",
          "name": "stdout"
        }
      ]
    },
    {
      "metadata": {},
      "cell_type": "markdown",
      "source": "The computer may have given you an error here. Errors indicate that you've written something that the computer can't understand. This may be a syntax mistake or a wrong type, like if you tried to divide a string by an integer. In this case, that would be because you didn't run the code above to store `x`, `y`, and `z`. If you run that code and then come back here, the error should be resolved.\n\nNow, let's try to do calculations within the print statement. Can we add two integers and print out the result?"
    },
    {
      "metadata": {
        "trusted": true
      },
      "cell_type": "code",
      "source": "print(2+1)",
      "execution_count": 13,
      "outputs": [
        {
          "output_type": "stream",
          "text": "3\n",
          "name": "stdout"
        }
      ]
    },
    {
      "metadata": {
        "trusted": true
      },
      "cell_type": "code",
      "source": "print (2-1)",
      "execution_count": 14,
      "outputs": [
        {
          "output_type": "stream",
          "text": "1\n",
          "name": "stdout"
        }
      ]
    },
    {
      "metadata": {},
      "cell_type": "markdown",
      "source": "We can add and subtract inside a print statement just as well as with variables. \n\nCan you add two strings? *When adding strings, \" \" must go around each seperate string, not the plus sign*"
    },
    {
      "metadata": {
        "trusted": true
      },
      "cell_type": "code",
      "source": "print (\"Yes, \" + \"you can\")",
      "execution_count": 15,
      "outputs": [
        {
          "output_type": "stream",
          "text": "Yes, you can\n",
          "name": "stdout"
        }
      ]
    },
    {
      "metadata": {},
      "cell_type": "markdown",
      "source": "What about subtraction?"
    },
    {
      "metadata": {
        "trusted": true
      },
      "cell_type": "code",
      "source": "print(\"NO\" - \"you cannot\")",
      "execution_count": 16,
      "outputs": [
        {
          "output_type": "error",
          "ename": "TypeError",
          "evalue": "unsupported operand type(s) for -: 'str' and 'str'",
          "traceback": [
            "\u001b[0;31m---------------------------------------------------------------------------\u001b[0m",
            "\u001b[0;31mTypeError\u001b[0m                                 Traceback (most recent call last)",
            "\u001b[0;32m<ipython-input-16-4747f9f956c0>\u001b[0m in \u001b[0;36m<module>\u001b[0;34m\u001b[0m\n\u001b[0;32m----> 1\u001b[0;31m \u001b[0mprint\u001b[0m\u001b[0;34m(\u001b[0m\u001b[0;34m\"NO\"\u001b[0m \u001b[0;34m-\u001b[0m \u001b[0;34m\"you cannot\"\u001b[0m\u001b[0;34m)\u001b[0m\u001b[0;34m\u001b[0m\u001b[0m\n\u001b[0m",
            "\u001b[0;31mTypeError\u001b[0m: unsupported operand type(s) for -: 'str' and 'str'"
          ]
        }
      ]
    },
    {
      "metadata": {},
      "cell_type": "markdown",
      "source": "Here, the error tells us that we've tried to do something the computer doesn't understand: subtract strings. That's good to know. Pay attention to error messages; they can help you figure out what you did wrong."
    },
    {
      "metadata": {},
      "cell_type": "markdown",
      "source": "We can also use a comma to add two strings:"
    },
    {
      "metadata": {
        "trusted": true
      },
      "cell_type": "code",
      "source": "print(\"Galileo\",\"Newton\")",
      "execution_count": 17,
      "outputs": [
        {
          "output_type": "stream",
          "text": "Galileo Newton\n",
          "name": "stdout"
        }
      ]
    },
    {
      "metadata": {},
      "cell_type": "markdown",
      "source": "Now see what happens when you write two different print statements:"
    },
    {
      "metadata": {
        "trusted": true
      },
      "cell_type": "code",
      "source": "print(\"Electricity and\")\nprint(\"Magnetism\")",
      "execution_count": 18,
      "outputs": [
        {
          "output_type": "stream",
          "text": "Electricity and\nMagnetism\n",
          "name": "stdout"
        }
      ]
    },
    {
      "metadata": {},
      "cell_type": "markdown",
      "source": "Try some Multipication and Division down below."
    },
    {
      "metadata": {
        "trusted": true
      },
      "cell_type": "code",
      "source": "",
      "execution_count": null,
      "outputs": []
    },
    {
      "metadata": {
        "trusted": true
      },
      "cell_type": "code",
      "source": "",
      "execution_count": null,
      "outputs": []
    },
    {
      "metadata": {},
      "cell_type": "markdown",
      "source": "Python also allows multiplication of strings and integers. This feature is fairly unique to this language and won't often be needed in your studies; however, you should try it out down below. We're retrieving the variable `name` you assigned earlier and multiplying it..."
    },
    {
      "metadata": {
        "trusted": true
      },
      "cell_type": "code",
      "source": "print(name*100)",
      "execution_count": 19,
      "outputs": [
        {
          "output_type": "error",
          "ename": "NameError",
          "evalue": "name 'name' is not defined",
          "traceback": [
            "\u001b[0;31m---------------------------------------------------------------------------\u001b[0m",
            "\u001b[0;31mNameError\u001b[0m                                 Traceback (most recent call last)",
            "\u001b[0;32m<ipython-input-19-a1e5fb3ebcd9>\u001b[0m in \u001b[0;36m<module>\u001b[0;34m\u001b[0m\n\u001b[0;32m----> 1\u001b[0;31m \u001b[0mprint\u001b[0m\u001b[0;34m(\u001b[0m\u001b[0mname\u001b[0m\u001b[0;34m*\u001b[0m\u001b[0;36m100\u001b[0m\u001b[0;34m)\u001b[0m\u001b[0;34m\u001b[0m\u001b[0m\n\u001b[0m",
            "\u001b[0;31mNameError\u001b[0m: name 'name' is not defined"
          ]
        }
      ]
    },
    {
      "metadata": {},
      "cell_type": "markdown",
      "source": "#### 1.3 Computations\nWhich looks cleaner? \n\n*figure out how to write equations in juypter notebooks >:(\n\n$\\sqrt{3+2\\left(4^2*7\\right)}-36$"
    },
    {
      "metadata": {
        "trusted": true
      },
      "cell_type": "markdown",
      "source": "Programming is all about trying to make the cleanest, shortest, easiest to understand code. Same in real life, and in person, having the messiest work is never the good way to do things. Coding is all about organization, and correct syntax of course. \n\nTry coding the example above."
    },
    {
      "metadata": {
        "trusted": true
      },
      "cell_type": "code",
      "source": "",
      "execution_count": null,
      "outputs": []
    },
    {
      "metadata": {},
      "cell_type": "markdown",
      "source": "**_If there is a part of coding, or a function you dont understand go look at the functions/syntax list we have in the github folder. Try looking for the += operator to understand_**"
    },
    {
      "metadata": {},
      "cell_type": "markdown",
      "source": "Before moving on. There are a few housekeepings to go over. \n\n1. Case Sensitivity - As any coding language, everything is case sensitive. If you are producing errors, try looking for these \n2. Three types of Errors - \n - Syntax Error, This is an error we've already seen (example above). Think of it as spelling error. Missing a quotation mark, an extra parenthesis, spelling a function wrong.\n - Runtime Error, This occurs when youre trying to do something physically impossible. Dividing by zero, square rooting a negative number \n - Logic Errors, something you coded is wrong. Think of writing code for the area of a triangle and you forget to add the one half (with the correct being (1/2) * base * height. This is a logic error \n3. Coding conventions - this includes naming variables with appropriate names and an underscore to separate words, like `my_name`\n4. Comments with the `##`"
    },
    {
      "metadata": {
        "trusted": true
      },
      "cell_type": "markdown",
      "source": "### The Basics of Python : Functions "
    },
    {
      "metadata": {},
      "cell_type": "markdown",
      "source": "#### 2.1 What is a Function\n\nCoding used to be a long line of instructions executed sequentially. To make it more efficient, programming languages started to introduce *functions*, which are a way to package several commands into one. \n\nLet's take this out of the context of coding. If you want to make a PB&J sandwich, you might put down a piece of bread, then peanut butter, then jelly, then another piece of bread. This could be look like the following code:"
    },
    {
      "metadata": {
        "trusted": true
      },
      "cell_type": "code",
      "source": "def make_sandwich():\n    sandwich = \"bread\"\n    sandwich += \" and peanut butter\"\n    sandwich += \" and jelly\"\n    sandwich += \" and bread\"\n    return sandwich",
      "execution_count": 1,
      "outputs": []
    },
    {
      "metadata": {},
      "cell_type": "markdown",
      "source": "There's a couple important points to note about the syntax above. A function is marked by the key word `def` and it must have a colon `:` after the name. Each line that is part of the function **must be indented** to show the program how it's intended to be executed. And a function often ends with a `return` statement, which gives the end result of the function.\n\nOnce you define a function, you can \"call\" it later on in your program. You call it just by writing its name, as so:"
    },
    {
      "metadata": {
        "trusted": true
      },
      "cell_type": "code",
      "source": "make_sandwich()",
      "execution_count": 2,
      "outputs": [
        {
          "output_type": "execute_result",
          "execution_count": 2,
          "data": {
            "text/plain": "'bread and peanut butter and jelly and bread'"
          },
          "metadata": {}
        }
      ]
    },
    {
      "metadata": {},
      "cell_type": "markdown",
      "source": "If the function has a return value, then you can assign that value to a variable of your choice, to do more things with it later. For example, here we assign it to the variable `lunch` so we can print out the return value of the function."
    },
    {
      "metadata": {
        "trusted": true
      },
      "cell_type": "code",
      "source": "lunch = make_sandwich()\n\nprint(\"I am eating\", lunch)",
      "execution_count": 3,
      "outputs": [
        {
          "output_type": "stream",
          "text": "I am eating bread and peanut butter and jelly and bread\n",
          "name": "stdout"
        }
      ]
    },
    {
      "metadata": {},
      "cell_type": "markdown",
      "source": "Functions allow your code better organization, flexibility, and reusability. If you wanted to change how you made your sandwich, perhaps by adding jam to one piece of bread and peanut butter to the other piece, and then adding them together, you could rewrite the `make_sandwich()` function without touching any other code."
    },
    {
      "metadata": {},
      "cell_type": "markdown",
      "source": "##### Another Example\n\nLet's try a more mathematical example: calculating the area of a circle. If we were doing this without a function, we have three essential portions of the calculation: \n - One defining the radius of the circle\n - One calculating the area from the radius\n - One printing the result of the calculation\n\nRecall the formula for area of a circle:\n$$a_{circle}=\\pi*r^2$$\n \nFor our calculation, we need to know two pieces of syntax we have not yet encountered.\n1. We get the value of pi from the library `math`, which can be accessed either from import statement or by writing `math.pi` as shown below.\n2. Powers can be calculated with the `**` operator, or alternatively with the method `math.pow`. **DO NOT USE the `^` operator.** That's a completely different binary operation and will give you a wrong answer.\n \nThis code might be done with one line or four, as shown below. That's up to personal preference and the particular needs of the program. "
    },
    {
      "metadata": {
        "trusted": true
      },
      "cell_type": "code",
      "source": "from math import pi\n\nradius = 10\narea = pi * radius**2\nprint(\"The area of circle with radius\", radius, \"is\", area)",
      "execution_count": 11,
      "outputs": [
        {
          "output_type": "stream",
          "text": "The area of circle with radius 10 is 314.1592653589793\n",
          "name": "stdout"
        }
      ]
    },
    {
      "metadata": {
        "trusted": true
      },
      "cell_type": "code",
      "source": "print(\"The area of circle with radius\", radius, \"is\", math.pi * (10)**2)",
      "execution_count": 12,
      "outputs": [
        {
          "output_type": "stream",
          "text": "The area of circle with radius 10 is 314.1592653589793\n",
          "name": "stdout"
        }
      ]
    },
    {
      "metadata": {},
      "cell_type": "markdown",
      "source": "Check with a friend, a calculator, or Google to make sure you've got the right answer."
    },
    {
      "metadata": {},
      "cell_type": "markdown",
      "source": "We are, however, still one step away from a complete function. We *can* create a function just by dropping all our code from above into a `def`, which we'll call `area_circle`."
    },
    {
      "metadata": {
        "trusted": true
      },
      "cell_type": "code",
      "source": "## Define the function\ndef area_circle():\n    radius = 10\n    area = math.pi * radius**2\n    print(\"The area of circle with radius\", radius, \"is\", area)\n    return\n\n## Call it\narea_circle()",
      "execution_count": 14,
      "outputs": [
        {
          "output_type": "stream",
          "text": "The area of circle with radius 10 is 314.1592653589793\n",
          "name": "stdout"
        }
      ]
    },
    {
      "metadata": {},
      "cell_type": "markdown",
      "source": "Note that this time, the function doesn't return anything. See what that happens if you try to print the result from what's called a `void` function:"
    },
    {
      "metadata": {
        "trusted": true
      },
      "cell_type": "code",
      "source": "print(area_circle())",
      "execution_count": 15,
      "outputs": [
        {
          "output_type": "stream",
          "text": "The area of circle with radius 10 is 314.1592653589793\nNone\n",
          "name": "stdout"
        }
      ]
    },
    {
      "metadata": {},
      "cell_type": "markdown",
      "source": "In the absence of any specifications on the return type, it simply returns `None`."
    },
    {
      "metadata": {},
      "cell_type": "markdown",
      "source": "Now we're going to add what's called a `param`, short for parameter. This goes in the parenthesis by the function name, and allows us to give the function input. Our parameter will represent the radius of the circle, so we'll have to define that outside our function."
    },
    {
      "metadata": {
        "trusted": true
      },
      "cell_type": "code",
      "source": "## Define the function, for the second time\ndef area_circle(radius):\n    area = math.pi * radius**2\n    print(\"The area of circle with radius\", radius, \"is\", area)\n    return\n\n## Call it\nr = 10\narea_circle(r)",
      "execution_count": 16,
      "outputs": [
        {
          "output_type": "stream",
          "text": "The area of circle with radius 10 is 314.1592653589793\n",
          "name": "stdout"
        }
      ]
    },
    {
      "metadata": {},
      "cell_type": "markdown",
      "source": "Note that we called our variable outside the function `r`, and we called the parameter `radius`. `r` is \"passed in\" to the function as the paramater `radius`, but they don't need to be called the same thing for that to work.\n\nThe benefit of parameters is more flexible code. You could define this function once and call it as many times as you need to, with different radii each time. Below, call it with a different radius:"
    },
    {
      "metadata": {
        "trusted": true
      },
      "cell_type": "code",
      "source": "## Call area_circle with a radius of your choice:\n\n",
      "execution_count": 17,
      "outputs": []
    },
    {
      "metadata": {},
      "cell_type": "markdown",
      "source": "We've given our function input; now let's give it output. We'll give our function a *return type* of the area of the circle. We can print the result outside of our function instead."
    },
    {
      "metadata": {
        "trusted": true
      },
      "cell_type": "code",
      "source": "## Define the function, for the third and final time\ndef area_circle(radius):\n    area = math.pi * radius**2\n    return area\n\n## Call it\nr = 10\narea = area_circle(r)\nprint(\"The area of circle with radius\", r, \"is\", area)",
      "execution_count": 18,
      "outputs": [
        {
          "output_type": "stream",
          "text": "The area of circle with radius 10 is 314.1592653589793\n",
          "name": "stdout"
        }
      ]
    },
    {
      "metadata": {},
      "cell_type": "markdown",
      "source": "We've now achieved the same output *five* different ways. \n- Without a function, with four lines\n- Without a function, with one line\n- With a function, no parameters and no return value\n- With a function, one parameter and no return value\n- With a function, one parameter and a return value\n\nGood job! Of all these ways, different ones will be useful in different circumstances. If you needed to find the area for many different radii, one of the last two would be much more useful, but if you only needed to do it once, any of the five would be sufficient. This happens frequently in programming. Functions are one way to organize your code but they are never the only way to do something."
    },
    {
      "metadata": {},
      "cell_type": "markdown",
      "source": "Now your turn! Write a function to calculate the area of a cone, and call it with a `radius` of 4 and a `height` of 12. You can pass in two parameters by separating them by commas, like so:\n\n`def function(one, two)`"
    },
    {
      "metadata": {
        "trusted": true
      },
      "cell_type": "code",
      "source": "",
      "execution_count": null,
      "outputs": []
    },
    {
      "metadata": {},
      "cell_type": "markdown",
      "source": "Write a function (or two, if you're feeling adventurous) to calculate the `surface area` of a sphere with an `area` of 300."
    },
    {
      "metadata": {
        "trusted": true
      },
      "cell_type": "code",
      "source": "",
      "execution_count": null,
      "outputs": []
    },
    {
      "metadata": {},
      "cell_type": "markdown",
      "source": "One more thing to note about functions, before we go forward. When our code gets complicated enough, we may choose to use a more complicated structure called a `class`. You've seen classes before: `math` is a class, and it contains its own functions (like `pow()`) and variables (like `pi`). When a function is a part of a class, we call it a \"method.\"\n\nOften classes are defined with one Main Method that does all the work. These will be named as following:<br>\n`def __main__(self)`<br>\nThe underscores are a python convention, and just part of the name like any other character. The `self` is an extra parameter that must be included for any method in a class. \n\nA few more things about functions: it is possible to have functions without return values. We know these by void functions. A common void function would be ones that have a print statement in the body (like above). If you want good syntax, you should always return a blank statement (examples below). Another function we need to be aware of is `def main`. Its the function where all the important parts of the code are going on. More of this will be later. "
    },
    {
      "metadata": {
        "trusted": true
      },
      "cell_type": "markdown",
      "source": "#### 2.2 If / Else Statements\n\nTake a guess on what if / else might stand for. If you guessed If x happens then do y, else do z, you are correct ! If/Else are one of the most used ways\nto sort the data you've been given. Another way to use if / else is to make sure the input you are given does not give you a runtime error (dividing by zero for example). "
    },
    {
      "metadata": {},
      "cell_type": "markdown",
      "source": "If / else can appear in three forms. Examples are below.\n"
    },
    {
      "metadata": {
        "trusted": true
      },
      "cell_type": "code",
      "source": "if 10 > 12 :\n    print(\"yes\")",
      "execution_count": 37,
      "outputs": []
    },
    {
      "metadata": {
        "trusted": true
      },
      "cell_type": "code",
      "source": "if 10 > 12 : \n    print (\"yes\")\n    \nelse :\n    print (\"no\")",
      "execution_count": null,
      "outputs": []
    },
    {
      "metadata": {
        "trusted": true
      },
      "cell_type": "code",
      "source": "if 10 > 12:\n    print (\"yes\")\n    \nelif 10 == 12: \n    print (\"maybe\")\n    \nelse :\n    print (\"no\")",
      "execution_count": null,
      "outputs": []
    },
    {
      "metadata": {},
      "cell_type": "markdown",
      "source": "To clarify, the elif (else if ) statement allows you to stack requirements as to not cause a mess with nested if / else statements. \n\nThings to remember:\n - = is when you assign a value \n - == is to compare variables. \n - Think of the : as invisible brackets. It helps your computer know what belongs to who. "
    },
    {
      "metadata": {},
      "cell_type": "markdown",
      "source": "*Another easier example? possibly involving boolean*"
    },
    {
      "metadata": {
        "trusted": true
      },
      "cell_type": "code",
      "source": "",
      "execution_count": null,
      "outputs": []
    },
    {
      "metadata": {},
      "cell_type": "markdown",
      "source": "Example : Inputting a number to compare to a random number between 1 and 10. Try results that trigger each response (a good way to debug your code)"
    },
    {
      "metadata": {
        "trusted": true
      },
      "cell_type": "code",
      "source": "import random\n\ndef doTheyMatch(yourNum):\n    if yourNum < 1 or yourNum > 10:\n        print (\"Try a number in the range\")\n        \n    else:\n        correctNum = random.randint(1,10)\n        if yourNum == correctNum:\n                print(\"They match\")\n        else:\n                print(\"They do not match\")\n                \n    return \n    \n   ",
      "execution_count": 37,
      "outputs": []
    },
    {
      "metadata": {
        "trusted": true
      },
      "cell_type": "code",
      "source": "doTheyMatch()",
      "execution_count": null,
      "outputs": []
    },
    {
      "metadata": {
        "trusted": true
      },
      "cell_type": "code",
      "source": "doTheyMatch()",
      "execution_count": null,
      "outputs": []
    },
    {
      "metadata": {
        "trusted": true
      },
      "cell_type": "code",
      "source": "doTheyMatch()",
      "execution_count": null,
      "outputs": []
    },
    {
      "metadata": {},
      "cell_type": "markdown",
      "source": "Write a function called whatIsMyGrade to determine the letter grade of 92 , 60, and 72"
    },
    {
      "metadata": {
        "trusted": true
      },
      "cell_type": "code",
      "source": "",
      "execution_count": null,
      "outputs": []
    },
    {
      "metadata": {},
      "cell_type": "markdown",
      "source": "Write a function involving if/else loops to compute the BMI(In SI units) of an adult \n- 160 pounds and 72 inches\n- 200 pounds and 63 inches\n- 190 pounds and 70 inches\n- 100 pounds and 65 inches\n\nPlease include if these people are underweight, normal, overweight, or obese"
    },
    {
      "metadata": {
        "trusted": true
      },
      "cell_type": "code",
      "source": "def computeBMI (pounds,inches):\n  \n\n\n    return ",
      "execution_count": 40,
      "outputs": []
    },
    {
      "metadata": {
        "trusted": true
      },
      "cell_type": "code",
      "source": "",
      "execution_count": null,
      "outputs": []
    },
    {
      "metadata": {},
      "cell_type": "markdown",
      "source": "#### 2.3 Loops\n\nI need to display my age 25 times! How can i do this? I could `print(\"I am 20 years old\")` 25 times..... or i can use a loop! Loops are helpful when processing large amounts of data (like we will later). There are two types of loops fundamental for programming: The `while` loop are boolean (true/false) based, the `for` loop is count based (for a certain number of times). Examples of each lie below "
    },
    {
      "metadata": {
        "trusted": true
      },
      "cell_type": "code",
      "source": "#While Loop \n\nsum = 0\ni = 1\n\nwhile i < 10:\n    sum = sum + i #can also be written as sum += i\n    i = i + 1\nprint('The sum is',sum)",
      "execution_count": 46,
      "outputs": [
        {
          "output_type": "stream",
          "text": "The sum is 45\n",
          "name": "stdout"
        }
      ]
    },
    {
      "metadata": {},
      "cell_type": "markdown",
      "source": "I wonder what happens when you put the print statement inside the loop..."
    },
    {
      "metadata": {
        "trusted": true
      },
      "cell_type": "code",
      "source": "#While Loop \n\nsum = 0\ni = 1\n\nwhile i < 10:\n    sum = sum + i\n    i = i + 1       # can also be written as i += 1\n    print('The sum is',sum)",
      "execution_count": 47,
      "outputs": [
        {
          "output_type": "stream",
          "text": "The sum is 1\nThe sum is 3\nThe sum is 6\nThe sum is 10\nThe sum is 15\nThe sum is 21\nThe sum is 28\nThe sum is 36\nThe sum is 45\n",
          "name": "stdout"
        }
      ]
    },
    {
      "metadata": {
        "trusted": true
      },
      "cell_type": "code",
      "source": "#For Loops \n\nfor i in range(0,6):\n    print(\"i value is \",i)\n",
      "execution_count": 49,
      "outputs": [
        {
          "output_type": "stream",
          "text": "i value is  0\ni value is  1\ni value is  2\ni value is  3\ni value is  4\ni value is  5\n",
          "name": "stdout"
        }
      ]
    },
    {
      "metadata": {},
      "cell_type": "markdown",
      "source": "For loops have a different syntax so let's break it down. If the loop was a while loop it would look like the code below"
    },
    {
      "metadata": {
        "trusted": true
      },
      "cell_type": "code",
      "source": "i = 0\n\nwhile i < 6:\n    print(\"i value is \",i)\n    i+= 1",
      "execution_count": 52,
      "outputs": [
        {
          "output_type": "stream",
          "text": "i value is  0\ni value is  1\ni value is  2\ni value is  3\ni value is  4\ni value is  5\n",
          "name": "stdout"
        }
      ]
    },
    {
      "metadata": {},
      "cell_type": "markdown",
      "source": "Can you see the comparisons? Lets talk about them to make sure you have an understanding. With the for loop, there is no need to declare the variable itself. The for loop does it for us. Do you see where the 0 and 6 are in the while loop? Even though they are not next to each other, these are initial value, and end value. In the for loop, they are right next to each other, making it easier to count. Another factor of the for loop is it's it counts (ups the value of i) within the loop itself. While the for loop (in this case) is half the amount of code as the while loop, it ultimately depends on the code you are writing to determine which to use."
    },
    {
      "metadata": {},
      "cell_type": "markdown",
      "source": "Write a function without recursion to give an answer for 27! (27 factorial)"
    },
    {
      "metadata": {
        "trusted": true
      },
      "cell_type": "code",
      "source": "def factorial(factorial):\n    \n    return",
      "execution_count": null,
      "outputs": []
    },
    {
      "metadata": {},
      "cell_type": "markdown",
      "source": "Write a function that computes the tuition in 12 years and the total cost of four year's worth of tuition starting 12 from now. This year tuition is $14,000 a year and increases seven percent every year."
    },
    {
      "metadata": {
        "trusted": true
      },
      "cell_type": "code",
      "source": "def computeTuition(years)\n\n    return",
      "execution_count": null,
      "outputs": []
    },
    {
      "metadata": {},
      "cell_type": "markdown",
      "source": "Write a nested `for` loop that displays the following data (no need for a function)\n\n                          1\n                     1    2   1\n                 1   2    4   2   1\n             1   2   4    8   4   2   1\n         1   2   4   8   16   8   4   2  1 \n      1  2   4   8  16   32  16   8   4  2  1\n    1 2  4   8  16  32   64  32  16   8  4  2  1 "
    },
    {
      "metadata": {
        "trusted": true
      },
      "cell_type": "code",
      "source": "",
      "execution_count": null,
      "outputs": []
    },
    {
      "metadata": {
        "trusted": true
      },
      "cell_type": "markdown",
      "source": "#### 2.4 Recursion\n\nA recursive function is best described as a function that calls itself. This type of loop (and the last we'll learn) is one of the hardest to comprehend and program. It's very easy to get caught up and in these loops. So lets take some time to learn them. "
    },
    {
      "metadata": {
        "trusted": true
      },
      "cell_type": "markdown",
      "source": "Let's use the factorial example. You were able to do it with a `while` or a `for` loop correct? Programming is about efficiency, in both writing and executing code. Fewer lines often means fewer opportunities for bugs, so a short function like that shown below is a good programming strategy."
    },
    {
      "metadata": {
        "trusted": true
      },
      "cell_type": "code",
      "source": "def factorial(n):\n    if n == 0 :\n        return 1\n    else:\n        return n * factorial(n-1)",
      "execution_count": 7,
      "outputs": []
    },
    {
      "metadata": {
        "trusted": true
      },
      "cell_type": "code",
      "source": "factorial(27)",
      "execution_count": 5,
      "outputs": [
        {
          "output_type": "execute_result",
          "execution_count": 5,
          "data": {
            "text/plain": "10888869450418352160768000000"
          },
          "metadata": {}
        }
      ]
    },
    {
      "metadata": {},
      "cell_type": "markdown",
      "source": "Same number right? (or it should be). Let's walkthrough what exactly is happening. The first if statement we have our stopping function. This allows us to be able to exit our recursive loop. In our function, we are subtracting 1 from n, meaning at some point it will hit zero. This is called a \"base case;\" if we didn't have it, the function would run forever and might crash the computer. For any number. a perfect place to put a stopping function. Now the else statement. This is where the main body of our code exists. With n == 4, try tracing out the path of the code yourself before we discuss it. "
    },
    {
      "metadata": {},
      "cell_type": "raw",
      "source": "Now you've drawn it lets compare.\n\ndef factorial(4):\n    if n == 0 :\n        return 1\n    else:  \n        return 4 * factorial(3)                                                                                 4 * ( 6 )\n                        if n == 0 : \n                            return 1\n                        else:\n                            return 3 * factorial(2)                                                             3 * ( 2 )\n                                            if n == 0 : \n                                                return 1\n                                            else: \n                                                return 2 * factorial(1)                                         2 * (1 * 1)\n                                                               if n == 0 : \n                                                                   return 1\n                                                               else: \n                                                                   return 1 * factorial(0)                      1 * 1\n                                                                                   if n == 0\n                                                                                       return 1\n    "
    },
    {
      "metadata": {},
      "cell_type": "markdown",
      "source": "Do they match? i hope so. Recursive keep going until they hit the stopping point, and trace themselves back. Think of the stopping point as a road block. Once you hit it, gotta retrace your route back to where you started just on the other side of the road!\n\nLet's walk through another example, this one a little more complicated. Remember, if you see something we havent talked about (syntax or a function) please refer to the FunctionList we have provided. "
    },
    {
      "metadata": {
        "trusted": true
      },
      "cell_type": "code",
      "source": "def isPalindrome(s): \n    ## Base Case\n    if len(s) <= 1 :  \n        return True  \n    ## Base Case\n    elif s[0] != s[len(s) - 1] :\n        return False           \n    ## Recursive Call\n    else: \n        return isPalindrome(s[1 : len(s)- 1])\n    \nisPalindrome(\"Physics\")",
      "execution_count": 27,
      "outputs": [
        {
          "output_type": "execute_result",
          "execution_count": 27,
          "data": {
            "text/plain": "False"
          },
          "metadata": {}
        }
      ]
    },
    {
      "metadata": {},
      "cell_type": "markdown",
      "source": "Let's clarify a few things above. If you havent looked at the FunctionList, len(x) is a function that returns the length of any string (counting characters). For example, 'try' would have a length of three. Secondly, using brackets returns a specific spot within a string. Since computers begin counting at zero and if s = 'try'\n- s[0] = t\n- s[1] = r\n- s[2] = y\n\nLastly, s[1 : len(s)] - 1 begins at 1 from len(s) (eliminating the first character we already tested), and shortens the length of the string by one (eliminates the last character we tested). If these are still iffy, skip down to 3.2 Lists for further clarification.\n\nWith these in mind, lets try explaing the code now. You try first. Type it down below with a palindrome of your choosing. Make sure to specifiy which palindrome"
    },
    {
      "metadata": {},
      "cell_type": "markdown",
      "source": "Type here: "
    },
    {
      "metadata": {},
      "cell_type": "markdown",
      "source": "Now for my explanation, isPalindrome reads in a string, example : mom. It is first checked to see if the length of the string is equal to or less than 1. It is not. It is secondly checked to see if the first character is the string is not equal to the last character in the string. They are. Now we move up/down the string. Our new string is o. isPalindrome reads in a string, o. It is first checked to see if the length of the string is equal to or less than 1. It is. We return true, meaning our original string mom is a palindrome. \n\nHow similar are the two explanations? It is important to be able to code, as well as understand your code in laymans terms. Now lets move onto an example for you to try"
    },
    {
      "metadata": {},
      "cell_type": "markdown",
      "source": "Write a recursive function that displays the Greatest Common Demoninator between two integers. The pairs are \n- 36 and 6\n- 84 and 189\n- 3452 and 7532\n "
    },
    {
      "metadata": {
        "trusted": true
      },
      "cell_type": "code",
      "source": "",
      "execution_count": null,
      "outputs": []
    },
    {
      "metadata": {},
      "cell_type": "markdown",
      "source": "* Towers of Hanoi example. How much is there to do? is it worth it? find a video explaining simply. "
    },
    {
      "metadata": {
        "trusted": true
      },
      "cell_type": "code",
      "source": "",
      "execution_count": null,
      "outputs": []
    },
    {
      "metadata": {},
      "cell_type": "markdown",
      "source": "### The Basics of Python: Graphs and such"
    },
    {
      "metadata": {
        "trusted": true
      },
      "cell_type": "markdown",
      "source": "In this last section we will learn everything tied to graphs. As physicists, we use graphs more than we would like to admit. Graphs are handy for interpreting data as well as giving us a visual. Before moving directly onto graphs, let's touch on some other subjects, that will make graphing alot easier "
    },
    {
      "metadata": {},
      "cell_type": "markdown",
      "source": "#### 3.1 Libraries "
    },
    {
      "metadata": {},
      "cell_type": "markdown",
      "source": "We lightly lightly touched on libraries back in 2.1 , but now we'll go more in depth. Libraries help by storing precoded functions for our ease. Like above using the `random` library, it allowed us to pull the specific function `randint` (random integer). Some other useful librarys are `math` and the ones we will use for graphing. "
    },
    {
      "metadata": {},
      "cell_type": "markdown",
      "source": "#### 3.2 Lists (Arrays)"
    },
    {
      "metadata": {},
      "cell_type": "markdown",
      "source": "A list is a subgenre of variables that are able to store data of any size, and any variable. To begin, we need to create a blank list. While creating our blank list, we also need to create a range for how many number we need to input in such list. This can be done by reading the length of a file or having a set variable unchanged. "
    },
    {
      "metadata": {
        "trusted": true
      },
      "cell_type": "code",
      "source": "RANGE = 5\ntest_list = []",
      "execution_count": 5,
      "outputs": []
    },
    {
      "metadata": {},
      "cell_type": "markdown",
      "source": "To give us some numbers to put into our list, we are going to implement the random integer variable into the for loop down below. "
    },
    {
      "metadata": {
        "trusted": true
      },
      "cell_type": "code",
      "source": "import random \n\ni = 0\n\nwhile i <= RANGE:\n    input_variables = random.randint(1,10)\n    test_list.append(input_variables)\n    print (\"The numbers in my list are \", test_list[i])\n    i += 1",
      "execution_count": 7,
      "outputs": [
        {
          "output_type": "stream",
          "text": "The numbers in my list are  2\nThe numbers in my list are  8\nThe numbers in my list are  2\nThe numbers in my list are  6\nThe numbers in my list are  7\nThe numbers in my list are  3\n",
          "name": "stdout"
        }
      ]
    },
    {
      "metadata": {},
      "cell_type": "markdown",
      "source": "the append subset allows us to add elements to the end of our list. ALong with things like append, other built in functions can be used with lists like shuffle (in random), len, and min/max. Like in our example above (and in the Palindrome example), elements in the list can be accessed through their index. \n\nLists can also \n - be added using the + operator\n - having elements in the list repeated using * \n - list[begin : (length)] allows manipulation of the length\n - compared using >, >= , < , <= , == and !=\n \n \n Lists also come with their own built in functions \n  * append(x: object) , adds an element \n  * count(x: object)  , returns number of times x appears \n  * "
    },
    {
      "metadata": {},
      "cell_type": "markdown",
      "source": "#### 3.3 Reading files "
    },
    {
      "metadata": {},
      "cell_type": "markdown",
      "source": "#### 3.4 Graphs "
    },
    {
      "metadata": {
        "trusted": true
      },
      "cell_type": "code",
      "source": "!pip install matplotlib",
      "execution_count": 12,
      "outputs": [
        {
          "output_type": "stream",
          "text": "Requirement already satisfied: matplotlib in /home/nbuser/anaconda3_501/lib/python3.6/site-packages (3.0.0)\nRequirement already satisfied: numpy>=1.10.0 in /home/nbuser/anaconda3_501/lib/python3.6/site-packages (from matplotlib) (1.16.2)\nRequirement already satisfied: cycler>=0.10 in /home/nbuser/anaconda3_501/lib/python3.6/site-packages (from matplotlib) (0.10.0)\nRequirement already satisfied: kiwisolver>=1.0.1 in /home/nbuser/anaconda3_501/lib/python3.6/site-packages (from matplotlib) (1.0.1)\nRequirement already satisfied: pyparsing!=2.0.4,!=2.1.2,!=2.1.6,>=2.0.1 in /home/nbuser/anaconda3_501/lib/python3.6/site-packages (from matplotlib) (2.3.0)\nRequirement already satisfied: python-dateutil>=2.1 in /home/nbuser/anaconda3_501/lib/python3.6/site-packages (from matplotlib) (2.7.5)\nRequirement already satisfied: six in /home/nbuser/anaconda3_501/lib/python3.6/site-packages (from cycler>=0.10->matplotlib) (1.11.0)\nRequirement already satisfied: setuptools in /home/nbuser/anaconda3_501/lib/python3.6/site-packages (from kiwisolver>=1.0.1->matplotlib) (41.0.1)\n\u001b[33mWARNING: You are using pip version 19.1, however version 19.1.1 is available.\nYou should consider upgrading via the 'pip install --upgrade pip' command.\u001b[0m\n",
          "name": "stdout"
        }
      ]
    },
    {
      "metadata": {
        "trusted": true
      },
      "cell_type": "code",
      "source": "#renaming for easier coding \nimport matplotlib.pyplot as plt\n\n#axis values \nx = [1,5,10]\ny = [0,3,9]\n\n#plotting points \nplt.plot(x,y)\n\nplt.xlabel('x - axis')\nplt.ylabel('y - axis')",
      "execution_count": 13,
      "outputs": [
        {
          "output_type": "execute_result",
          "execution_count": 13,
          "data": {
            "text/plain": "Text(0, 0.5, 'y - axis')"
          },
          "metadata": {}
        },
        {
          "output_type": "display_data",
          "data": {
            "image/png": "[encoded data removed]",
            "text/plain": "<Figure size 432x288 with 1 Axes>"
          },
          "metadata": {
            "needs_background": "light"
          }
        }
      ]
    },
    {
      "metadata": {
        "trusted": true
      },
      "cell_type": "code",
      "source": "",
      "execution_count": null,
      "outputs": []
    },
    {
      "metadata": {
        "trusted": true
      },
      "cell_type": "code",
      "source": "",
      "execution_count": null,
      "outputs": []
    }
  ],
  "metadata": {
    "kernelspec": {
      "name": "python36",
      "display_name": "Python 3.6",
      "language": "python"
    }
  },
  "nbformat": 4,
  "nbformat_minor": 2
}
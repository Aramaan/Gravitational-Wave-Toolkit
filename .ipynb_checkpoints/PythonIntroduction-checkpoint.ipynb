{
  "cells": [
    {
      "metadata": {
        "trusted": true
      },
      "cell_type": "markdown",
      "source": "## The Basics of Python "
    },
    {
      "metadata": {
        "trusted": true
      },
      "cell_type": "markdown",
      "source": "Here we are going to learn the basics of Python, and how we can use it to our advantage as physicists. "
    },
    {
      "metadata": {},
      "cell_type": "markdown",
      "source": "#### Getting started with Python\n\nPython is a very straightforward coding laungague. This allows for easy collaborations from across the globe. Each subset of physics relies on computers (how much depends on the section). From minor to major computations, coding is an easy quick way to process lots of data, making it a useful tool to have under ones belt. "
    },
    {
      "metadata": {},
      "cell_type": "markdown",
      "source": "### 1.1 Order of Operations\n\nThe print function allows us to to write something to the console in this direct format  \n\nprint(\" *insert here* \")\n\nSo if i want to say Hello World, \n"
    },
    {
      "metadata": {
        "trusted": true
      },
      "cell_type": "code",
      "source": " print(\"Hello World\")",
      "execution_count": 1,
      "outputs": [
        {
          "output_type": "stream",
          "text": "Hello World\n",
          "name": "stdout"
        }
      ]
    },
    {
      "metadata": {},
      "cell_type": "markdown",
      "source": "prints out exactly what i typed. Now what if we begin to use numbers. Can we add them? Can we subtract them? try below \n"
    },
    {
      "metadata": {
        "trusted": true
      },
      "cell_type": "code",
      "source": "",
      "execution_count": null,
      "outputs": []
    },
    {
      "metadata": {
        "trusted": true
      },
      "cell_type": "code",
      "source": "",
      "execution_count": null,
      "outputs": []
    }
  ],
  "metadata": {
    "kernelspec": {
      "name": "python36",
      "display_name": "Python 3.6",
      "language": "python"
    },
    "language_info": {
      "mimetype": "text/x-python",
      "nbconvert_exporter": "python",
      "name": "python",
      "pygments_lexer": "ipython3",
      "version": "3.6.6",
      "file_extension": ".py",
      "codemirror_mode": {
        "version": 3,
        "name": "ipython"
      }
    }
  },
  "nbformat": 4,
  "nbformat_minor": 2
}
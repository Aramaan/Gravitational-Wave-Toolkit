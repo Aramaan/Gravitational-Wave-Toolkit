{
  "cells": [
    {
      "metadata": {
        "collapsed": true
      },
      "cell_type": "markdown",
      "source": "## The Physics Behind Gravitational Waves \n\nBefore moving onto the last project, you will need to know the physics assosiciated with gravitational wave so you can focus on the code itself. Below is a great introductory video from a cofounder of LIGO (Laser Inferometer Gravitational-Wave Observatory), Amber L. Stuver\n\nhttps://www.youtube.com/watch?v=hebGhsNsjG0"
    },
    {
      "metadata": {},
      "cell_type": "markdown",
      "source": "</i> For any empty cell with a bolded question, edit the cell with your answer"
    },
    {
      "metadata": {},
      "cell_type": "markdown",
      "source": "The videos below are background knowledge for some of the biggest producers of gravitational waves\n\nBlack Holes: https://youtu.be/e-P5IFTqB98\n\nNeutron Stars: https://youtu.be/fFeV8WxIZLk"
    },
    {
      "metadata": {},
      "cell_type": "markdown",
      "source": "#### What are two things you learned about Black Holes from the video above?"
    },
    {
      "metadata": {},
      "cell_type": "markdown",
      "source": ""
    },
    {
      "metadata": {},
      "cell_type": "markdown",
      "source": "#### What are two things you leared about Neutron Stars from the video above?"
    },
    {
      "metadata": {},
      "cell_type": "markdown",
      "source": ""
    },
    {
      "metadata": {},
      "cell_type": "markdown",
      "source": "### History of Gravitational Waves "
    },
    {
      "metadata": {},
      "cell_type": "markdown",
      "source": "* full histpry of science dates\n* weber \n* 1993 nobel prize \n* 2017 Detection\n* Einsteins doubts "
    },
    {
      "metadata": {},
      "cell_type": "markdown",
      "source": "### What is a Gravitational Wave "
    },
    {
      "metadata": {
        "trusted": true
      },
      "cell_type": "code",
      "source": "* power spectral density\n* \"whitening \" data \n* matched filtering \n* chirp mass ",
      "execution_count": null,
      "outputs": []
    },
    {
      "metadata": {},
      "cell_type": "markdown",
      "source": "### Sources of Gravitational Waves "
    },
    {
      "metadata": {
        "trusted": true
      },
      "cell_type": "code",
      "source": "* Binary black holes \n* Neutron Stars \n* Combination\n* CMB",
      "execution_count": null,
      "outputs": []
    },
    {
      "metadata": {},
      "cell_type": "markdown",
      "source": "### How to Detect Gravitational Waves"
    },
    {
      "metadata": {
        "trusted": true
      },
      "cell_type": "code",
      "source": "* Bars \n*inferomerer\n* How an inferometer works ",
      "execution_count": null,
      "outputs": []
    }
  ],
  "metadata": {
    "kernelspec": {
      "name": "python36",
      "display_name": "Python 3.6",
      "language": "python"
    },
    "language_info": {
      "mimetype": "text/x-python",
      "nbconvert_exporter": "python",
      "name": "python",
      "pygments_lexer": "ipython3",
      "version": "3.6.6",
      "file_extension": ".py",
      "codemirror_mode": {
        "version": 3,
        "name": "ipython"
      }
    }
  },
  "nbformat": 4,
  "nbformat_minor": 2
}
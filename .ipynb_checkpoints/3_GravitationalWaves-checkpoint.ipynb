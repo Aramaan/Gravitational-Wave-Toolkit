{
  "cells": [
    {
      "metadata": {
        "collapsed": true
      },
      "cell_type": "markdown",
      "source": "## The Physics Behind Gravitational Waves \n\nBefore moving onto the last project, you will need to know the physics assosiciated with gravitational wave so you can focus on the code itself. Below is a great introductory video from a cofounder of LIGO (Laser Inferometer Gravitational-Wave Observatory), Amber L. Stuver\n\nhttps://www.youtube.com/watch?v=hebGhsNsjG0"
    },
    {
      "metadata": {},
      "cell_type": "markdown",
      "source": "</i> For any empty cell with a bolded question, edit the cell with your answer"
    },
    {
      "metadata": {},
      "cell_type": "markdown",
      "source": "The videos below are background knowledge for some of the biggest producers of gravitational waves\n\nBlack Holes: https://youtu.be/e-P5IFTqB98\n\nNeutron Stars: https://youtu.be/fFeV8WxIZLk"
    },
    {
      "metadata": {},
      "cell_type": "markdown",
      "source": "#### What are two things you learned about Black Holes from the video above?"
    },
    {
      "metadata": {},
      "cell_type": "markdown",
      "source": "Type your answer here "
    },
    {
      "metadata": {},
      "cell_type": "markdown",
      "source": "#### What are two things you leared about Neutron Stars from the video above?"
    },
    {
      "metadata": {},
      "cell_type": "markdown",
      "source": "Type your answer here "
    },
    {
      "metadata": {},
      "cell_type": "markdown",
      "source": "### What is a Gravitational Wave "
    },
    {
      "metadata": {
        "trusted": true
      },
      "cell_type": "markdown",
      "source": "What exactly is a Gravitational Wave? To expand on what Amber said, space time is defined as the combination of the three dimensions of space and time into a singlular four-dimensional array. With this is mind, gravitational waves are ripples within space-time. These ripples can be felt throughout space by any object affected by gravity. If you have a piece of plastic wrap stretched out and put a marble and a piece of celery on, they would both make dents. Because the marble has more mass than the celery, it creates more tension on the plastic wrap than the celery. The marble pulls the celery closer to it, sending ripples through the wrap until the marble and celery are in the same dent. The ripples sent out through the plastic wrap, tell us where the marble and celery lie and when they become one. This is the concept on gravitational waves. \n"
    },
    {
      "metadata": {},
      "cell_type": "markdown",
      "source": "Being able to read the signals allows physcists to learn more about what the universe is truely made of. On the planet, multiple detectors exist to be able to tell if it is a gravitational wave signal or background noise. Another benefit of having multiple detectors on at the same time is a new way to detect objects further in space. As gravitational waves travel, they get disrupted by objects they travel through. This allows us to 'see' objects we cant physically look at with telescopes; we are able to see through the data."
    },
    {
      "metadata": {},
      "cell_type": "markdown",
      "source": " The issue surrounding gravitaitonal waves is the ability to detect them. The gravitational waves we detect today come from the biggest expulsions of energy know to us in our universe. By only being able to detec these, what else are we missing from our universe?"
    },
    {
      "metadata": {},
      "cell_type": "markdown",
      "source": "### History of Gravitational Waves "
    },
    {
      "metadata": {},
      "cell_type": "markdown",
      "source": "* full histpry of science dates\n* weber \n* 1993 nobel prize \n* 2017 Detection\n* Einsteins doubts "
    },
    {
      "metadata": {},
      "cell_type": "markdown",
      "source": "### Sources of Gravitational Waves "
    },
    {
      "metadata": {
        "trusted": true
      },
      "cell_type": "markdown",
      "source": "* Binary black holes \n* Neutron Stars \n* Combination\n* CMB"
    },
    {
      "metadata": {},
      "cell_type": "markdown",
      "source": "### How to Detect Gravitational Waves"
    },
    {
      "metadata": {
        "trusted": true
      },
      "cell_type": "markdown",
      "source": "* Bars \n*inferomerer\n* How an inferometer works \n\n* power spectral density\n* \"whitening \" data \n* matched filtering \n* chirp mass "
    },
    {
      "metadata": {
        "trusted": true
      },
      "cell_type": "code",
      "source": "",
      "execution_count": null,
      "outputs": []
    }
  ],
  "metadata": {
    "kernelspec": {
      "name": "python36",
      "display_name": "Python 3.6",
      "language": "python"
    },
    "language_info": {
      "mimetype": "text/x-python",
      "nbconvert_exporter": "python",
      "name": "python",
      "pygments_lexer": "ipython3",
      "version": "3.6.6",
      "file_extension": ".py",
      "codemirror_mode": {
        "version": 3,
        "name": "ipython"
      }
    }
  },
  "nbformat": 4,
  "nbformat_minor": 2
}
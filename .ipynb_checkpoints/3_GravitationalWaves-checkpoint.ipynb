{
  "cells": [
    {
      "metadata": {
        "collapsed": true
      },
      "cell_type": "markdown",
      "source": "## The Physics Behind Gravitational Waves \n\nBefore moving onto the last project, you will need to know the physics assosiciated with gravitational wave so you can focus on the code itself. Below is a great introductory video from a cofounder of LIGO (Laser Inferometer Gravitational-Wave Observatory), Amber L. Stuver\n\nhttps://www.youtube.com/watch?v=hebGhsNsjG0"
    },
    {
      "metadata": {},
      "cell_type": "markdown",
      "source": "These video are optional, but highly reccomended. They are roughly 10 minutes each and will help connect what we are talking about later on.\n\nBlack Holes: https://youtu.be/e-P5IFTqB98\n\nNeutron Stars: https://youtu.be/fFeV8WxIZLk"
    },
    {
      "metadata": {},
      "cell_type": "markdown",
      "source": "### History of Gravitational Waves "
    },
    {
      "metadata": {},
      "cell_type": "markdown",
      "source": "### What is a Gravitational Wave "
    },
    {
      "metadata": {},
      "cell_type": "markdown",
      "source": "### Sources of Gravitational Waves "
    },
    {
      "metadata": {},
      "cell_type": "markdown",
      "source": "### How to Detect Gravitational Waves"
    },
    {
      "metadata": {
        "trusted": true
      },
      "cell_type": "code",
      "source": "",
      "execution_count": null,
      "outputs": []
    }
  ],
  "metadata": {
    "kernelspec": {
      "name": "python36",
      "display_name": "Python 3.6",
      "language": "python"
    },
    "language_info": {
      "mimetype": "text/x-python",
      "nbconvert_exporter": "python",
      "name": "python",
      "pygments_lexer": "ipython3",
      "version": "3.6.6",
      "file_extension": ".py",
      "codemirror_mode": {
        "version": 3,
        "name": "ipython"
      }
    }
  },
  "nbformat": 4,
  "nbformat_minor": 2
}
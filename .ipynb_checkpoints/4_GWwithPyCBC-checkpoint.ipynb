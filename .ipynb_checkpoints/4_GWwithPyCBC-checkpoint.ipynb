{
  "cells": [
    {
      "metadata": {
        "collapsed": true
      },
      "cell_type": "markdown",
      "source": "# Gravitational Waves with PyCBC"
    },
    {
      "metadata": {},
      "cell_type": "markdown",
      "source": "Python is a particularly useful language because many people have add libraries to it, allowing it to be used in many different contexts. One such library is `PyCBC`, which is what we will be using in our analysis of gravitational waves.\n\nFirst, we have to install the library. *Optional explanation below.*\n\n\n*The line `!pip install lalsuite pycbc` below will install everything you need. Here is an explanation of what that line means:<br>\n`!` - Tells the Jupyter notebook to switch from Python to shell commands, also known as command-line, which is basically just another (very useful) language.<br>\n`pip` - A program accessed from the shell that will allow us to install stuff.<br>\n`install` - A command for the `pip` program.<br>\n`lalsuite` - The argument that tells `pip` what to install. `lalsuite` is a library that `pycbc` relies on, so we have to install it too.<br>\n`pycbc` - Another argument, that tells `pip` to install this library.<br>*"
    },
    {
      "metadata": {
        "trusted": true,
        "scrolled": false
      },
      "cell_type": "code",
      "source": "!pip install lalsuite pycbc",
      "execution_count": null,
      "outputs": []
    },
    {
      "metadata": {},
      "cell_type": "markdown",
      "source": "Any reliable library will have documentation, which should explain how to use the program. The documentation for `PyCBC` can be found at http://pycbc.org/pycbc/latest/html/py-modindex.html. If you have questions about the methods we're using, check out the documentation first."
    },
    {
      "metadata": {},
      "cell_type": "markdown",
      "source": "## Accessing LIGO Data"
    },
    {
      "metadata": {},
      "cell_type": "markdown",
      "source": "`PyCBC` pulls its data from https://www.gw-openscience.org/GWTC-1/, which you're welcome to explore. We can access the information through the `pycbc.catalog.Catalog` method, as shown below. \n\nThe `Catalog()` method returns a list of binary black hole mergers already identified, so we'll iterate through the list and print the name of each merger. Remember the naming convetion for Gravitational Wave evets (year)(month)(day)"
    },
    {
      "metadata": {
        "trusted": true
      },
      "cell_type": "code",
      "source": "from pycbc import catalog\n\nmerger_list = catalog.Catalog()\n\nfor merger in merger_list:\n    print(merger)                    ##remove code for students",
      "execution_count": null,
      "outputs": []
    },
    {
      "metadata": {},
      "cell_type": "markdown",
      "source": "Using the code below, we can analyse the first merger in the list by calling it's parameters."
    },
    {
      "metadata": {
        "trusted": true
      },
      "cell_type": "code",
      "source": "# The following two lines do the same thing.\nmerger1 = merger_list[\"GW150914\"]\nmerger1 = catalog.Merger(\"GW150914\")\n\n#(personal note) next line takes advantage of python's inability to conceal variables\nparameters = merger1.data.keys()\nprint(parameters)                ##remove for students to do ",
      "execution_count": null,
      "outputs": []
    },
    {
      "metadata": {},
      "cell_type": "markdown",
      "source": "Each of the items in the list printed above is a unique parameter specifc to the merger. We can find the value of any of the parameters above. For example, if you wanted to find the chirp mass, you would use the key `mchirp`."
    },
    {
      "metadata": {
        "trusted": true
      },
      "cell_type": "code",
      "source": "mchirp = merger1.median1d(\"mchirp\")\nprint(\"Chirp mass:\",mchirp)            ##remove for students to do",
      "execution_count": null,
      "outputs": []
    },
    {
      "metadata": {},
      "cell_type": "markdown",
      "source": "The parameters in this code is are all accessed using the `median1d` method, which returns the value of the specified parameter. With this method, we can also access a list of parameters for all the mergers in the catalog. "
    },
    {
      "metadata": {
        "trusted": true,
        "scrolled": true
      },
      "cell_type": "code",
      "source": "#We can get a list of all chirp masses, and print the whole list\nmchirp_list = merger_list.median1d('mchirp')\nprint(mchirp_list)\n\n#Or we can iterate through each merger, and print each chirp mass in turn\nfor merger in merger_list:\n    this_mchirp = merger_list[merger].median1d(\"mchirp\")\n    print(merger + \":\",this_mchirp)",
      "execution_count": null,
      "outputs": []
    },
    {
      "metadata": {
        "trusted": true
      },
      "cell_type": "markdown",
      "source": "Verify that the values in the list are the same as the values printed from the `foreach` loop.\n\n### Redshift\n\nIn short, redshift is when galaxies appear to have a red hue because they are traveling away from us. The parameters you fetch above are given in the gravitational wave's reference frame. In order to do calculations, the parameter needs to be in the observer's references frame on Earth. \n\nWe are able to switch references frames with the equation below: \n\n$$m_{\\text{observer}} = m_{\\text{source}} * (1 + \\text{redshift})$$\n\nFill in the function in the cell below with the appropriate calculations to find parameters in the observer's frame."
    },
    {
      "metadata": {
        "trusted": true
      },
      "cell_type": "code",
      "source": "def as_observer(merger_name, parameter_name):\n    # first get the merger object from merger_list\n    # then get the value of the parameter and the value of the redshift from the merger object\n    # finally, code in the equation and return m_observer\n    \n    # the `pass` is a placeholder; delete it once you write the function\n    pass\n\nmerger = 'GW170818'\nparam = 'mfinal'\n\nsource = catalog.Merger(merger).median1d(param)\nobserver = as_observer(merger, param)\n\nprint(\"Merger:\", merger)\nprint(\"Parameter:\", param)\nprint(\"Source:\", source)\nprint(\"Observer:\", observer)",
      "execution_count": null,
      "outputs": []
    },
    {
      "metadata": {},
      "cell_type": "markdown",
      "source": "## Plotting Data"
    },
    {
      "metadata": {},
      "cell_type": "markdown",
      "source": "The following code is called a magic function within Python. These built in functions are a stand-in for several lines of `import` statements. So run this next line of code. The code in this section plots two large data sets. The `inline` helps these data sets line up in the plots."
    },
    {
      "metadata": {
        "trusted": true
      },
      "cell_type": "code",
      "source": "%matplotlib inline",
      "execution_count": null,
      "outputs": []
    },
    {
      "metadata": {},
      "cell_type": "markdown",
      "source": "Let's start plotting the data! This section will be considering the merger `GW150914`.\n\n"
    },
    {
      "metadata": {
        "trusted": true
      },
      "cell_type": "code",
      "source": "import pylab\n\nm = catalog.Merger(\"GW150914\")",
      "execution_count": null,
      "outputs": []
    },
    {
      "metadata": {},
      "cell_type": "markdown",
      "source": "LIGO data comes from multiple observatories to allow us to identify what parts of the data are random interference (if it only appears on one observatory) and what parts are gravitational waves (if they appear on all). We have data from two observatories, labeled as `H1` and `L1`. \n\nWe're going to perform many identical operations on the data from each observatory. In order to simplify this and remove redundant code, we'll create an array with the data from both observatories. Then, each time we manipulate or plot the data, we'll do so by iterating through the array."
    },
    {
      "metadata": {
        "trusted": true,
        "scrolled": true
      },
      "cell_type": "code",
      "source": "# initialize an empty array\ndata = {}\n\n# fill the array with data from each observatory\nobservatories = ['H1', 'L1']\nfor ifo in observatories:\n    data[ifo] = m.strain(ifo)",
      "execution_count": null,
      "outputs": []
    },
    {
      "metadata": {},
      "cell_type": "markdown",
      "source": "In the next cell, plot the data as follows:\n* Plot each set of data in the `data` array\n* X values come from the data in the array `.sample_times`\n* X-axis labelled \"GPS Time (s)\"\n* Y values come from the data in the array\n* Y-axis labelled \"Strain\"\n\nA legend is optional, but if you want to include it, include the term `label=ifo` in your call to the `plot` method and the line `pylab.legend()`. If you want to include a grid, include the line `pylab.grid()`."
    },
    {
      "metadata": {
        "trusted": true
      },
      "cell_type": "code",
      "source": "for ifo in data:\n    pylab.plot(data[ifo].sample_times, data[ifo])\n    \npylab.xlabel('GPS Time (s)')\npylab.ylabel('Strain')\npylab.grid()\npylab.show()\n\n# delete all but the first line for students",
      "execution_count": null,
      "outputs": []
    },
    {
      "metadata": {},
      "cell_type": "markdown",
      "source": "### Zoom In\n\nThe `sample_times` property returns an array of times that correspond to the dataset. This `pycbc` library was built to allow us to zoom in the graph to a smaller time scale, with a `time_slice()` method. \n\n`time_slice()` takes two parameters indicating the start and end times, and returns an object that can be plotted exactly like the original dataset. Below, you'll see code that zooms to half a second before and after `m.time`, which is the time of the actual gravitional wave.\n\nAdd to the code below to plot the zoomed data with `pylab`."
    },
    {
      "metadata": {
        "trusted": true
      },
      "cell_type": "code",
      "source": "for ifo in data:\n    start = m.time - 0.5\n    end = m.time + 0.5\n    \n    zoomed_data = data[ifo].time_slice(start, end)\n    #delete after this line\n    pylab.plot(zoomed_data.sample_times, zoomed_data)\n    \npylab.show()",
      "execution_count": null,
      "outputs": []
    },
    {
      "metadata": {},
      "cell_type": "markdown",
      "source": "### Filters\n\nThere's no signal that we can recognize in the data above, so we'll have to run it through a series of filters below."
    },
    {
      "metadata": {
        "trusted": true
      },
      "cell_type": "code",
      "source": "filtered = {}\n\nfor ifo in data:\n    # this adds white noise to data\n    filtered[ifo] = data[ifo].whiten(4,4)\n    \n    # we know the frequency of our signal is between 30 Hz and 250 Hz\n    # this removes frequencies below 30 Hz\n    filtered[ifo] = filtered[ifo].highpass_fir(30, 512)\n    # this removes frequencies above 250 Hz\n    filtered[ifo] = filtered[ifo].lowpass_fir(250, 512)",
      "execution_count": null,
      "outputs": []
    },
    {
      "metadata": {},
      "cell_type": "markdown",
      "source": "Now, plot the graph, first the whole dataset and then a portion zoomed in to one second, like above."
    },
    {
      "metadata": {
        "trusted": true
      },
      "cell_type": "code",
      "source": "",
      "execution_count": null,
      "outputs": []
    },
    {
      "metadata": {},
      "cell_type": "markdown",
      "source": "You can see a portion where one waveform sticks above the rest. That is the signal from the gravitational wave. Now zoom in more: instead of 0.5 seconds before and 0.5 seconds after, zoom in to **0.2** seconds before and **0.1** seconds after."
    },
    {
      "metadata": {
        "trusted": true
      },
      "cell_type": "code",
      "source": "",
      "execution_count": null,
      "outputs": []
    },
    {
      "metadata": {},
      "cell_type": "markdown",
      "source": "The blue and orange signals almost line up. The discrepancy is explained by the distance between the two observatories, which is known to be **~7ms**, and the alignment is such that the data from the two observatories have approximately **opposite signs**. We account for this with the following code. "
    },
    {
      "metadata": {
        "trusted": true
      },
      "cell_type": "code",
      "source": "pylab.figure(figsize=[15,3]) # easier display dimensions\n\n# rename for clarity\nobs1 = filtered['H1']\nobs2 = filtered['L1']\n\n# adjust second observatory\nobs2.roll(int(obs2.sample_rate * .007))\nobs2 *= -1\n\n# zoom\nzoom1 = obs1.time_slice(m.time - 0.2, m.time + 0.1)\nzoom2 = obs2.time_slice(m.time - 0.2, m.time + 0.1)\n\n# plot\npylab.plot(zoom1.sample_times, zoom1, label = 'H1')\npylab.plot(zoom2.sample_times, zoom2, label = 'L1')\n\npylab.grid()\npylab.legend()\npylab.show()",
      "execution_count": null,
      "outputs": []
    },
    {
      "metadata": {},
      "cell_type": "markdown",
      "source": "You'll see that now, around *t=0.42*, the two datasets match for a couple oscillations. Congratulations; we've found and plotted the gravitational wave!"
    }
  ],
  "metadata": {
    "kernelspec": {
      "name": "python36",
      "display_name": "Python 3.6",
      "language": "python"
    },
    "language_info": {
      "mimetype": "text/x-python",
      "nbconvert_exporter": "python",
      "name": "python",
      "pygments_lexer": "ipython3",
      "version": "3.6.6",
      "file_extension": ".py",
      "codemirror_mode": {
        "version": 3,
        "name": "ipython"
      }
    }
  },
  "nbformat": 4,
  "nbformat_minor": 2
}
{
  "cells": [
    {
      "metadata": {
        "collapsed": true
      },
      "cell_type": "markdown",
      "source": "# Gravitational Waves with PyCBC"
    },
    {
      "metadata": {},
      "cell_type": "markdown",
      "source": "Python is a particularly useful language because many people have add libraries to it, allowing it to be used in many different contexts. One such library is `PyCBC`, which is what we will be using in our analysis of gravitational waves.\n\nFirst, we have to install the library. *Optional explanation below.*\n\n\n*The line `!pip install lalsuite pycbc` below will install everything you need. Here is an explanation of what that line means:<br>\n`!` - Tells the Jupyter notebook to switch from Python to shell commands, also known as command-line, which is basically just another (very useful) language.<br>\n`pip` - A program accessed from the shell that will allow us to install stuff.<br>\n`install` - A command for the `pip` program.<br>\n`lalsuite` - The argument that tells `pip` what to install. `lalsuite` is a library that `pycbc` relies on, so we have to install it too.<br>\n`pycbc` - Another argument, that tells `pip` to install this library.<br>*"
    },
    {
      "metadata": {
        "trusted": true
      },
      "cell_type": "code",
      "source": "!pip install lalsuite pycbc",
      "execution_count": 9,
      "outputs": [
        {
          "output_type": "stream",
          "text": "Collecting lalsuite\n  Using cached https://files.pythonhosted.org/packages/d6/2d/719a53d7fb78fa60adcd7a1f2b62c95f5590c8de5d6b60e401ae56fe3416/lalsuite-6.59-cp36-cp36m-manylinux1_x86_64.whl\nCollecting pycbc\nRequirement already satisfied: numpy>=1.7 in /home/nbuser/anaconda3_501/lib/python3.6/site-packages (from lalsuite) (1.16.2)\nCollecting ligo-segments (from lalsuite)\n  Using cached https://files.pythonhosted.org/packages/62/cd/225e331e95cf6aff8ba13bf9a8053b29248a5e71f7fa9bbb1f0db1eaadff/ligo-segments-1.2.0.tar.gz\nRequirement already satisfied: python-dateutil in /home/nbuser/anaconda3_501/lib/python3.6/site-packages (from lalsuite) (2.8.0)\nCollecting lscsoft-glue (from lalsuite)\n  Using cached https://files.pythonhosted.org/packages/3b/65/e93853bc1876516db8d58f4590dba1d6b85eaf9d1bd375926ac7897e525a/lscsoft-glue-2.0.0.tar.gz\nRequirement already satisfied: scipy in /home/nbuser/anaconda3_501/lib/python3.6/site-packages (from lalsuite) (1.1.0)\nRequirement already satisfied: matplotlib in /home/nbuser/anaconda3_501/lib/python3.6/site-packages (from lalsuite) (3.0.0)\nRequirement already satisfied: jinja2 in /home/nbuser/anaconda3_501/lib/python3.6/site-packages (from pycbc) (2.10)\nRequirement already satisfied: pillow in /home/nbuser/anaconda3_501/lib/python3.6/site-packages (from pycbc) (5.3.0)\nRequirement already satisfied: decorator>=3.4.2 in /home/nbuser/anaconda3_501/lib/python3.6/site-packages (from pycbc) (4.3.0)\nRequirement already satisfied: six>=1.10.0 in /home/nbuser/anaconda3_501/lib/python3.6/site-packages (from pycbc) (1.11.0)\nCollecting Mako>=1.0.1 (from pycbc)\n  Using cached https://files.pythonhosted.org/packages/fa/29/8016763284d8fab844224f7cc5675cb4a388ebda0eb5a403260187e48435/Mako-1.0.13.tar.gz\nCollecting emcee==2.2.1 (from pycbc)\n  Using cached https://files.pythonhosted.org/packages/3f/d3/7635106605dedccd08705beac53be4c43a8da1caad6be667adbf93ed0965/emcee-2.2.1.tar.gz\nRequirement already satisfied: requests>=1.2.1 in /home/nbuser/anaconda3_501/lib/python3.6/site-packages (from pycbc) (2.22.0)\nRequirement already satisfied: beautifulsoup4>=4.6.0 in /home/nbuser/anaconda3_501/lib/python3.6/site-packages (from pycbc) (4.6.3)\nCollecting mpld3>=0.3 (from pycbc)\n  Using cached https://files.pythonhosted.org/packages/91/95/a52d3a83d0a29ba0d6898f6727e9858fe7a43f6c2ce81a5fe7e05f0f4912/mpld3-0.3.tar.gz\nRequirement already satisfied: h5py>=2.5 in /home/nbuser/anaconda3_501/lib/python3.6/site-packages (from pycbc) (2.8.0)\nRequirement already satisfied: astropy>=2.0.3; python_version > \"3.0\" in /home/nbuser/anaconda3_501/lib/python3.6/site-packages (from pycbc) (3.0.4)\nRequirement already satisfied: cython in /home/nbuser/anaconda3_501/lib/python3.6/site-packages (from pycbc) (0.28.5)\nRequirement already satisfied: pyOpenSSL in /home/nbuser/anaconda3_501/lib/python3.6/site-packages (from lscsoft-glue->lalsuite) (18.0.0)\nRequirement already satisfied: cycler>=0.10 in /home/nbuser/anaconda3_501/lib/python3.6/site-packages (from matplotlib->lalsuite) (0.10.0)\nRequirement already satisfied: kiwisolver>=1.0.1 in /home/nbuser/anaconda3_501/lib/python3.6/site-packages (from matplotlib->lalsuite) (1.0.1)\nRequirement already satisfied: pyparsing!=2.0.4,!=2.1.2,!=2.1.6,>=2.0.1 in /home/nbuser/anaconda3_501/lib/python3.6/site-packages (from matplotlib->lalsuite) (2.3.0)\nRequirement already satisfied: MarkupSafe>=0.23 in /home/nbuser/anaconda3_501/lib/python3.6/site-packages (from jinja2->pycbc) (1.1.0)\nRequirement already satisfied: certifi>=2017.4.17 in /home/nbuser/anaconda3_501/lib/python3.6/site-packages (from requests>=1.2.1->pycbc) (2018.10.15)\nRequirement already satisfied: chardet<3.1.0,>=3.0.2 in /home/nbuser/anaconda3_501/lib/python3.6/site-packages (from requests>=1.2.1->pycbc) (3.0.4)\nRequirement already satisfied: urllib3!=1.25.0,!=1.25.1,<1.26,>=1.21.1 in /home/nbuser/anaconda3_501/lib/python3.6/site-packages (from requests>=1.2.1->pycbc) (1.23)\nRequirement already satisfied: idna<2.9,>=2.5 in /home/nbuser/anaconda3_501/lib/python3.6/site-packages (from requests>=1.2.1->pycbc) (2.7)\nRequirement already satisfied: cryptography>=2.2.1 in /home/nbuser/anaconda3_501/lib/python3.6/site-packages (from pyOpenSSL->lscsoft-glue->lalsuite) (2.3.1)\nRequirement already satisfied: setuptools in /home/nbuser/anaconda3_501/lib/python3.6/site-packages (from kiwisolver>=1.0.1->matplotlib->lalsuite) (41.0.1)\nRequirement already satisfied: asn1crypto>=0.21.0 in /home/nbuser/anaconda3_501/lib/python3.6/site-packages (from cryptography>=2.2.1->pyOpenSSL->lscsoft-glue->lalsuite) (0.24.0)\nRequirement already satisfied: cffi!=1.11.3,>=1.7 in /home/nbuser/anaconda3_501/lib/python3.6/site-packages (from cryptography>=2.2.1->pyOpenSSL->lscsoft-glue->lalsuite) (1.11.5)\nRequirement already satisfied: pycparser in /home/nbuser/anaconda3_501/lib/python3.6/site-packages (from cffi!=1.11.3,>=1.7->cryptography>=2.2.1->pyOpenSSL->lscsoft-glue->lalsuite) (2.19)\nBuilding wheels for collected packages: ligo-segments, lscsoft-glue, Mako, emcee, mpld3\n  Building wheel for ligo-segments (setup.py) ... \u001b[?25ldone\n\u001b[?25h  Stored in directory: /home/nbuser/.cache/pip/wheels/5d/1e/4a/ab4122baed7d67f6abce65b2b12049d3bc7fe5dad24edf89df\n  Building wheel for lscsoft-glue (setup.py) ... \u001b[?25ldone\n\u001b[?25h  Stored in directory: /home/nbuser/.cache/pip/wheels/aa/fa/38/d61b002c627ca54f03755b9a288f4b1fa83291608a4bc47b7b\n  Building wheel for Mako (setup.py) ... \u001b[?25ldone\n\u001b[?25h  Stored in directory: /home/nbuser/.cache/pip/wheels/cc/0e/59/0e7f24103d1ebce045037aa17b75548a8387f5e7d2d0011fdc\n  Building wheel for emcee (setup.py) ... \u001b[?25ldone\n\u001b[?25h  Stored in directory: /home/nbuser/.cache/pip/wheels/2f/5d/a5/78f84e23329ad7d9b1787c9d24371100cae74cdefe25eba50d\n  Building wheel for mpld3 (setup.py) ... \u001b[?25ldone\n\u001b[?25h  Stored in directory: /home/nbuser/.cache/pip/wheels/c0/47/fb/8a64f89aecfe0059830479308ad42d62e898a3e3cefdf6ba28\nSuccessfully built ligo-segments lscsoft-glue Mako emcee mpld3\nInstalling collected packages: ligo-segments, lscsoft-glue, lalsuite, Mako, emcee, mpld3, pycbc\nSuccessfully installed Mako-1.0.13 emcee-2.2.1 lalsuite-6.59 ligo-segments-1.2.0 lscsoft-glue-2.0.0 mpld3-0.3 pycbc-1.14.1\n",
          "name": "stdout"
        }
      ]
    },
    {
      "metadata": {},
      "cell_type": "markdown",
      "source": "Any reliable library will have documentation, which should explain how to use the program. The documentation for `PyCBC` can be found at http://pycbc.org/pycbc/latest/html/py-modindex.html. If you have questions about the methods we're using, check out the documentation first."
    },
    {
      "metadata": {},
      "cell_type": "markdown",
      "source": "### Accessing LIGO Data"
    },
    {
      "metadata": {},
      "cell_type": "markdown",
      "source": "`PyCBC` pulls its data from https://www.gw-openscience.org/GWTC-1/, which you're welcome to explore. We can access the information through the `pycbc.catalog.Catalog` method, as shown below. \n\nThe `Catalog()` method returns a list of binary black hole mergers already identified, so we'll iterate through the list and print the name of each merger. Remember the naming convetion for Gravitational Wave evets (year)(month)(day)"
    },
    {
      "metadata": {
        "trusted": true
      },
      "cell_type": "code",
      "source": "from pycbc import catalog\n\nmerger_list = catalog.Catalog()\n\nfor merger in merger_list:\n    print(merger)                    ##remove code for students",
      "execution_count": 10,
      "outputs": [
        {
          "output_type": "stream",
          "text": "Downloading https://www.gw-openscience.org/catalog/GWTC-1-confident/filelist/ [Done]\nGW150914\nGW151012\nGW151226\nGW170104\nGW170608\nGW170729\nGW170809\nGW170814\nGW170817\nGW170818\nGW170823\n",
          "name": "stdout"
        }
      ]
    },
    {
      "metadata": {},
      "cell_type": "markdown",
      "source": "Using the code below, we can analyse the first merger in the list by calling it's parameters."
    },
    {
      "metadata": {
        "trusted": true
      },
      "cell_type": "code",
      "source": "merger1 = merger_list[\"GW150914\"]\n\n#(personal note) next line takes advantage of python's inability to conceal variables\nparameters = merger1.data.keys()\nprint(parameters)                ##remove for students to do ",
      "execution_count": 11,
      "outputs": [
        {
          "output_type": "stream",
          "text": "dict_keys(['E_rad', 'L_peak', 'a_final', 'chi_eff', 'distance', 'far_cwb', 'far_gstlal', 'far_pycbc', 'files', 'mass1', 'mass2', 'mchirp', 'mfinal', 'redshift', 'sky_size', 'snr_cwb', 'snr_gstlal', 'snr_pycbc', 'tc', 'utctime'])\n",
          "name": "stdout"
        }
      ]
    },
    {
      "metadata": {},
      "cell_type": "markdown",
      "source": "Each of the items in the list printed above is a unique parameter specifc to the merger. We can find the value of any of the parameters above. For example, if you wanted to find the chirp mass, you would use the key `mchirp`."
    },
    {
      "metadata": {
        "trusted": true
      },
      "cell_type": "code",
      "source": "mchirp = merger1.median1d(\"mchirp\")\nprint(\"Chirp mass:\",mchirp)            ##remove for students to do",
      "execution_count": 14,
      "outputs": [
        {
          "output_type": "stream",
          "text": "Chirp mass: 28.6\n",
          "name": "stdout"
        }
      ]
    },
    {
      "metadata": {},
      "cell_type": "markdown",
      "source": "The parameters in this code is are all acessed using the `median1d` method. ##(personal note) explain what the median1d method does.\nStill using `median1d` , we can access a list of paramters for all the mergers in the catalog. "
    },
    {
      "metadata": {
        "trusted": true
      },
      "cell_type": "code",
      "source": "#We can get a list of all chirp masses, and print the whole list\nmchirp_list = merger_list.median1d('mchirp')\nprint(mchirp_list)\n\n#Or we can iterate through each merger, and print each chirp mass in turn\nfor merger in merger_list:\n    this_mchirp = merger_list[merger].median1d(\"mchirp\")\n    print(merger + \":\",this_mchirp)",
      "execution_count": 15,
      "outputs": [
        {
          "output_type": "stream",
          "text": "[28.6   15.2    8.9   21.5    7.9   35.7   25.    24.2    1.186 26.7\n 29.3  ]\nGW150914: 28.6\nGW151012: 15.2\nGW151226: 8.9\nGW170104: 21.5\nGW170608: 7.9\nGW170729: 35.7\nGW170809: 25.0\nGW170814: 24.2\nGW170817: 1.186\nGW170818: 26.7\nGW170823: 29.3\n",
          "name": "stdout"
        }
      ]
    },
    {
      "metadata": {
        "trusted": true
      },
      "cell_type": "markdown",
      "source": "Verify that the values in the list are the same as the values printed from the `foreach` loop.\n\n### Redshift\n\nIn short, redshift is when galaxies appear to have a red hue because they are traveling away from us. The parameters you fetch above are given in the gravitational wave's reference frame. In order to do calculations, the parameter needs to be in the observers references frame on Earth. \n\nWe are able to switch references frames with the equation below: \n\n$$m_{\\text{observer}} = m_{\\text{source}} * (1 + \\text{redshift})$$\n\nIs that the same for all parameters? Erin pls help. Let's ask maria. - Erin\n\nFill in the function in the cell below with the appropriate calculations to find parameters in the observer's frame."
    },
    {
      "metadata": {
        "trusted": true
      },
      "cell_type": "code",
      "source": "def as_observer(merger_name, parameter_name):\n    # first get the merger object from merger_list\n    # then get the value of the parameter and the value of the redshift from the merger object\n    # finally, code in the equation and return m_observer\n    \n    # the `pass` is a placeholder; delete it once you write the function\n    pass\n\nmerger = 'GW170818'\nparam = 'mfinal'\n\nsource = merger_list[merger].median1d(param)\nobserver = as_observer(merger, param)\n\nprint(\"Merger:\", merger)\nprint(\"Parameter:\", param)\nprint(\"Source:\", source)\nprint(\"Observer:\", observer)",
      "execution_count": 18,
      "outputs": [
        {
          "output_type": "stream",
          "text": "Merger: GW170818\nParameter: mfinal\nSource: 59.8\nObserver: None\n",
          "name": "stdout"
        }
      ]
    }
  ],
  "metadata": {
    "kernelspec": {
      "name": "python36",
      "display_name": "Python 3.6",
      "language": "python"
    },
    "language_info": {
      "mimetype": "text/x-python",
      "nbconvert_exporter": "python",
      "name": "python",
      "pygments_lexer": "ipython3",
      "version": "3.6.6",
      "file_extension": ".py",
      "codemirror_mode": {
        "version": 3,
        "name": "ipython"
      }
    }
  },
  "nbformat": 4,
  "nbformat_minor": 2
}
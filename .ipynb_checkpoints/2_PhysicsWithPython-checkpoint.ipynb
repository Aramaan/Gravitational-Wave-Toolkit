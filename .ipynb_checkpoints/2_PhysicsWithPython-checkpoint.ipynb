{
  "cells": [
    {
      "metadata": {},
      "cell_type": "markdown",
      "source": "## Physics with Python : How to Solve Problems\n\nAs the title says, we are using our new Python to solve the problems below. Most problems will challenge your previous knowledge of physics. Take your time and make sure to throughly think through each problem."
    },
    {
      "metadata": {},
      "cell_type": "markdown",
      "source": "Remember to make your code clear and concise, and use the appropriate labels. "
    },
    {
      "metadata": {},
      "cell_type": "markdown",
      "source": "#### Example 1: Conversion\n    a) Write a function converting Cartesian coordinates to polar coordinates.\n        * Print a statement stating Cartesian and the new polar coordinates\n        * print theta in degrees\n        * Round polar coordinates to two decimal places"
    },
    {
      "metadata": {
        "trusted": true
      },
      "cell_type": "code",
      "source": "import math\n\ndef coordinateConv(x, y):\n    \n    z = (x ** 2) + (y ** 2)\n    \n    r = math.sqrt(z)\n    \n    theta = math.atan(y/x)\n    \n    return print(\"The Cartesian Coordinates are x = \", x,\"and y = \", y, \n                 \"which convert to r = \", round(r, 2),\" and theta = \", round(math.degrees(theta), 2))\n    ",
      "execution_count": 14,
      "outputs": []
    },
    {
      "metadata": {
        "trusted": true
      },
      "cell_type": "code",
      "source": "coordinateConv(2,3)",
      "execution_count": 15,
      "outputs": [
        {
          "output_type": "stream",
          "text": "The Cartesian Coordinates are x =  2 and y =  3 which convert to r =  3.61  and theta =  56.31\n",
          "name": "stdout"
        }
      ]
    },
    {
      "metadata": {
        "trusted": true
      },
      "cell_type": "markdown",
      "source": "    b) Write a function converting Fahreneheiht to Kelvin\n        * Round to two decimal places\n        * Return the Kelvin value with a simple print statement"
    },
    {
      "metadata": {
        "trusted": true
      },
      "cell_type": "code",
      "source": "def tempConv(f): \n    \n    k = ((f - 32) * (5/9)) + 273 \n    \n    return print (\"The Kelvin temperature is\", round(k,2))",
      "execution_count": 18,
      "outputs": []
    },
    {
      "metadata": {
        "trusted": true
      },
      "cell_type": "code",
      "source": "tempConv(46)",
      "execution_count": 19,
      "outputs": [
        {
          "output_type": "stream",
          "text": "The Kelvin temperature is 280.78\n",
          "name": "stdout"
        }
      ]
    },
    {
      "metadata": {},
      "cell_type": "markdown",
      "source": "#### Example 2: Fibonacci\n    For those who are unfamiliar with the Fibonacci sequence, the numbers follow a distinct pattern. Each number is the sum of the two before. The first ten numbers of the sequence are as so : 1, 1, 2, 3, 5, 8, 13, 21, 34, 55\n    \n    In six lines of code or less, print the the first 10 numbers in the fibbonacci sequence starting with 1"
    },
    {
      "metadata": {
        "trusted": true
      },
      "cell_type": "code",
      "source": "",
      "execution_count": null,
      "outputs": []
    },
    {
      "metadata": {},
      "cell_type": "markdown",
      "source": "#### Example 3 : Kinematics \n    a) Solve for $v_o$ in the equation $v^2=[v_o]^2+2a(x_2-x_1)$ using the function template below\n    b) Solve for $t$ in the equation $x=x_o+v_ot+frac{1}{2}at^2$"
    },
    {
      "metadata": {
        "trusted": true
      },
      "cell_type": "code",
      "source": "def kinematics1(v2, a, x1, x2): \n    \n    \n    \n    return v1",
      "execution_count": null,
      "outputs": []
    },
    {
      "metadata": {
        "trusted": true
      },
      "cell_type": "code",
      "source": "def kinematics2(x2, x1, v1, a):\n    \n    \n    return t",
      "execution_count": null,
      "outputs": []
    },
    {
      "metadata": {
        "trusted": true
      },
      "cell_type": "code",
      "source": "",
      "execution_count": null,
      "outputs": []
    },
    {
      "metadata": {},
      "cell_type": "markdown",
      "source": "#### Example 4: Light \n    a) Using If/Elif/Else statements create a function that tells if the light ray stays within the medium.\n    b) At what angle does does it reflect back into the medium"
    },
    {
      "metadata": {
        "trusted": true
      },
      "cell_type": "code",
      "source": "",
      "execution_count": null,
      "outputs": []
    },
    {
      "metadata": {
        "trusted": true
      },
      "cell_type": "code",
      "source": "",
      "execution_count": null,
      "outputs": []
    },
    {
      "metadata": {},
      "cell_type": "markdown",
      "source": "#### Example 5: Graphs \n    a) Graph $$12cos(4x -2t)$$ with appropriate labels \n    b) For the equation $f(x)=(x-4)^2+2$ find f(x) for [0-20] and put them into a file. Read the file in and graph the output with appropriate labels "
    },
    {
      "metadata": {
        "trusted": true
      },
      "cell_type": "code",
      "source": "",
      "execution_count": null,
      "outputs": []
    },
    {
      "metadata": {
        "trusted": true
      },
      "cell_type": "code",
      "source": "",
      "execution_count": null,
      "outputs": []
    },
    {
      "metadata": {},
      "cell_type": "markdown",
      "source": "#### Example 6: Matrices \n    a) Solve the cross product"
    },
    {
      "metadata": {
        "trusted": true
      },
      "cell_type": "code",
      "source": "",
      "execution_count": null,
      "outputs": []
    },
    {
      "metadata": {},
      "cell_type": "markdown",
      "source": "#### Example 7: Linear Curve Fits"
    },
    {
      "metadata": {
        "trusted": true
      },
      "cell_type": "code",
      "source": "",
      "execution_count": null,
      "outputs": []
    }
  ],
  "metadata": {
    "kernelspec": {
      "name": "python36",
      "display_name": "Python 3.6",
      "language": "python"
    },
    "language_info": {
      "mimetype": "text/x-python",
      "nbconvert_exporter": "python",
      "name": "python",
      "pygments_lexer": "ipython3",
      "version": "3.6.6",
      "file_extension": ".py",
      "codemirror_mode": {
        "version": 3,
        "name": "ipython"
      }
    }
  },
  "nbformat": 4,
  "nbformat_minor": 2
}
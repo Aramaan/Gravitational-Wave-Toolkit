{
  "cells": [
    {
      "metadata": {
        "collapsed": true
      },
      "cell_type": "markdown",
      "source": "# Gravitational Waves with PyCBC"
    },
    {
      "metadata": {},
      "cell_type": "markdown",
      "source": "Python is a particularly useful language because many people have add libraries to it, allowing it to be used in many different contexts. One such library is `PyCBC`, which is what we will be using in our analysis of gravitational waves.\n\nFirst, we have to install the library. *Optional explanation below.*\n\n\n*The line `!pip install lalsuite pycbc` below will install everything you need. Here is an explanation of what that line means:<br>\n`!` - Tells the Jupyter notebook to switch from Python to shell commands, also known as command-line, which is basically just another (very useful) language.<br>\n`pip` - A program accessed from the shell that will allow us to install stuff.<br>\n`install` - A command for the `pip` program.<br>\n`lalsuite` - The argument that tells `pip` what to install. `lalsuite` is a library that `pycbc` relies on, so we have to install it too.<br>\n`pycbc` - Another argument, that tells `pip` to install this library.<br>*"
    },
    {
      "metadata": {
        "trusted": true
      },
      "cell_type": "code",
      "source": "!pip install lalsuite pycbc",
      "execution_count": 2,
      "outputs": [
        {
          "output_type": "stream",
          "text": "Collecting lalsuite\n\u001b[?25l  Downloading https://files.pythonhosted.org/packages/d6/2d/719a53d7fb78fa60adcd7a1f2b62c95f5590c8de5d6b60e401ae56fe3416/lalsuite-6.59-cp36-cp36m-manylinux1_x86_64.whl (30.3MB)\n\u001b[K     |████████████████████████████████| 30.3MB 10kB/s  eta 0:00:01    |███                             | 2.9MB 1.5MB/s eta 0:00:19████████████████████████▉     | 25.4MB 1.0MB/s eta 0:00:05��██████████████████████████▋ | 29.0MB 916kB/s eta 0:00:02\n\u001b[?25hCollecting pycbc\n\u001b[?25l  Downloading https://files.pythonhosted.org/packages/04/76/7c8acca810d5031a764c1d9d1fae26934509d951aa3d7a37a4539a487e9e/PyCBC-1.14.1.tar.gz (3.0MB)\n\u001b[K     |████████████████████████████████| 3.0MB 158kB/s eta 0:00:01 eta 0:00:01\n\u001b[?25hRequirement already satisfied: numpy>=1.7 in /home/nbuser/anaconda3_501/lib/python3.6/site-packages (from lalsuite) (1.16.2)\nRequirement already satisfied: python-dateutil in /home/nbuser/anaconda3_501/lib/python3.6/site-packages (from lalsuite) (2.8.0)\nCollecting ligo-segments (from lalsuite)\n\u001b[?25l  Downloading https://files.pythonhosted.org/packages/62/cd/225e331e95cf6aff8ba13bf9a8053b29248a5e71f7fa9bbb1f0db1eaadff/ligo-segments-1.2.0.tar.gz (48kB)\n\u001b[K     |████████████████████████████████| 51kB 2.2MB/s eta 0:00:011\n\u001b[?25hRequirement already satisfied: matplotlib in /home/nbuser/anaconda3_501/lib/python3.6/site-packages (from lalsuite) (3.0.0)\nRequirement already satisfied: scipy in /home/nbuser/anaconda3_501/lib/python3.6/site-packages (from lalsuite) (1.1.0)\nCollecting lscsoft-glue (from lalsuite)\n\u001b[?25l  Downloading https://files.pythonhosted.org/packages/3b/65/e93853bc1876516db8d58f4590dba1d6b85eaf9d1bd375926ac7897e525a/lscsoft-glue-2.0.0.tar.gz (1.6MB)\n\u001b[K     |████████████████████████████████| 1.6MB 8.3MB/s eta 0:00:01\n\u001b[?25hCollecting Mako>=1.0.1 (from pycbc)\n\u001b[?25l  Downloading https://files.pythonhosted.org/packages/fa/29/8016763284d8fab844224f7cc5675cb4a388ebda0eb5a403260187e48435/Mako-1.0.13.tar.gz (460kB)\n\u001b[K     |████████████████████████████████| 471kB 2.8MB/s eta 0:00:01\n\u001b[?25hRequirement already satisfied: cython in /home/nbuser/anaconda3_501/lib/python3.6/site-packages (from pycbc) (0.28.5)\nRequirement already satisfied: decorator>=3.4.2 in /home/nbuser/anaconda3_501/lib/python3.6/site-packages (from pycbc) (4.3.0)\nRequirement already satisfied: pillow in /home/nbuser/anaconda3_501/lib/python3.6/site-packages (from pycbc) (5.3.0)\nRequirement already satisfied: h5py>=2.5 in /home/nbuser/anaconda3_501/lib/python3.6/site-packages (from pycbc) (2.8.0)\nRequirement already satisfied: jinja2 in /home/nbuser/anaconda3_501/lib/python3.6/site-packages (from pycbc) (2.10)\nCollecting mpld3>=0.3 (from pycbc)\n\u001b[?25l  Downloading https://files.pythonhosted.org/packages/91/95/a52d3a83d0a29ba0d6898f6727e9858fe7a43f6c2ce81a5fe7e05f0f4912/mpld3-0.3.tar.gz (788kB)\n\u001b[K     |████████████████████████████████| 798kB 7.5MB/s eta 0:00:01\n\u001b[?25hCollecting emcee==2.2.1 (from pycbc)\n  Downloading https://files.pythonhosted.org/packages/3f/d3/7635106605dedccd08705beac53be4c43a8da1caad6be667adbf93ed0965/emcee-2.2.1.tar.gz\nRequirement already satisfied: requests>=1.2.1 in /home/nbuser/anaconda3_501/lib/python3.6/site-packages (from pycbc) (2.22.0)\nRequirement already satisfied: beautifulsoup4>=4.6.0 in /home/nbuser/anaconda3_501/lib/python3.6/site-packages (from pycbc) (4.6.3)\nRequirement already satisfied: six>=1.10.0 in /home/nbuser/anaconda3_501/lib/python3.6/site-packages (from pycbc) (1.11.0)\nRequirement already satisfied: astropy>=2.0.3 in /home/nbuser/anaconda3_501/lib/python3.6/site-packages (from pycbc) (3.0.4)\nRequirement already satisfied: cycler>=0.10 in /home/nbuser/anaconda3_501/lib/python3.6/site-packages (from matplotlib->lalsuite) (0.10.0)\nRequirement already satisfied: kiwisolver>=1.0.1 in /home/nbuser/anaconda3_501/lib/python3.6/site-packages (from matplotlib->lalsuite) (1.0.1)\nRequirement already satisfied: pyparsing!=2.0.4,!=2.1.2,!=2.1.6,>=2.0.1 in /home/nbuser/anaconda3_501/lib/python3.6/site-packages (from matplotlib->lalsuite) (2.3.0)\nRequirement already satisfied: pyOpenSSL in /home/nbuser/anaconda3_501/lib/python3.6/site-packages (from lscsoft-glue->lalsuite) (18.0.0)\nRequirement already satisfied: MarkupSafe>=0.9.2 in /home/nbuser/anaconda3_501/lib/python3.6/site-packages (from Mako>=1.0.1->pycbc) (1.1.0)\nRequirement already satisfied: chardet<3.1.0,>=3.0.2 in /home/nbuser/anaconda3_501/lib/python3.6/site-packages (from requests>=1.2.1->pycbc) (3.0.4)\nRequirement already satisfied: certifi>=2017.4.17 in /home/nbuser/anaconda3_501/lib/python3.6/site-packages (from requests>=1.2.1->pycbc) (2018.10.15)\nRequirement already satisfied: urllib3!=1.25.0,!=1.25.1,<1.26,>=1.21.1 in /home/nbuser/anaconda3_501/lib/python3.6/site-packages (from requests>=1.2.1->pycbc) (1.23)\nRequirement already satisfied: idna<2.9,>=2.5 in /home/nbuser/anaconda3_501/lib/python3.6/site-packages (from requests>=1.2.1->pycbc) (2.7)\nRequirement already satisfied: setuptools in /home/nbuser/anaconda3_501/lib/python3.6/site-packages (from kiwisolver>=1.0.1->matplotlib->lalsuite) (41.0.1)\nRequirement already satisfied: cryptography>=2.2.1 in /home/nbuser/anaconda3_501/lib/python3.6/site-packages (from pyOpenSSL->lscsoft-glue->lalsuite) (2.3.1)\nRequirement already satisfied: asn1crypto>=0.21.0 in /home/nbuser/anaconda3_501/lib/python3.6/site-packages (from cryptography>=2.2.1->pyOpenSSL->lscsoft-glue->lalsuite) (0.24.0)\nRequirement already satisfied: cffi!=1.11.3,>=1.7 in /home/nbuser/anaconda3_501/lib/python3.6/site-packages (from cryptography>=2.2.1->pyOpenSSL->lscsoft-glue->lalsuite) (1.11.5)\nRequirement already satisfied: pycparser in /home/nbuser/anaconda3_501/lib/python3.6/site-packages (from cffi!=1.11.3,>=1.7->cryptography>=2.2.1->pyOpenSSL->lscsoft-glue->lalsuite) (2.19)\nBuilding wheels for collected packages: pycbc, ligo-segments, lscsoft-glue, Mako, mpld3, emcee\n  Building wheel for pycbc (setup.py) ... \u001b[?25ldone\n\u001b[?25h  Stored in directory: /home/nbuser/.cache/pip/wheels/3f/7c/19/4914de84108f2eb0aad470552315bcb067a636050e2a1a9437\n  Building wheel for ligo-segments (setup.py) ... \u001b[?25ldone\n\u001b[?25h  Stored in directory: /home/nbuser/.cache/pip/wheels/5d/1e/4a/ab4122baed7d67f6abce65b2b12049d3bc7fe5dad24edf89df\n  Building wheel for lscsoft-glue (setup.py) ... \u001b[?25ldone\n\u001b[?25h  Stored in directory: /home/nbuser/.cache/pip/wheels/aa/fa/38/d61b002c627ca54f03755b9a288f4b1fa83291608a4bc47b7b\n  Building wheel for Mako (setup.py) ... \u001b[?25ldone\n\u001b[?25h  Stored in directory: /home/nbuser/.cache/pip/wheels/cc/0e/59/0e7f24103d1ebce045037aa17b75548a8387f5e7d2d0011fdc\n  Building wheel for mpld3 (setup.py) ... \u001b[?25ldone\n\u001b[?25h  Stored in directory: /home/nbuser/.cache/pip/wheels/c0/47/fb/8a64f89aecfe0059830479308ad42d62e898a3e3cefdf6ba28\n  Building wheel for emcee (setup.py) ... \u001b[?25ldone\n\u001b[?25h  Stored in directory: /home/nbuser/.cache/pip/wheels/2f/5d/a5/78f84e23329ad7d9b1787c9d24371100cae74cdefe25eba50d\nSuccessfully built pycbc ligo-segments lscsoft-glue Mako mpld3 emcee\nInstalling collected packages: ligo-segments, lscsoft-glue, lalsuite, Mako, mpld3, emcee, pycbc\nSuccessfully installed Mako-1.0.13 emcee-2.2.1 lalsuite-6.59 ligo-segments-1.2.0 lscsoft-glue-2.0.0 mpld3-0.3 pycbc-1.14.1\n",
          "name": "stdout"
        }
      ]
    },
    {
      "metadata": {},
      "cell_type": "markdown",
      "source": "Any reliable library will have documentation, which should explain how to use the program. The documentation for `PyCBC` can be found at http://pycbc.org/pycbc/latest/html/py-modindex.html. If you have questions about the methods we're using, check out the documentation first."
    },
    {
      "metadata": {},
      "cell_type": "markdown",
      "source": "### Accessing LIGO Data"
    },
    {
      "metadata": {},
      "cell_type": "markdown",
      "source": "`PyCBC` pulls its data from https://www.gw-openscience.org/GWTC-1/, which you're welcome to explore. We can access the information through the `pycbc.catalog.Catalog` method, as shown below. \n\nThe `Catalog()` method returns a list of mergers already identified, so we'll iterate through the list and print the name of each merger."
    },
    {
      "metadata": {
        "trusted": true
      },
      "cell_type": "code",
      "source": "from pycbc import catalog\n\nmerger_list = catalog.Catalog()\n\nfor merger in merger_list:\n    print(merger)",
      "execution_count": 7,
      "outputs": [
        {
          "output_type": "stream",
          "text": "GW150914\nGW151012\nGW151226\nGW170104\nGW170608\nGW170729\nGW170809\nGW170814\nGW170817\nGW170818\nGW170823\n",
          "name": "stdout"
        }
      ]
    },
    {
      "metadata": {},
      "cell_type": "markdown",
      "source": "We can take the first merger in the list and find its parameters:"
    },
    {
      "metadata": {
        "trusted": true
      },
      "cell_type": "code",
      "source": "merger1 = merger_list[\"GW150914\"]\n\n#(personal note) next line takes advantage of python's inability to conceal variables\nparameters = merger1.data.keys()\nprint(parameters)",
      "execution_count": 20,
      "outputs": [
        {
          "output_type": "stream",
          "text": "dict_keys(['E_rad', 'L_peak', 'a_final', 'chi_eff', 'distance', 'far_cwb', 'far_gstlal', 'far_pycbc', 'files', 'mass1', 'mass2', 'mchirp', 'mfinal', 'redshift', 'sky_size', 'snr_cwb', 'snr_gstlal', 'snr_pycbc', 'tc', 'utctime'])\n",
          "name": "stdout"
        }
      ]
    },
    {
      "metadata": {},
      "cell_type": "markdown",
      "source": "Each of the items in the list printed above is a parameter of the merger. We can find the value of any of the items above. For example, if you wanted to find the chirp mass, you would use the key `mchirp`."
    },
    {
      "metadata": {
        "trusted": true
      },
      "cell_type": "code",
      "source": "mchirp = merger1.median1d(\"mchirp\")\nprint(\"Chirp mass:\",mchirp)",
      "execution_count": 23,
      "outputs": [
        {
          "output_type": "stream",
          "text": "Chirp mass: 28.6\n",
          "name": "stdout"
        }
      ]
    },
    {
      "metadata": {},
      "cell_type": "markdown",
      "source": "All the values are accessed in the same way, through the `median1d` method.\n\nWe can also access a list of values for all the mergers in the catalog, like so:"
    },
    {
      "metadata": {
        "trusted": true
      },
      "cell_type": "code",
      "source": "#We can get a list of all chirp masses, and print the whole list\nmchirp_list = merger_list.median1d('mchirp')\nprint(mchirp_list)\n\n#Or we can iterate through each merger, and print each chirp mass in turn\nfor merger in merger_list:\n    this_mchirp = merger_list[merger].median1d(\"mchirp\")\n    print(merger + \":\",this_mchirp)",
      "execution_count": 29,
      "outputs": [
        {
          "output_type": "stream",
          "text": "[28.6   15.2    8.9   21.5    7.9   35.7   25.    24.2    1.186 26.7\n 29.3  ]\nGW150914: 28.6\nGW151012: 15.2\nGW151226: 8.9\nGW170104: 21.5\nGW170608: 7.9\nGW170729: 35.7\nGW170809: 25.0\nGW170814: 24.2\nGW170817: 1.186\nGW170818: 26.7\nGW170823: 29.3\n",
          "name": "stdout"
        }
      ]
    },
    {
      "metadata": {
        "trusted": true
      },
      "cell_type": "code",
      "source": "",
      "execution_count": null,
      "outputs": []
    }
  ],
  "metadata": {
    "kernelspec": {
      "name": "python36",
      "display_name": "Python 3.6",
      "language": "python"
    },
    "language_info": {
      "mimetype": "text/x-python",
      "nbconvert_exporter": "python",
      "name": "python",
      "pygments_lexer": "ipython3",
      "version": "3.6.6",
      "file_extension": ".py",
      "codemirror_mode": {
        "version": 3,
        "name": "ipython"
      }
    }
  },
  "nbformat": 4,
  "nbformat_minor": 2
}
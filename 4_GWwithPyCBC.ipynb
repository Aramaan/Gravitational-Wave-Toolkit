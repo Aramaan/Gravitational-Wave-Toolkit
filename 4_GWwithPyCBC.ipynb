{
  "cells": [
    {
      "metadata": {
        "collapsed": true
      },
      "cell_type": "markdown",
      "source": "# Gravitational Waves with PyCBC"
    },
    {
      "metadata": {},
      "cell_type": "markdown",
      "source": "Python is a particularly useful language because many people have add libraries to it, allowing it to be used in many different contexts. One such library is `PyCBC`, which is what we will be using in our analysis of gravitational waves.\n\nFirst, we have to install the library. *Optional explanation below.*\n\n\n*The line `!pip install lalsuite pycbc` below will install everything you need. Here is an explanation of what that line means:<br>\n`!` - Tells the Jupyter notebook to switch from Python to shell commands, also known as command-line, which is basically just another (very useful) language.<br>\n`pip` - A program accessed from the shell that will allow us to install stuff.<br>\n`install` - A command for the `pip` program.<br>\n`lalsuite` - The argument that tells `pip` what to install. `lalsuite` is a library that `pycbc` relies on, so we have to install it too.<br>\n`pycbc` - Another argument, that tells `pip` to install this library.<br>*"
    },
    {
      "metadata": {
        "trusted": true
      },
      "cell_type": "code",
      "source": "!pip install lalsuite pycbc",
      "execution_count": 1,
      "outputs": [
        {
          "output_type": "stream",
          "text": "Collecting lalsuite\n\u001b[?25l  Downloading https://files.pythonhosted.org/packages/be/08/b493820ba45e4c251ed239ab67607ab7a43424aab7d464eaaaa64ba14529/lalsuite-6.57-cp36-cp36m-manylinux1_x86_64.whl (30.2MB)\n\u001b[K     |████████████████████████████████| 30.2MB 36kB/s  eta 0:00:011\n\u001b[?25hCollecting pycbc\n\u001b[?25l  Downloading https://files.pythonhosted.org/packages/43/3b/16201e9fb48a213a4883225d8b8512fffcfaab96dcb17b238b689f631352/PyCBC-1.13.8.tar.gz (3.0MB)\n\u001b[K     |████████████████████████████████| 3.0MB 26.2MB/s eta 0:00:01\n\u001b[?25hCollecting ligo-segments (from lalsuite)\n\u001b[?25l  Downloading https://files.pythonhosted.org/packages/62/cd/225e331e95cf6aff8ba13bf9a8053b29248a5e71f7fa9bbb1f0db1eaadff/ligo-segments-1.2.0.tar.gz (48kB)\n\u001b[K     |████████████████████████████████| 51kB 15.7MB/s eta 0:00:01\n\u001b[?25hRequirement already satisfied: numpy>=1.7 in /home/nbuser/anaconda3_501/lib/python3.6/site-packages (from lalsuite) (1.16.2)\nCollecting lscsoft-glue (from lalsuite)\n\u001b[?25l  Downloading https://files.pythonhosted.org/packages/3b/65/e93853bc1876516db8d58f4590dba1d6b85eaf9d1bd375926ac7897e525a/lscsoft-glue-2.0.0.tar.gz (1.6MB)\n\u001b[K     |████████████████████████████████| 1.6MB 24.8MB/s eta 0:00:01\n\u001b[?25hRequirement already satisfied: python-dateutil in /home/nbuser/anaconda3_501/lib/python3.6/site-packages (from lalsuite) (2.7.5)\nRequirement already satisfied: scipy in /home/nbuser/anaconda3_501/lib/python3.6/site-packages (from lalsuite) (1.1.0)\nRequirement already satisfied: matplotlib in /home/nbuser/anaconda3_501/lib/python3.6/site-packages (from lalsuite) (3.0.0)\nCollecting Mako>=1.0.1 (from pycbc)\n\u001b[?25l  Downloading https://files.pythonhosted.org/packages/f9/93/63f78c552e4397549499169198698de23b559b52e57f27d967690811d16d/Mako-1.0.10.tar.gz (460kB)\n\u001b[K     |████████████████████████████████| 460kB 23.8MB/s eta 0:00:01\n\u001b[?25hRequirement already satisfied: cython in /home/nbuser/anaconda3_501/lib/python3.6/site-packages (from pycbc) (0.28.5)\nRequirement already satisfied: decorator>=3.4.2 in /home/nbuser/anaconda3_501/lib/python3.6/site-packages (from pycbc) (4.3.0)\nRequirement already satisfied: pillow in /home/nbuser/anaconda3_501/lib/python3.6/site-packages (from pycbc) (5.3.0)\nRequirement already satisfied: h5py>=2.5 in /home/nbuser/anaconda3_501/lib/python3.6/site-packages (from pycbc) (2.8.0)\nRequirement already satisfied: jinja2 in /home/nbuser/anaconda3_501/lib/python3.6/site-packages (from pycbc) (2.10)\nCollecting mpld3>=0.3 (from pycbc)\n\u001b[?25l  Downloading https://files.pythonhosted.org/packages/91/95/a52d3a83d0a29ba0d6898f6727e9858fe7a43f6c2ce81a5fe7e05f0f4912/mpld3-0.3.tar.gz (788kB)\n\u001b[K     |████████████████████████████████| 798kB 24.6MB/s eta 0:00:01\n\u001b[?25hCollecting emcee==2.2.1 (from pycbc)\n  Downloading https://files.pythonhosted.org/packages/3f/d3/7635106605dedccd08705beac53be4c43a8da1caad6be667adbf93ed0965/emcee-2.2.1.tar.gz\nRequirement already satisfied: requests>=1.2.1 in /home/nbuser/anaconda3_501/lib/python3.6/site-packages (from pycbc) (2.21.0)\nRequirement already satisfied: beautifulsoup4>=4.6.0 in /home/nbuser/anaconda3_501/lib/python3.6/site-packages (from pycbc) (4.6.3)\nRequirement already satisfied: six>=1.10.0 in /home/nbuser/anaconda3_501/lib/python3.6/site-packages (from pycbc) (1.11.0)\nRequirement already satisfied: astropy>=2.0.3 in /home/nbuser/anaconda3_501/lib/python3.6/site-packages (from pycbc) (3.0.4)\nRequirement already satisfied: pyOpenSSL in /home/nbuser/anaconda3_501/lib/python3.6/site-packages (from lscsoft-glue->lalsuite) (18.0.0)\nRequirement already satisfied: cycler>=0.10 in /home/nbuser/anaconda3_501/lib/python3.6/site-packages (from matplotlib->lalsuite) (0.10.0)\nRequirement already satisfied: kiwisolver>=1.0.1 in /home/nbuser/anaconda3_501/lib/python3.6/site-packages (from matplotlib->lalsuite) (1.0.1)\nRequirement already satisfied: pyparsing!=2.0.4,!=2.1.2,!=2.1.6,>=2.0.1 in /home/nbuser/anaconda3_501/lib/python3.6/site-packages (from matplotlib->lalsuite) (2.3.0)\nRequirement already satisfied: MarkupSafe>=0.9.2 in /home/nbuser/anaconda3_501/lib/python3.6/site-packages (from Mako>=1.0.1->pycbc) (1.1.0)\nRequirement already satisfied: chardet<3.1.0,>=3.0.2 in /home/nbuser/anaconda3_501/lib/python3.6/site-packages (from requests>=1.2.1->pycbc) (3.0.4)\nRequirement already satisfied: idna<2.9,>=2.5 in /home/nbuser/anaconda3_501/lib/python3.6/site-packages (from requests>=1.2.1->pycbc) (2.7)\nRequirement already satisfied: urllib3<1.25,>=1.21.1 in /home/nbuser/anaconda3_501/lib/python3.6/site-packages (from requests>=1.2.1->pycbc) (1.23)\nRequirement already satisfied: certifi>=2017.4.17 in /home/nbuser/anaconda3_501/lib/python3.6/site-packages (from requests>=1.2.1->pycbc) (2018.10.15)\nRequirement already satisfied: cryptography>=2.2.1 in /home/nbuser/anaconda3_501/lib/python3.6/site-packages (from pyOpenSSL->lscsoft-glue->lalsuite) (2.3.1)\nRequirement already satisfied: setuptools in /home/nbuser/anaconda3_501/lib/python3.6/site-packages (from kiwisolver>=1.0.1->matplotlib->lalsuite) (41.0.1)\nRequirement already satisfied: asn1crypto>=0.21.0 in /home/nbuser/anaconda3_501/lib/python3.6/site-packages (from cryptography>=2.2.1->pyOpenSSL->lscsoft-glue->lalsuite) (0.24.0)\nRequirement already satisfied: cffi!=1.11.3,>=1.7 in /home/nbuser/anaconda3_501/lib/python3.6/site-packages (from cryptography>=2.2.1->pyOpenSSL->lscsoft-glue->lalsuite) (1.11.5)\nRequirement already satisfied: pycparser in /home/nbuser/anaconda3_501/lib/python3.6/site-packages (from cffi!=1.11.3,>=1.7->cryptography>=2.2.1->pyOpenSSL->lscsoft-glue->lalsuite) (2.19)\nBuilding wheels for collected packages: pycbc, ligo-segments, lscsoft-glue, Mako, mpld3, emcee\n  Building wheel for pycbc (setup.py) ... \u001b[?25ldone\n\u001b[?25h  Stored in directory: /home/nbuser/.cache/pip/wheels/be/47/d8/cca1bc9cb29566915790a086335462eee7b8a1e7463f226b49\n  Building wheel for ligo-segments (setup.py) ... \u001b[?25ldone\n\u001b[?25h  Stored in directory: /home/nbuser/.cache/pip/wheels/5d/1e/4a/ab4122baed7d67f6abce65b2b12049d3bc7fe5dad24edf89df\n  Building wheel for lscsoft-glue (setup.py) ... \u001b[?25ldone\n\u001b[?25h  Stored in directory: /home/nbuser/.cache/pip/wheels/aa/fa/38/d61b002c627ca54f03755b9a288f4b1fa83291608a4bc47b7b\n  Building wheel for Mako (setup.py) ... \u001b[?25ldone\n\u001b[?25h  Stored in directory: /home/nbuser/.cache/pip/wheels/82/59/50/e9c6d83cf76c5f09e2f3eb976e38d4d5578ed37585e960a150\n  Building wheel for mpld3 (setup.py) ... \u001b[?25ldone\n\u001b[?25h  Stored in directory: /home/nbuser/.cache/pip/wheels/c0/47/fb/8a64f89aecfe0059830479308ad42d62e898a3e3cefdf6ba28\n  Building wheel for emcee (setup.py) ... \u001b[?25ldone\n\u001b[?25h  Stored in directory: /home/nbuser/.cache/pip/wheels/2f/5d/a5/78f84e23329ad7d9b1787c9d24371100cae74cdefe25eba50d\nSuccessfully built pycbc ligo-segments lscsoft-glue Mako mpld3 emcee\n\u001b[31mERROR: pycbc 1.13.8 has requirement numpy<1.15.3,>=1.13.0, but you'll have numpy 1.16.2 which is incompatible.\u001b[0m\nInstalling collected packages: ligo-segments, lscsoft-glue, lalsuite, Mako, mpld3, emcee, pycbc\nSuccessfully installed Mako-1.0.10 emcee-2.2.1 lalsuite-6.57 ligo-segments-1.2.0 lscsoft-glue-2.0.0 mpld3-0.3 pycbc-1.13.8\n\u001b[33mWARNING: You are using pip version 19.1, however version 19.1.1 is available.\nYou should consider upgrading via the 'pip install --upgrade pip' command.\u001b[0m\n",
          "name": "stdout"
        }
      ]
    },
    {
      "metadata": {},
      "cell_type": "markdown",
      "source": "Any reliable library will have documentation, which should explain how to use the program. The documentation for `PyCBC` can be found at http://pycbc.org/pycbc/latest/html/py-modindex.html. If you have questions about the methods we're using, check out the documentation first."
    },
    {
      "metadata": {},
      "cell_type": "markdown",
      "source": "### Accessing LIGO Data"
    },
    {
      "metadata": {},
      "cell_type": "markdown",
      "source": "`PyCBC` pulls its data from https://www.gw-openscience.org/GWTC-1/, which you're welcome to explore. We can access the information through the `pycbc.catalog.Catalog` method, as shown below. \n\nThe `Catalog()` method returns a list of mergers already identified, so we'll iterate through the list and print the name of each merger."
    },
    {
      "metadata": {
        "trusted": true
      },
      "cell_type": "code",
      "source": "from pycbc import catalog\n\nmerger_list = catalog.Catalog()\n\nfor merger in merger_list:\n    print(merger)",
      "execution_count": 2,
      "outputs": [
        {
          "output_type": "stream",
          "text": "Downloading https://www.gw-openscience.org/catalog/GWTC-1-confident/filelist/ [Done]\nGW150914\nGW151012\nGW151226\nGW170104\nGW170608\nGW170729\nGW170809\nGW170814\nGW170817\nGW170818\nGW170823\n",
          "name": "stdout"
        }
      ]
    }
  ],
  "metadata": {
    "kernelspec": {
      "name": "python36",
      "display_name": "Python 3.6",
      "language": "python"
    },
    "language_info": {
      "mimetype": "text/x-python",
      "nbconvert_exporter": "python",
      "name": "python",
      "pygments_lexer": "ipython3",
      "version": "3.6.6",
      "file_extension": ".py",
      "codemirror_mode": {
        "version": 3,
        "name": "ipython"
      }
    }
  },
  "nbformat": 4,
  "nbformat_minor": 2
}
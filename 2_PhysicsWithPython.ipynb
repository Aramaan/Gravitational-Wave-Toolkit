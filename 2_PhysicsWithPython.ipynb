{
  "cells": [
    {
      "metadata": {},
      "cell_type": "markdown",
      "source": "## Physics with Python : How to Solve Problems\n\nAs the title says, we are using our new Python to solve the problems below. Most problems will challenge your previous knowledge of physics. Take your time and make sure to throughly think through each problem."
    },
    {
      "metadata": {},
      "cell_type": "markdown",
      "source": "Remember to make your code clear and concise, and use the appropriate labels. "
    },
    {
      "metadata": {},
      "cell_type": "markdown",
      "source": "#### Example 1: Conversion\nAs physicists, converting from one measurement to another is integral. Functions that do said conversions give less user error and save time. Make sure the below requirements are met\n\n    a) Write a function converting Cartesian coordinates to polar coordinates.\n        * Print a statement stating the entered Cartesian and the new polar coordinates\n        * print theta in degrees\n        * Round polar coordinates to two decimal places"
    },
    {
      "metadata": {
        "trusted": true
      },
      "cell_type": "code",
      "source": "import math\n\ndef coordinateConv(x, y):\n    \n    z = (x ** 2) + (y ** 2)\n    \n    r = math.sqrt(z)\n    \n    theta = math.atan(y/x)\n    \n    return print(\"The Cartesian Coordinates are x = \", x,\"and y = \", y, \n                 \"which convert to r = \", round(r, 2),\" and theta = \", round(math.degrees(theta), 2))\n    ",
      "execution_count": 14,
      "outputs": []
    },
    {
      "metadata": {
        "trusted": true
      },
      "cell_type": "code",
      "source": "coordinateConv(2,3)",
      "execution_count": 15,
      "outputs": [
        {
          "output_type": "stream",
          "text": "The Cartesian Coordinates are x =  2 and y =  3 which convert to r =  3.61  and theta =  56.31\n",
          "name": "stdout"
        }
      ]
    },
    {
      "metadata": {
        "trusted": true
      },
      "cell_type": "markdown",
      "source": "    b) Write a function converting Fahreneheiht to Kelvin\n        * Round to two decimal places\n        * Return the Kelvin value with a simple print statement"
    },
    {
      "metadata": {
        "trusted": true
      },
      "cell_type": "code",
      "source": "def tempConv(f): \n    \n    k = ((f - 32) * (5/9)) + 273 \n    \n    return print (\"The Kelvin temperature is\", round(k,2))",
      "execution_count": 18,
      "outputs": []
    },
    {
      "metadata": {
        "trusted": true
      },
      "cell_type": "code",
      "source": "tempConv(46)",
      "execution_count": 19,
      "outputs": [
        {
          "output_type": "stream",
          "text": "The Kelvin temperature is 280.78\n",
          "name": "stdout"
        }
      ]
    },
    {
      "metadata": {},
      "cell_type": "markdown",
      "source": "#### Example 2: Fibonacci\n    For those who are unfamiliar with the Fibonacci sequence, the numbers follow a distinct pattern. Each number is the sum of the two before. The first ten numbers of the sequence are as so : 1, 1, 2, 3, 5, 8, 13, 21, 34, 55\n    \n    In six lines of code or less, print the the first 10 numbers in the fibbonacci sequence starting with 1. Spaces do not count, but please use them."
    },
    {
      "metadata": {
        "trusted": true
      },
      "cell_type": "code",
      "source": "def fibonacci():\n    num1 = 1\n    num2 = 1\n    \n    while num2 < 56:\n        print(num2)\n        num1, num2 = num2, num1 + num2  ## need to mention how to do this?\n        \n        \nfibonacci()",
      "execution_count": 7,
      "outputs": [
        {
          "output_type": "stream",
          "text": "1\n2\n3\n5\n8\n13\n21\n34\n55\n",
          "name": "stdout"
        }
      ]
    },
    {
      "metadata": {
        "trusted": true
      },
      "cell_type": "code",
      "source": "def fibonacci(i):\n    if(i == 1 or i == 2):\n        return 1\n    return fibonacci(i-1) + fibonacci(i-2)\n\nprint(fibonacci(10))",
      "execution_count": 1,
      "outputs": [
        {
          "output_type": "stream",
          "text": "55\n",
          "name": "stdout"
        }
      ]
    },
    {
      "metadata": {},
      "cell_type": "markdown",
      "source": "#### Example 3 : Kinematics \n    a) Solve for $v_o$ in the equation $v^2=[v_o]^2+2a(x_2-x_1)$ using the function template below\n    b) Solve for $t$ in the equation $x=x_o+v_ot+frac{1}{2}at^2$"
    },
    {
      "metadata": {
        "trusted": true
      },
      "cell_type": "code",
      "source": "import math\n\ndef kinematics1(v2, acc, x1, x2): \n    \n    b = (2 * acc) * (x2 - x1)\n    \n    v1 = math.sqrt((v2 ** 2) - b)\n    \n    return v1\n\n\nkinematics1(10, 2, 0, 4)",
      "execution_count": 13,
      "outputs": [
        {
          "output_type": "execute_result",
          "execution_count": 13,
          "data": {
            "text/plain": "9.16515138991168"
          },
          "metadata": {}
        }
      ]
    },
    {
      "metadata": {
        "trusted": true
      },
      "cell_type": "code",
      "source": "def kinematics2(x2, x1, v1, acc):\n    \n    a = 0.5 * acc\n    b = v1\n    c = x1 -x2\n    \n    t1 = (- b + math.sqrt((b ** 2) - (4 * a * c))) / (2 * a)\n    t2 = (- b - math.sqrt((b ** 2) - (4 * a * c))) / (2 * a)\n    \n    if t2 < 0 :\n        return t1 \n    elif t1 < 0 : \n        return t2 \n\n\nkinematics2(3, 0, 0, 12)",
      "execution_count": 17,
      "outputs": [
        {
          "output_type": "execute_result",
          "execution_count": 17,
          "data": {
            "text/plain": "0.7071067811865475"
          },
          "metadata": {}
        }
      ]
    },
    {
      "metadata": {},
      "cell_type": "markdown",
      "source": "#### Example 4: Light \n\n    a) Using If/Elif/Else statements create a function that tells if the light ray stays within the medium. The angles are entered in degrees.\n    b) Editing part a); If the angle is reflected back into the medium, calculate the new angle \n    c) At what angle does does it reflect into the new medium using Snell's Law"
    },
    {
      "metadata": {
        "trusted": true
      },
      "cell_type": "code",
      "source": "import math\n\ndef rays(origAngle, n1, n2):\n    \n    crit = math.asin(n2/n1)\n    \n    if origAngle == crit :\n        return print(\"The angle returns at 90 degrees\")\n    elif origAngle > crit : \n        return print(\"The light ray is reflected back into the surface\")\n    else :\n        return print(\"The angle is reflected into the second medium\")\n    \n    \nrays(62, 1.4, 1.0)",
      "execution_count": 6,
      "outputs": [
        {
          "output_type": "stream",
          "text": "The light ray is reflected back into the surface\n",
          "name": "stdout"
        }
      ]
    },
    {
      "metadata": {
        "trusted": true
      },
      "cell_type": "code",
      "source": "import math\n\ndef snellsLaw(origAngle, n1, n2):\n    \n    radAngle = math.radians(origAngle)\n    \n    origSide = n1 * math.sin(radAngle)\n    \n    newAngle = math.asin(origSide / n2)\n    \n    return print(\"The angle in the new medium is \", math.degrees(newAngle))\n\n\nsnellsLaw(32, 1.2, 1.0)",
      "execution_count": 7,
      "outputs": [
        {
          "output_type": "stream",
          "text": "The angle in the new medium is  39.48699920101498\n",
          "name": "stdout"
        }
      ]
    },
    {
      "metadata": {},
      "cell_type": "markdown",
      "source": "#### Example 5: Graphs \n    a) Graph $$12cos(4x)$$ with appropriate labels \n    b) For the equation $f(x)=(x-4)^2+2$ find f(x) for [0-20] and put them into a file. Read the file in and graph the output with appropriate labels "
    },
    {
      "metadata": {
        "trusted": true
      },
      "cell_type": "code",
      "source": "import pylab \nimport numpy\n\ndef f(x, t):\n    return 12 * numpy.cos(4 * x)\n\n\n",
      "execution_count": null,
      "outputs": []
    },
    {
      "metadata": {
        "trusted": true
      },
      "cell_type": "code",
      "source": "",
      "execution_count": null,
      "outputs": []
    },
    {
      "metadata": {},
      "cell_type": "markdown",
      "source": "#### Example 6: Matrices \n    a) Solve the cross product"
    },
    {
      "metadata": {
        "trusted": true
      },
      "cell_type": "code",
      "source": "",
      "execution_count": null,
      "outputs": []
    },
    {
      "metadata": {},
      "cell_type": "markdown",
      "source": "#### Example 7: Linear Curve Fits"
    },
    {
      "metadata": {
        "trusted": true
      },
      "cell_type": "code",
      "source": "",
      "execution_count": null,
      "outputs": []
    }
  ],
  "metadata": {
    "kernelspec": {
      "name": "python36",
      "display_name": "Python 3.6",
      "language": "python"
    },
    "language_info": {
      "mimetype": "text/x-python",
      "nbconvert_exporter": "python",
      "name": "python",
      "pygments_lexer": "ipython3",
      "version": "3.6.6",
      "file_extension": ".py",
      "codemirror_mode": {
        "version": 3,
        "name": "ipython"
      }
    }
  },
  "nbformat": 4,
  "nbformat_minor": 2
}
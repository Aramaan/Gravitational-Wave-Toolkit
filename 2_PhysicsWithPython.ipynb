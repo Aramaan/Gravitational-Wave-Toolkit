{
  "cells": [
    {
      "metadata": {},
      "cell_type": "markdown",
      "source": "## Physics with Python: Solving Problems\n\nThis section requires us to use our new Python skills to solve problems in physics. Most problems will rely upon your previous knowledge of physics. Take your time and make sure to thoroughly think through each problem."
    },
    {
      "metadata": {},
      "cell_type": "markdown",
      "source": "Remember to make your code clear and concise, and use the appropriate labels. Add comments to explain your thought process."
    },
    {
      "metadata": {},
      "cell_type": "markdown",
      "source": "#### Example 1: Conversion\nCoding common conversions can easily save you time down the road. First we consider the conversion from Cartesian coordinates (x and y) to polar coordinates (r and $\\theta$).\n\na) Write a function converting Cartesian coordinates to polar coordinates.\n* Print a statement stating the original Cartesian and the new polar coordinates\n* print $\\theta$ in degrees\n* Round polar coordinates to two decimal places"
    },
    {
      "metadata": {
        "trusted": true
      },
      "cell_type": "code",
      "source": "import math\n\ndef coordinateConv(x, y):\n    pass\n    ",
      "execution_count": null,
      "outputs": []
    },
    {
      "metadata": {
        "trusted": true
      },
      "cell_type": "code",
      "source": "# use statements like this to test your code\n# feel free to modify this to test it with different values\nprint(coordinateConv(2,3))",
      "execution_count": null,
      "outputs": []
    },
    {
      "metadata": {
        "trusted": true
      },
      "cell_type": "markdown",
      "source": "b) Write a function converting Fahreneheit to Kelvin\n* Round to two decimal places\n* Return the Kelvin value with a simple print statement"
    },
    {
      "metadata": {
        "trusted": true
      },
      "cell_type": "code",
      "source": "def tempConv(f): \n    pass",
      "execution_count": null,
      "outputs": []
    },
    {
      "metadata": {
        "trusted": true
      },
      "cell_type": "code",
      "source": "print(tempConv(46))",
      "execution_count": null,
      "outputs": []
    },
    {
      "metadata": {},
      "cell_type": "markdown",
      "source": "#### Example 2: Fibonacci\nFor those who are unfamiliar with the Fibonacci sequence, the numbers follow a distinct pattern. Each number is the sum of the two before. The first ten numbers of the sequence are as so : 1, 1, 2, 3, 5, 8, 13, 21, 34, 55\n    \nIn a recursive function, print the the first 10 numbers in the fibbonacci sequence starting with 1. "
    },
    {
      "metadata": {
        "trusted": true
      },
      "cell_type": "code",
      "source": "def fibonacci():\n    pass\n        \n        \nfibonacci()",
      "execution_count": null,
      "outputs": []
    },
    {
      "metadata": {},
      "cell_type": "markdown",
      "source": "In five lines of code or less, print out the 10th number of the fibonacci sequence. "
    },
    {
      "metadata": {
        "trusted": true
      },
      "cell_type": "code",
      "source": "",
      "execution_count": null,
      "outputs": []
    },
    {
      "metadata": {},
      "cell_type": "markdown",
      "source": "#### Example 3: Kinematics \nKinematics are some of the first functions physicists learn. These common equations are easily translated into code.\n\na) Solve for $v_o$ in the equation $v^2=[v_o]^2+2a(x_2-x_1)$ using the function template below."
    },
    {
      "metadata": {
        "trusted": true
      },
      "cell_type": "code",
      "source": "import math\n\ndef kinematics1(v2, acc, x1, x2): \n    pass\n\n\nprint(kinematics1(10, 2, 0, 4))",
      "execution_count": null,
      "outputs": []
    },
    {
      "metadata": {},
      "cell_type": "markdown",
      "source": "b) Solve for the correct $t$ in the equation $x=x_o+v_ot+\\frac{1}{2}at^2$. Assume time can only be positive. Import libraries as necessary."
    },
    {
      "metadata": {
        "trusted": true
      },
      "cell_type": "code",
      "source": "def kinematics2(x2, x1, v1, acc):\n    pass\n\n\nprint(kinematics2(3, 0, 0, 12))",
      "execution_count": null,
      "outputs": []
    },
    {
      "metadata": {},
      "cell_type": "markdown",
      "source": "#### Example 4: Light \n\nLight rays have some interesting properties. When traveling between mediums, the angle of refraction differs from the angle of interference depending on the density of the mediums. The critical angle is important for deciding how the light ray acts within the second medium. \n\nImport libraries as necessary.\n\na) Using If/Elif/Else statements, create a function that calculates if the light ray stays within the medium. The angles are entered in degrees.<br>\nb) Edit part (a) to calculate the angle if the angle is reflected back into the medium<br>\nc) At what angle does does it reflect into the new medium, (Snells Law)"
    },
    {
      "metadata": {
        "trusted": true
      },
      "cell_type": "code",
      "source": "def rays(origAngle, n1, n2): #return a message stating what the light ray does\n    pass\n    \n    \nprint(rays(62, 1.4, 1.0)) ",
      "execution_count": null,
      "outputs": []
    },
    {
      "metadata": {
        "trusted": true
      },
      "cell_type": "code",
      "source": "def snellsLaw(origAngle, n1, n2): #return the angle\n    pass\n\n\nprint(snellsLaw(32, 1.2, 1.0))",
      "execution_count": null,
      "outputs": []
    },
    {
      "metadata": {},
      "cell_type": "markdown",
      "source": "#### Example 5: Graphs \n\nImport libraries as needed.\n\na) Graph $12cos(4x)$ with appropriate labels in the same cell. Label both axes and graph."
    },
    {
      "metadata": {
        "trusted": true
      },
      "cell_type": "code",
      "source": "\n\n",
      "execution_count": null,
      "outputs": []
    },
    {
      "metadata": {},
      "cell_type": "markdown",
      "source": "b) For the equation $f(x)=(x-4)^2+2$ find f(x) for [0-20] and put the values into a file. Read the file in and graph the output with appropriate labels."
    },
    {
      "metadata": {
        "trusted": true
      },
      "cell_type": "code",
      "source": "list = []\n\nwith open(\"Equations.txt\", \"w\") as f:#keep this line\n    pass\n\n    \n        \n# heads up: x and y need to be a list of ints, not strings, when you plot them",
      "execution_count": null,
      "outputs": []
    },
    {
      "metadata": {},
      "cell_type": "markdown",
      "source": "#### Example 6: Matrices \n\nMatrices in Python can be represented with nested arrays. \n$$A = \\begin{bmatrix}2&5&1\\\\-3&4&3\\\\9&2&4\\end{bmatrix}$$\nis equivalent to:<br>\n`A=[ [2, 5, 1], \n     [-3, 4, 3],\n     [9, 2, 4] ]`\n\n a) Without use of a library, write a function to add two matrices. Recall that when for the example matrix equation $A+B=C$, at some row `r` and column `c`, $$C_{r,c} = A_{r,c}+B_{r,c}$$\n b) Create any three same-size matrices, then use the function in part (a) to show how you could add the three matrices."
    },
    {
      "metadata": {
        "trusted": true
      },
      "cell_type": "code",
      "source": "def AddMatrices(A, B):\n    C = []\n    \n    #hint: you should have two for loops, nested, here\n    \n    return C",
      "execution_count": null,
      "outputs": []
    },
    {
      "metadata": {
        "trusted": true
      },
      "cell_type": "code",
      "source": "",
      "execution_count": null,
      "outputs": []
    },
    {
      "metadata": {},
      "cell_type": "markdown",
      "source": " c) With the `numpy` library and within the same cell, write a function that returns the $\\hat{i}$, $\\hat{j}$, and $\\hat{k}$ component of a vector you input. \n \n d) In the same cell as c), write a function that produces the cross product of the two vectors."
    },
    {
      "metadata": {
        "trusted": true
      },
      "cell_type": "code",
      "source": "from numpy import array #import libraries as necessary\n\nihat = array([1,0,0])\njhat = array([0,1,0])\nkhat = array([0,0,1])\n\ndef vector(i, j, k):\n    pass\n\ndef crossTwo(vector1, vector2):\n    pass\n\n# tests:\nprint(crossTwo(ihat, jhat))\n\nnewvector = vector(2,3,4)\nothervector = vector(1, 4, 10)\nprint(crossTwo(newvector,othervector))",
      "execution_count": null,
      "outputs": []
    },
    {
      "metadata": {},
      "cell_type": "markdown",
      "source": "#### Example 7: Curve Fits"
    },
    {
      "metadata": {
        "trusted": true
      },
      "cell_type": "markdown",
      "source": "It's often useful to find a model that closely fits data you've gathered. In the following example, you'll see how to use the `numpy` library, especially the `polyfit()` function, to fit a curve to a set of data."
    },
    {
      "metadata": {
        "trusted": true
      },
      "cell_type": "code",
      "source": "from numpy import polyfit, poly1d, linspace\nimport pylab\n\n#set points\nx = [-2,-1,0,1,2]\ny = [5,1,-1,0,4]\n\n#find fit\nfit = polyfit(x,y,2) # the 2 indicates \"to the second degree\", like a quadratic function\nfunc = poly1d(fit)\n\n#find new points from fit\nx_fit = linspace(x[0], x[-1], 500)\ny_fit = func(x_fit)\n\n#plot\npylab.plot(x, y, 'o', x_fit, y_fit)",
      "execution_count": null,
      "outputs": []
    },
    {
      "metadata": {},
      "cell_type": "markdown",
      "source": "The blue points are the data points we entered as `x` and `y`, whereas the orange curve is our quadratic function of best fit.\n\nNow, below, pull information from the file you used in **Example 5**, *Equations.txt*. Fit a **linear (first degree) function** to the data and plot both the function and data on a graph."
    },
    {
      "metadata": {
        "trusted": true
      },
      "cell_type": "code",
      "source": "from numpy import polyfit, poly1d, linspace\nimport pylab\n\nb = open('Equations.txt') \ndatad = b.readlines()\n\nx = [int(line.split(',')[0]) for line in datad]\ny = [int(line.split(',')[1]) for line in datad]\n    \nfit = polyfit(x,y,1)\nfunc = poly1d(fit)\n\nx_fit = linspace(x[0], x[-1], 500)\ny_fit = func(x_fit)\n\npylab.plot(x, y, 'o', x_fit, y_fit)\npylab.show()\n",
      "execution_count": null,
      "outputs": []
    }
  ],
  "metadata": {
    "kernelspec": {
      "name": "python36",
      "display_name": "Python 3.6",
      "language": "python"
    },
    "language_info": {
      "mimetype": "text/x-python",
      "nbconvert_exporter": "python",
      "name": "python",
      "pygments_lexer": "ipython3",
      "version": "3.6.6",
      "file_extension": ".py",
      "codemirror_mode": {
        "version": 3,
        "name": "ipython"
      }
    }
  },
  "nbformat": 4,
  "nbformat_minor": 2
}